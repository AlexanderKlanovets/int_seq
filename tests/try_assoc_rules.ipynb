{
 "cells": [
  {
   "cell_type": "code",
   "execution_count": 1,
   "metadata": {},
   "outputs": [],
   "source": [
    "import numpy as np\n",
    "import pandas as pd\n",
    "from eda.tools import seq_to_num, acc_score"
   ]
  },
  {
   "cell_type": "code",
   "execution_count": 4,
   "metadata": {},
   "outputs": [],
   "source": [
    "df_train = pd.read_csv('data/train.csv', index_col=0)\n",
    "X_train, y_train = seq_to_num(df_train.Sequence, pad=False)\n",
    "df_test = pd.read_csv('data/test.csv', index_col=0)\n",
    "X_test, y_test = seq_to_num(df_test.Sequence, pad=False)"
   ]
  },
  {
   "cell_type": "code",
   "execution_count": 3,
   "metadata": {},
   "outputs": [],
   "source": [
    "import apyori"
   ]
  },
  {
   "cell_type": "code",
   "execution_count": 5,
   "metadata": {},
   "outputs": [],
   "source": [
    "X_train = df_train.Sequence.str.split(',').map(lambda seq: [int(x) for x in seq])\n",
    "X_test = df_test.Sequence.str.split(',').map(lambda seq: [int(x) for x in seq])"
   ]
  },
  {
   "cell_type": "code",
   "execution_count": 6,
   "metadata": {},
   "outputs": [],
   "source": [
    "ap = list(apyori.apriori(X_train.tolist(), max_length=6, min_length=2))"
   ]
  },
  {
   "cell_type": "code",
   "execution_count": 7,
   "metadata": {},
   "outputs": [],
   "source": [
    "ap_good = sorted(list(filter(lambda x: len(x[0]) > 2, ap)), key=lambda x:x[1], reverse=True)"
   ]
  },
  {
   "cell_type": "code",
   "execution_count": 8,
   "metadata": {},
   "outputs": [
    {
     "data": {
      "text/plain": [
       "425"
      ]
     },
     "execution_count": 8,
     "metadata": {},
     "output_type": "execute_result"
    }
   ],
   "source": [
    "len(ap_good)"
   ]
  },
  {
   "cell_type": "code",
   "execution_count": 12,
   "metadata": {},
   "outputs": [],
   "source": [
    "seq = X_train[:1]"
   ]
  },
  {
   "cell_type": "code",
   "execution_count": 14,
   "metadata": {},
   "outputs": [
    {
     "data": {
      "text/plain": [
       "[[7,\n",
       "  7,\n",
       "  47,\n",
       "  47,\n",
       "  119,\n",
       "  119,\n",
       "  223,\n",
       "  223,\n",
       "  359,\n",
       "  359,\n",
       "  527,\n",
       "  527,\n",
       "  727,\n",
       "  727,\n",
       "  959,\n",
       "  959,\n",
       "  1223,\n",
       "  1223,\n",
       "  1519,\n",
       "  1519,\n",
       "  1847,\n",
       "  1847,\n",
       "  2207,\n",
       "  2207,\n",
       "  2599,\n",
       "  2599,\n",
       "  3023,\n",
       "  3023,\n",
       "  3479,\n",
       "  3479,\n",
       "  3967,\n",
       "  3967,\n",
       "  4487,\n",
       "  4487,\n",
       "  5039,\n",
       "  5039,\n",
       "  5623,\n",
       "  5623,\n",
       "  6239,\n",
       "  6239,\n",
       "  6887,\n",
       "  6887,\n",
       "  7567,\n",
       "  7567,\n",
       "  8279,\n",
       "  8279,\n",
       "  9023,\n",
       "  9023,\n",
       "  9799,\n",
       "  9799,\n",
       "  10607,\n",
       "  10607,\n",
       "  11447,\n",
       "  11447,\n",
       "  12319,\n",
       "  12319,\n",
       "  13223,\n",
       "  13223,\n",
       "  14159,\n",
       "  14159,\n",
       "  15127,\n",
       "  15127,\n",
       "  16127]]"
      ]
     },
     "execution_count": 14,
     "metadata": {},
     "output_type": "execute_result"
    }
   ],
   "source": [
    "seq.tolist()"
   ]
  },
  {
   "cell_type": "code",
   "execution_count": 9,
   "metadata": {},
   "outputs": [],
   "source": [
    "def assoc_seq(seq, apr):\n",
    "    \"\"\"\n",
    "    @param seq: sequence\n",
    "    @param apr: rules found by apriori algorithm\n",
    "    \"\"\"\n",
    "    for rel, sup, stat in apr:\n",
    "        predicate = list(rel)\n",
    "        if np.all([seq_item == pred_item for seq_item in seq[-len(rel) + 1:]]):\n",
    "#             print(f\"Matched: ...{seq[-5:]} with {predicate}, predict: {list(rel)[-1]}\")\n",
    "            return list(rel)[-1]\n",
    "#         print(rel, sup, predicate)"
   ]
  },
  {
   "cell_type": "code",
   "execution_count": 11,
   "metadata": {},
   "outputs": [
    {
     "name": "stderr",
     "output_type": "stream",
     "text": [
      "33864it [03:31, 160.34it/s]"
     ]
    },
    {
     "name": "stdout",
     "output_type": "stream",
     "text": [
      "Accuracy: 0.0\n"
     ]
    },
    {
     "name": "stderr",
     "output_type": "stream",
     "text": [
      "\n"
     ]
    }
   ],
   "source": [
    "import tqdm\n",
    "cnt_matches = 0\n",
    "cnt_success = 0\n",
    "for seq, y_true in tqdm.tqdm(zip(X_test, y_test)):\n",
    "    pred = assoc_seq(seq, ap_good)\n",
    "    if pred is not None:\n",
    "        cnt_matches += 1\n",
    "#         print(f\"True next term: {y_true}\")\n",
    "        if y_true == pred:\n",
    "            cnt_success += 1\n",
    "print(\"Accuracy:\", cnt_success / cnt_matches)"
   ]
  },
  {
   "cell_type": "code",
   "execution_count": 15,
   "metadata": {},
   "outputs": [
    {
     "data": {
      "text/plain": [
       "1118"
      ]
     },
     "execution_count": 15,
     "metadata": {},
     "output_type": "execute_result"
    }
   ],
   "source": [
    "cnt_matches"
   ]
  }
 ],
 "metadata": {
  "kernelspec": {
   "display_name": "Python 3",
   "language": "python",
   "name": "python3"
  },
  "language_info": {
   "codemirror_mode": {
    "name": "ipython",
    "version": 3
   },
   "file_extension": ".py",
   "mimetype": "text/x-python",
   "name": "python",
   "nbconvert_exporter": "python",
   "pygments_lexer": "ipython3",
   "version": "3.6.2"
  }
 },
 "nbformat": 4,
 "nbformat_minor": 2
}
