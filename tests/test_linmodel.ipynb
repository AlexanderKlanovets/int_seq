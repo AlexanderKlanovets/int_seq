{
 "cells": [
  {
   "cell_type": "code",
   "execution_count": 2,
   "metadata": {},
   "outputs": [
    {
     "name": "stderr",
     "output_type": "stream",
     "text": [
      "/Users/ptyshevs/envs/loc_env/lib/python3.6/site-packages/ipykernel_launcher.py:37: FutureWarning: elementwise comparison failed; returning scalar instead, but in the future will perform elementwise comparison\n"
     ]
    }
   ],
   "source": [
    "import pandas as pd\n",
    "import numpy as np\n",
    "import math\n",
    "import time\n",
    "\n",
    "t = time.time()\n",
    "\n",
    "\n",
    "def create_system(sequence, order, start_index_a):\n",
    "    '''\n",
    "    :param sequence: list, where type(item)=int \n",
    "    :param order: recurrent relation order, int(min=2)\n",
    "    :param start_index_a: int, form which index start\n",
    "    :return: a,b (ax=b)\n",
    "    '''\n",
    "    # validation\n",
    "    if len(sequence) < start_index_a + order + order + 1:\n",
    "        # print(\"Impossible create system\")\n",
    "        return '-100', '-100'\n",
    "    # x3=ax0+bx1+c\n",
    "    index_b = start_index_a + order\n",
    "    a = list()\n",
    "    b = [sequence[i] for i in range(index_b, index_b + order + 1)]\n",
    "    for i in range(start_index_a, start_index_a + order + 1):\n",
    "        a.append([sequence[item] for item in range(i, i + order)])\n",
    "    a = np.array(a)\n",
    "    z = np.ones((order + 1, 1))\n",
    "    a = np.append(a, z, axis=1)\n",
    "    b = np.array(b)\n",
    "    return a, b\n",
    "\n",
    "\n",
    "def check_k_order(sequence, order, start_index):\n",
    "    # create system\n",
    "    try:\n",
    "        a, b = create_system(sequence, order, start_index)\n",
    "        if a == '-100':\n",
    "            return -1, 0\n",
    "        solution = np.linalg.solve(a, b)\n",
    "    except np.linalg.linalg.LinAlgError:\n",
    "        return '000', 0\n",
    "    except IndexError:\n",
    "        print('index error')\n",
    "        return '0000', 0\n",
    "    # check if solution satisfied all items in sequence\n",
    "    check = check_solution(sequence, solution)\n",
    "    if check:\n",
    "        return True, solution\n",
    "    else:\n",
    "        return False, '001'\n",
    "\n",
    "\n",
    "def check_solution(sequence, solution, start=3):\n",
    "    n = len(sequence)\n",
    "    # -1 bcs free coef\n",
    "    order = len(solution) - 1\n",
    "    for i in range(start, n - len(solution)):\n",
    "        # індекс не рахує останній елемент, тобто ми не знаємо останнього елементу\n",
    "        x = np.array([sequence[j] for j in range(i, i + order)])\n",
    "        s = np.dot(solution[:order], x) + solution[-1]\n",
    "        if math.fabs(s - sequence[i + order]) > 0.001:\n",
    "            return False\n",
    "    return True\n",
    "\n",
    "\n",
    "def predict_1(sequence):\n",
    "    for i in range(1, 6):\n",
    "        check, solution = check_k_order(sequence, i, 3)\n",
    "\n",
    "        if check is True:\n",
    "            # order satisfied\n",
    "            a = [sequence[j] for j in range(len(sequence) - i, len(sequence))]\n",
    "            # row['predict'] = np.dot(a, solution[:i]) + solution[-1]\n",
    "            return np.dot(a, solution[:i]) + solution[-1]\n",
    "    return '0'\n",
    "\n",
    "\n",
    "def validation(row, max_length=6, slice=15, min_length=8):\n",
    "    row = row.split(',')\n",
    "    if len(row) < min_length:\n",
    "        return -1\n",
    "    for item in row:\n",
    "        if len(item) > max_length:\n",
    "            return -1\n",
    "\n",
    "    return [int(item) for item in row][-slice:]\n",
    "\n",
    "\n",
    "# slice - залишити останні\n",
    "def make_prediction(train, y, max_order=5, max_length=6, slice=15):\n",
    "    predicted_values = list()\n",
    "    for index, row in train.iterrows():\n",
    "        if index == 18:\n",
    "            rr = 0\n",
    "        target = y[index]\n",
    "        sequence = validation(row['Sequence'])\n",
    "        if sequence == -1:\n",
    "            predicted_values.append('Bad sequence')\n",
    "            continue\n",
    "        sequence = sequence[:-1]\n",
    "        pred_val = predict_1(sequence)\n",
    "        if pred_val == '0':\n",
    "            predicted_values.append(\"No linear combo\")\n",
    "            continue\n",
    "        # заокруглювати значення\n",
    "        predicted_values.append(int(round(pred_val)))\n",
    "        # predicted_values.append(pred_val)\n",
    "        # print(pred_val)\n",
    "    return predicted_values\n",
    "\n",
    "\n",
    "def get_y(train):\n",
    "    y = list()\n",
    "    for index, row in train.iterrows():\n",
    "        sequence = row['Sequence'].split(',')\n",
    "        sequence = [int(item) for item in sequence]\n",
    "        y.append(sequence[-1])\n",
    "    return y\n",
    "\n",
    "\n",
    "def score(true, predicted):\n",
    "    small_error = 0\n",
    "    n = len(true)\n",
    "    false_indexes = list()\n",
    "    count = 0\n",
    "    for i in range(len(true)):\n",
    "        if predicted[i] == 'Bad sequence':\n",
    "            n -= 1\n",
    "            false_indexes.append(i)\n",
    "            continue\n",
    "        elif predicted[i] == 'No linear combo':\n",
    "            false_indexes.append(i)\n",
    "            continue\n",
    "        else:\n",
    "            error = math.fabs(true[i] - predicted[i])\n",
    "\n",
    "            if error < 0.001:\n",
    "                count += 1\n",
    "                print(i)\n",
    "                # print(error)\n",
    "            elif error < 1:\n",
    "                # print(error)\n",
    "                small_error += 1\n",
    "            else:\n",
    "                false_indexes.append(i)\n",
    "    print(count)\n",
    "    print(small_error)\n",
    "    return count / len(true) * 100, false_indexes\n",
    "\n",
    "\n",
    "train = pd.read_csv('data/train.csv')\n",
    "y = get_y(train)\n",
    "pred_values = make_prediction(train, y)"
   ]
  },
  {
   "cell_type": "code",
   "execution_count": 4,
   "metadata": {},
   "outputs": [
    {
     "name": "stderr",
     "output_type": "stream",
     "text": [
      "Using TensorFlow backend.\n"
     ]
    }
   ],
   "source": [
    "from eda.tools import seq_to_num\n",
    "df_train = pd.read_csv('data/train.csv', index_col=0)\n",
    "X_train, y_train = seq_to_num(df_train.Sequence, pad=False)"
   ]
  },
  {
   "cell_type": "code",
   "execution_count": 5,
   "metadata": {},
   "outputs": [],
   "source": [
    "from eda.tools import acc_score"
   ]
  },
  {
   "cell_type": "code",
   "execution_count": 7,
   "metadata": {},
   "outputs": [
    {
     "data": {
      "text/plain": [
       "0.08076092957887868"
      ]
     },
     "execution_count": 7,
     "metadata": {},
     "output_type": "execute_result"
    }
   ],
   "source": [
    "acc_score(pred_values, y_train)"
   ]
  },
  {
   "cell_type": "code",
   "execution_count": 8,
   "metadata": {},
   "outputs": [
    {
     "data": {
      "text/plain": [
       "6435.999999999999"
      ]
     },
     "execution_count": 8,
     "metadata": {},
     "output_type": "execute_result"
    }
   ],
   "source": [
    "0.08076092957887868 * len(pred_values)"
   ]
  },
  {
   "cell_type": "code",
   "execution_count": 9,
   "metadata": {},
   "outputs": [
    {
     "data": {
      "text/plain": [
       "79692"
      ]
     },
     "execution_count": 9,
     "metadata": {},
     "output_type": "execute_result"
    }
   ],
   "source": [
    "len(pred_values)"
   ]
  },
  {
   "cell_type": "code",
   "execution_count": 23,
   "metadata": {},
   "outputs": [],
   "source": [
    "indices = [i for i, pred in zip(list(range(len(pred_values))), pred_values) if type(pred) is not str]\n",
    "pred_only = [pred for i, pred in enumerate(pred_values) if i in indices]"
   ]
  },
  {
   "cell_type": "code",
   "execution_count": 32,
   "metadata": {},
   "outputs": [
    {
     "data": {
      "text/plain": [
       "(39366,)"
      ]
     },
     "execution_count": 32,
     "metadata": {},
     "output_type": "execute_result"
    }
   ],
   "source": [
    "y_train.values[indices].shape"
   ]
  },
  {
   "cell_type": "code",
   "execution_count": 33,
   "metadata": {},
   "outputs": [
    {
     "data": {
      "text/plain": [
       "0.16349133770258598"
      ]
     },
     "execution_count": 33,
     "metadata": {},
     "output_type": "execute_result"
    }
   ],
   "source": [
    "acc_score(pred_only, y_train.values[indices])"
   ]
  },
  {
   "cell_type": "code",
   "execution_count": 10,
   "metadata": {},
   "outputs": [],
   "source": [
    "from models.rec_rel import LinRecRel"
   ]
  },
  {
   "cell_type": "code",
   "execution_count": 16,
   "metadata": {},
   "outputs": [],
   "source": [
    "pred_my = LinRecRel(minlen=20).predict(X_train)"
   ]
  },
  {
   "cell_type": "code",
   "execution_count": 18,
   "metadata": {},
   "outputs": [],
   "source": [
    "_, ind, pred = pred_my"
   ]
  },
  {
   "cell_type": "code",
   "execution_count": 19,
   "metadata": {},
   "outputs": [
    {
     "data": {
      "text/plain": [
       "0.9130128543757704"
      ]
     },
     "execution_count": 19,
     "metadata": {},
     "output_type": "execute_result"
    }
   ],
   "source": [
    "acc_score(y_train[ind], pred)"
   ]
  },
  {
   "cell_type": "code",
   "execution_count": 1,
   "metadata": {},
   "outputs": [],
   "source": [
    "from models.rec_rel import LinRecRel2\n",
    "import pandas as pd\n",
    "from eda.tools import acc_score, seq_to_num"
   ]
  },
  {
   "cell_type": "code",
   "execution_count": 18,
   "metadata": {},
   "outputs": [],
   "source": [
    "m = LinRecRel2(minlen=40)"
   ]
  },
  {
   "cell_type": "code",
   "execution_count": 19,
   "metadata": {},
   "outputs": [],
   "source": [
    "df_train = pd.read_csv('data/train.csv')"
   ]
  },
  {
   "cell_type": "code",
   "execution_count": 20,
   "metadata": {},
   "outputs": [],
   "source": [
    "X_train, y_train = seq_to_num(df_train.Sequence, pad=False)"
   ]
  },
  {
   "cell_type": "code",
   "execution_count": 21,
   "metadata": {},
   "outputs": [
    {
     "name": "stderr",
     "output_type": "stream",
     "text": [
      "/Users/ptyshevs/udata/int_seq/models/rec_rel.py:147: FutureWarning: elementwise comparison failed; returning scalar instead, but in the future will perform elementwise comparison\n",
      "  if a == '-100':\n"
     ]
    }
   ],
   "source": [
    "seq, ind, pred = m.predict(df_train[:5000])"
   ]
  },
  {
   "cell_type": "code",
   "execution_count": 22,
   "metadata": {},
   "outputs": [
    {
     "data": {
      "text/plain": [
       "0.1665899677864703"
      ]
     },
     "execution_count": 22,
     "metadata": {},
     "output_type": "execute_result"
    }
   ],
   "source": [
    "acc_score(y_train[ind], pred)"
   ]
  },
  {
   "cell_type": "code",
   "execution_count": 12,
   "metadata": {},
   "outputs": [
    {
     "data": {
      "text/plain": [
       "3409"
      ]
     },
     "execution_count": 12,
     "metadata": {},
     "output_type": "execute_result"
    }
   ],
   "source": [
    "len(ind)"
   ]
  },
  {
   "cell_type": "code",
   "execution_count": null,
   "metadata": {},
   "outputs": [],
   "source": []
  }
 ],
 "metadata": {
  "kernelspec": {
   "display_name": "Python 3",
   "language": "python",
   "name": "python3"
  },
  "language_info": {
   "codemirror_mode": {
    "name": "ipython",
    "version": 3
   },
   "file_extension": ".py",
   "mimetype": "text/x-python",
   "name": "python",
   "nbconvert_exporter": "python",
   "pygments_lexer": "ipython3",
   "version": "3.6.2"
  }
 },
 "nbformat": 4,
 "nbformat_minor": 2
}
