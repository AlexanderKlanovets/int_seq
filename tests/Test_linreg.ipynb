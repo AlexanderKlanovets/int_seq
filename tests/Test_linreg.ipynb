{
 "cells": [
  {
   "cell_type": "code",
   "execution_count": 1,
   "metadata": {},
   "outputs": [],
   "source": [
    "import numpy as np\n",
    "import pandas as pd\n",
    "from tools import seq_to_num, acc_score"
   ]
  },
  {
   "cell_type": "code",
   "execution_count": 2,
   "metadata": {},
   "outputs": [
    {
     "name": "stderr",
     "output_type": "stream",
     "text": [
      "Using TensorFlow backend.\n"
     ]
    }
   ],
   "source": [
    "df_train = pd.read_csv('../data/train.csv', index_col=0)\n",
    "X_train, y_train = seq_to_num(df_train.Sequence, pad=False)"
   ]
  },
  {
   "cell_type": "code",
   "execution_count": 323,
   "metadata": {},
   "outputs": [],
   "source": [
    "seq = X_train[4:5].values[0]\n",
    "target = y_train[4:5]"
   ]
  },
  {
   "cell_type": "code",
   "execution_count": 324,
   "metadata": {},
   "outputs": [
    {
     "data": {
      "text/plain": [
       "(array([1.0000e+00, 1.2100e+02, 1.3100e+02, 1.4100e+02, 1.5100e+02,\n",
       "        1.6100e+02, 1.7100e+02, 1.8100e+02, 1.9100e+02, 1.2321e+04,\n",
       "        1.2421e+04, 1.2521e+04, 1.2621e+04, 1.2721e+04, 1.2821e+04,\n",
       "        1.2921e+04, 1.3431e+04, 1.3531e+04, 1.3631e+04, 1.3731e+04,\n",
       "        1.3831e+04, 1.3931e+04, 1.4541e+04, 1.4641e+04, 1.4741e+04,\n",
       "        1.4841e+04, 1.4941e+04, 1.5651e+04, 1.5751e+04, 1.5851e+04,\n",
       "        1.5951e+04, 1.6761e+04, 1.6861e+04, 1.6961e+04, 1.7871e+04,\n",
       "        1.7971e+04]), Id\n",
       " 152540    18981.0\n",
       " Name: Sequence, dtype: float64)"
      ]
     },
     "execution_count": 324,
     "metadata": {},
     "output_type": "execute_result"
    }
   ],
   "source": [
    "seq, target"
   ]
  },
  {
   "cell_type": "code",
   "execution_count": 325,
   "metadata": {},
   "outputs": [
    {
     "data": {
      "text/plain": [
       "array([18981.])"
      ]
     },
     "execution_count": 325,
     "metadata": {},
     "output_type": "execute_result"
    }
   ],
   "source": [
    "target.values"
   ]
  },
  {
   "cell_type": "code",
   "execution_count": 137,
   "metadata": {},
   "outputs": [],
   "source": [
    "num_of_points = 5\n",
    "X, y = [seq[i: i + num_of_points] for i in range(len(seq) - num_of_points)], seq[num_of_points:]"
   ]
  },
  {
   "cell_type": "code",
   "execution_count": 317,
   "metadata": {},
   "outputs": [],
   "source": [
    "def fit_n_points(seq, n_points):\n",
    "    X, y = create_data(seq, n_points)\n",
    "    return LinearRegression().fit(X, y)"
   ]
  },
  {
   "cell_type": "code",
   "execution_count": 318,
   "metadata": {},
   "outputs": [],
   "source": []
  },
  {
   "cell_type": "code",
   "execution_count": 3,
   "metadata": {},
   "outputs": [
    {
     "name": "stderr",
     "output_type": "stream",
     "text": [
      "/Library/Frameworks/Python.framework/Versions/3.6/lib/python3.6/importlib/_bootstrap.py:205: ImportWarning: can't resolve package from __spec__ or __package__, falling back on __name__ and __path__\n",
      "  return f(*args, **kwds)\n",
      "/Library/Frameworks/Python.framework/Versions/3.6/lib/python3.6/importlib/_bootstrap.py:205: ImportWarning: can't resolve package from __spec__ or __package__, falling back on __name__ and __path__\n",
      "  return f(*args, **kwds)\n"
     ]
    }
   ],
   "source": [
    "from sklearn.preprocessing import PolynomialFeatures\n",
    "\n",
    "def create_data(seq, num_of_points, poly_deg=1):\n",
    "    X = [seq[i: i + num_of_points] for i in range(len(seq) - num_of_points)]\n",
    "    if poly_deg > 1:\n",
    "        X = PolynomialFeatures(poly_deg).fit_transform(X)\n",
    "    y = seq[num_of_points:]\n",
    "    return X, y"
   ]
  },
  {
   "cell_type": "code",
   "execution_count": 4,
   "metadata": {},
   "outputs": [],
   "source": [
    "def pred_best_reg(seq, min_num, max_num, poly_deg=1, verbose=False):\n",
    "    \"\"\"\n",
    "    Try to fit linear regression to previous several numbers, recording score and looking for perfect fit\n",
    "    \"\"\"\n",
    "    min_num = min(len(seq) - 1, min_num)\n",
    "    max_num = min(len(seq)- 1, max_num)\n",
    "    best_acc, best_num_of_points = -1, -1\n",
    "    lr = LinearRegression()\n",
    "    for num_of_points in range(min_num, max_num + 1):\n",
    "        X, y = create_data(seq, num_of_points)\n",
    "        lr.fit(X, y)\n",
    "        pred = lr.predict(X).round()\n",
    "        acc = acc_score(y, pred)\n",
    "        if acc > best_acc:\n",
    "            best_acc = acc\n",
    "            best_num_of_points = num_of_points\n",
    "        if best_acc == 1:\n",
    "            break\n",
    "    if verbose:\n",
    "        print(f\"Best acc: {best_acc}, num of points: {best_num_of_points}\")\n",
    "    # predict\n",
    "    X, y = create_data(seq, best_num_of_points)\n",
    "    lr.fit(X, y)\n",
    "    pred = lr.predict([seq[-best_num_of_points:]])[0]\n",
    "    if np.abs(pred - pred.round()) > .01:\n",
    "        return None\n",
    "    return pred.round()"
   ]
  },
  {
   "cell_type": "code",
   "execution_count": 345,
   "metadata": {},
   "outputs": [],
   "source": [
    "pred_best_reg(seq, 1, 40)"
   ]
  },
  {
   "cell_type": "code",
   "execution_count": 7,
   "metadata": {},
   "outputs": [],
   "source": [
    "import tqdm\n",
    "from sklearn.linear_model import LinearRegression\n",
    "\n",
    "class LinReg:\n",
    "    def __init__(self, max_prev=40, poly_deg=1, verbose=False):\n",
    "        self.max_prev = max_prev\n",
    "        self.poly_deg = poly_deg\n",
    "        self.verbose = verbose\n",
    "        self._mod = LinearRegression()\n",
    "    \n",
    "    def predict(self, data):\n",
    "        sequences = []\n",
    "        indices = []\n",
    "        predictions = []\n",
    "        ind_iter = data.index if isinstance(data, (np.ndarray, pd.Series)) else range(len(data))\n",
    "        for seq, ind in tqdm.tqdm(zip(data, ind_iter)):\n",
    "            if len(seq) < 2:\n",
    "                continue\n",
    "            pred = self._pred_best_reg(seq)\n",
    "            if pred is None:\n",
    "                continue\n",
    "            sequences.append(seq)\n",
    "            indices.append(ind)\n",
    "            predictions.append(pred)\n",
    "        return sequences, indices, predictions\n",
    "    \n",
    "    def _pred_best_reg(self, seq):\n",
    "        \"\"\"\n",
    "        Try to fit linear regression to previous several numbers, recording score and looking for perfect fit\n",
    "        \"\"\"\n",
    "        min_num = min(len(seq) - 1, 1)\n",
    "        max_num = min(len(seq)- 1, self.max_prev)\n",
    "        best_acc, best_num_of_points = -1, -1\n",
    "        for num_of_points in range(min_num, max_num + 1):\n",
    "            X, y = self._create_data(seq, num_of_points)\n",
    "            self._mod.fit(X, y)\n",
    "            pred = self._mod.predict(X).round()\n",
    "            acc = acc_score(y, pred)\n",
    "            if acc > best_acc:\n",
    "                best_acc = acc\n",
    "                best_num_of_points = num_of_points\n",
    "            if np.isclose(best_acc, 1):\n",
    "                break\n",
    "        if self.verbose:\n",
    "            print(f\"Best acc: {best_acc}, num of points: {best_num_of_points}\")\n",
    "        # predict\n",
    "        X, y = self._create_data(seq, best_num_of_points)\n",
    "        self._mod.fit(X, y)\n",
    "        pred_data = seq[-best_num_of_points:]\n",
    "        if self.poly_deg > 1:\n",
    "            pred_data = PolynomialFeatures(self.poly_deg).fit_transform([pred_data])\n",
    "            pred = self._mod.predict(pred_data)[0]\n",
    "        else:\n",
    "            pred = self._mod.predict([pred_data])[0]\n",
    "        if np.fabs(pred - pred.round()) > .01:\n",
    "            return None\n",
    "        return pred.round()\n",
    "    \n",
    "    def _create_data(self, seq, num_of_points):\n",
    "        X = [seq[i: i + num_of_points] for i in range(len(seq) - num_of_points)]\n",
    "        if self.poly_deg > 1:\n",
    "            X = PolynomialFeatures(self.poly_deg).fit_transform(X)\n",
    "        y = seq[num_of_points:]\n",
    "        return X, y"
   ]
  },
  {
   "cell_type": "code",
   "execution_count": 8,
   "metadata": {},
   "outputs": [],
   "source": [
    "lr = LinReg()"
   ]
  },
  {
   "cell_type": "code",
   "execution_count": 9,
   "metadata": {},
   "outputs": [
    {
     "name": "stderr",
     "output_type": "stream",
     "text": [
      "0it [00:00, ?it/s]/Users/ptyshevs/envs/loc_env/lib/python3.6/site-packages/sklearn/linear_model/base.py:485: RuntimeWarning: internal gelsd driver lwork query error, required iwork dimension not returned. This is likely the result of LAPACK bug 0038, fixed in LAPACK 3.2.2 (released July 21, 2010). Falling back to 'gelss' driver.\n",
      "  linalg.lstsq(X, y)\n",
      "79016it [12:24, 106.19it/s]\n"
     ]
    }
   ],
   "source": [
    "_, ind, pred = lr.predict(X_train)"
   ]
  },
  {
   "cell_type": "code",
   "execution_count": 10,
   "metadata": {},
   "outputs": [
    {
     "data": {
      "text/plain": [
       "0.2979236898559608"
      ]
     },
     "execution_count": 10,
     "metadata": {},
     "output_type": "execute_result"
    }
   ],
   "source": [
    "acc_score(y_train[ind], pred)"
   ]
  },
  {
   "cell_type": "code",
   "execution_count": 11,
   "metadata": {},
   "outputs": [],
   "source": [
    "df_val = pd.read_csv(\"../data/kaggle_test.csv\", index_col=0)\n",
    "X_val = seq_to_num(df_val.Sequence, target_split=False, pad=False)"
   ]
  },
  {
   "cell_type": "code",
   "execution_count": 13,
   "metadata": {},
   "outputs": [
    {
     "data": {
      "text/plain": [
       "26104"
      ]
     },
     "execution_count": 13,
     "metadata": {},
     "output_type": "execute_result"
    }
   ],
   "source": [
    "len(ind)"
   ]
  }
 ],
 "metadata": {
  "kernelspec": {
   "display_name": "Python 3",
   "language": "python",
   "name": "python3"
  },
  "language_info": {
   "codemirror_mode": {
    "name": "ipython",
    "version": 3
   },
   "file_extension": ".py",
   "mimetype": "text/x-python",
   "name": "python",
   "nbconvert_exporter": "python",
   "pygments_lexer": "ipython3",
   "version": "3.6.2"
  }
 },
 "nbformat": 4,
 "nbformat_minor": 2
}
