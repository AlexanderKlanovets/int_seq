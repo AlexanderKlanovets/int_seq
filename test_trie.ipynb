{
 "cells": [
  {
   "cell_type": "code",
   "execution_count": 6,
   "metadata": {},
   "outputs": [],
   "source": [
    "import pandas as pd\n",
    "import numpy as np\n",
    "from eda.tools import seq_to_num, acc_score, prep_submit\n",
    "from models.trie import Trie"
   ]
  },
  {
   "cell_type": "code",
   "execution_count": 7,
   "metadata": {},
   "outputs": [],
   "source": [
    "train_all_df = pd.read_csv('data/kaggle_train.csv', index_col=0)\n",
    "X_train = seq_to_num(train_all_df.Sequence, target_split=False, pad=False)\n",
    "#trie.fit(X_train)"
   ]
  },
  {
   "cell_type": "code",
   "execution_count": 8,
   "metadata": {},
   "outputs": [],
   "source": [
    "test_all_df = pd.read_csv('data/kaggle_test.csv', index_col=0)\n",
    "X_test = seq_to_num(test_all_df.Sequence, target_split=False, pad=False)"
   ]
  },
  {
   "cell_type": "code",
   "execution_count": 9,
   "metadata": {},
   "outputs": [],
   "source": [
    "X_combined = pd.concat([X_train, X_test])"
   ]
  },
  {
   "cell_type": "code",
   "execution_count": 10,
   "metadata": {},
   "outputs": [
    {
     "name": "stderr",
     "output_type": "stream",
     "text": [
      "Fitting to dataset: 500it [00:00, 1898.38it/s]\n"
     ]
    },
    {
     "data": {
      "text/plain": [
       "Trie(shift=4, trie=_prefixTree(puts=0, nodes=0))"
      ]
     },
     "execution_count": 10,
     "metadata": {},
     "output_type": "execute_result"
    }
   ],
   "source": [
    "trie = Trie(load=False)\n",
    "trie.fit(X_combined)  # fits and saves to pickle"
   ]
  },
  {
   "cell_type": "code",
   "execution_count": 12,
   "metadata": {},
   "outputs": [
    {
     "name": "stderr",
     "output_type": "stream",
     "text": [
      "Predicting: 500it [00:02, 171.48it/s]\n"
     ]
    }
   ],
   "source": [
    "_, ind, pred = trie.predict(X_test)\n",
    "prep_submit(pd.Series(pred, index=ind), 'trie_predict.csv')"
   ]
  }
 ],
 "metadata": {
  "kernelspec": {
   "display_name": "Python 3",
   "language": "python",
   "name": "python3"
  },
  "language_info": {
   "codemirror_mode": {
    "name": "ipython",
    "version": 3
   },
   "file_extension": ".py",
   "mimetype": "text/x-python",
   "name": "python",
   "nbconvert_exporter": "python",
   "pygments_lexer": "ipython3",
   "version": "3.6.2"
  }
 },
 "nbformat": 4,
 "nbformat_minor": 2
}
