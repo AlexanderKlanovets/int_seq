{
 "cells": [
  {
   "cell_type": "code",
   "execution_count": 1,
   "metadata": {},
   "outputs": [],
   "source": [
    "from CPT import *\n",
    "import numpy as np\n",
    "import pandas as pd\n",
    "\n",
    "\n",
    "pretest = pd.read_csv(\"./data/test_proba.csv\")\n",
    "pretrain = pd.read_csv(\"./data/train_proba.csv\")\n",
    "\n",
    "\n",
    "mytrain = []\n",
    "for index, row in pretrain.iterrows():\n",
    "    mytrain.append(row.values[1].split(\",\")[:])\n",
    "    \n",
    "mytest = []\n",
    "for index, row in pretest.iterrows():\n",
    "    mytest.append(row.values[1].split(\",\")[:-1])\n",
    "\n",
    "    \n",
    "model = CPT()"
   ]
  },
  {
   "cell_type": "code",
   "execution_count": 2,
   "metadata": {},
   "outputs": [
    {
     "data": {
      "text/plain": [
       "True"
      ]
     },
     "execution_count": 2,
     "metadata": {},
     "output_type": "execute_result"
    }
   ],
   "source": [
    "model.train(mytrain)"
   ]
  },
  {
   "cell_type": "code",
   "execution_count": 3,
   "metadata": {},
   "outputs": [
    {
     "name": "stderr",
     "output_type": "stream",
     "text": [
      "100%|██████████| 45/45 [00:19<00:00,  1.52it/s]\n"
     ]
    }
   ],
   "source": [
    "predictions = model.predict(mytrain,mytest,5,1)"
   ]
  },
  {
   "cell_type": "code",
   "execution_count": 4,
   "metadata": {},
   "outputs": [
    {
     "name": "stdout",
     "output_type": "stream",
     "text": [
      "[[], [], [], ['342'], [], ['98'], ['-9'], [], [], [], ['29'], [], [], ['7'], ['94'], [], ['218'], [], [], ['7'], ['5'], [], [], [], [], ['443'], ['31'], [], [], ['218'], [], [], ['1'], [], ['73'], [], [], ['0'], ['17'], [], [], [], ['3'], ['135'], ['5']]\n",
      "\n",
      "\n"
     ]
    }
   ],
   "source": [
    "print(predictions)\n",
    "print(\"\\n\")"
   ]
  }
 ],
 "metadata": {
  "kernelspec": {
   "display_name": "Python 3",
   "language": "python",
   "name": "python3"
  },
  "language_info": {
   "codemirror_mode": {
    "name": "ipython",
    "version": 3
   },
   "file_extension": ".py",
   "mimetype": "text/x-python",
   "name": "python",
   "nbconvert_exporter": "python",
   "pygments_lexer": "ipython3",
   "version": "3.7.0"
  }
 },
 "nbformat": 4,
 "nbformat_minor": 2
}
