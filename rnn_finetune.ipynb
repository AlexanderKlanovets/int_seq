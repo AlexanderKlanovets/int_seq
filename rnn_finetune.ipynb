{
 "cells": [
  {
   "cell_type": "code",
   "execution_count": 8,
   "metadata": {},
   "outputs": [],
   "source": [
    "import numpy as np\n",
    "import pandas as pd\n",
    "from keras.preprocessing.sequence import pad_sequences\n",
    "from keras.models import Sequential\n",
    "from keras.layers import GRU, Dense\n",
    "from eda.tools import seq_to_num\n",
    "from preproc.filters import rnn_filter"
   ]
  },
  {
   "cell_type": "code",
   "execution_count": 15,
   "metadata": {},
   "outputs": [],
   "source": [
    "df_train = pd.read_csv('data/train.csv', index_col=0)\n",
    "X_train = seq_to_num(df_train.Sequence, pad=False, target_split=False)"
   ]
  },
  {
   "cell_type": "code",
   "execution_count": 16,
   "metadata": {},
   "outputs": [],
   "source": [
    "rnn_filter = lambda seq: len(seq) > 2 and np.all([0 <= x < 2000 for x in seq])\n",
    "X_train = X_train[X_train.map(rnn_filter)]"
   ]
  },
  {
   "cell_type": "code",
   "execution_count": 17,
   "metadata": {},
   "outputs": [],
   "source": [
    "seqlen = int(X_train.map(len).quantile(.10))"
   ]
  },
  {
   "cell_type": "code",
   "execution_count": 18,
   "metadata": {},
   "outputs": [
    {
     "data": {
      "text/plain": [
       "25"
      ]
     },
     "execution_count": 18,
     "metadata": {},
     "output_type": "execute_result"
    }
   ],
   "source": [
    "seqlen"
   ]
  },
  {
   "cell_type": "code",
   "execution_count": 19,
   "metadata": {},
   "outputs": [],
   "source": [
    "def build_model(input_len):\n",
    "    model = Sequential()\n",
    "    model.add(GRU(128, input_shape=(input_len, 1)))\n",
    "    model.add(Dense(2000, activation='softmax'))\n",
    "    model.compile('adam', 'sparse_categorical_crossentropy', metrics=['accuracy'])\n",
    "    return model"
   ]
  },
  {
   "cell_type": "code",
   "execution_count": 20,
   "metadata": {},
   "outputs": [],
   "source": [
    "m = build_model(seqlen)"
   ]
  },
  {
   "cell_type": "code",
   "execution_count": 21,
   "metadata": {},
   "outputs": [],
   "source": [
    "def prep_data(data, seqlen):\n",
    "    \"\"\"\n",
    "    Generate train dataset, given sequences\n",
    "    for each sequence, we iterate creating input sequence and target term\n",
    "    \"\"\"\n",
    "    X, y = [], []\n",
    "    for seq in data:\n",
    "        if len(seq) <= seqlen:\n",
    "            X += [list(map(int, [0] * (seqlen - (len(seq) - 1)) + seq[:-1].tolist()))]\n",
    "            y += [int(seq[-1])]\n",
    "            continue\n",
    "        x1 = [seq[i: i + seqlen] for i in range(len(seq) - seqlen)]\n",
    "        y1 = list(map(int, seq[seqlen:].tolist()))\n",
    "        X += x1\n",
    "        y += y1\n",
    "    X = np.array(X)\n",
    "    X = np.expand_dims(X, 2)\n",
    "    y = np.array(y)\n",
    "    y = np.expand_dims(y, 1)\n",
    "    return X, y"
   ]
  },
  {
   "cell_type": "code",
   "execution_count": 22,
   "metadata": {},
   "outputs": [],
   "source": [
    "X, y = prep_data(X_train, seqlen)"
   ]
  },
  {
   "cell_type": "code",
   "execution_count": 23,
   "metadata": {},
   "outputs": [
    {
     "data": {
      "text/plain": [
       "(1182807, 1)"
      ]
     },
     "execution_count": 23,
     "metadata": {},
     "output_type": "execute_result"
    }
   ],
   "source": [
    "y.shape"
   ]
  },
  {
   "cell_type": "code",
   "execution_count": null,
   "metadata": {},
   "outputs": [
    {
     "name": "stdout",
     "output_type": "stream",
     "text": [
      "Epoch 1/3\n",
      " 153696/1182807 [==>...........................] - ETA: 17:41 - loss: 3.5075 - acc: 0.1641"
     ]
    }
   ],
   "source": [
    "m.fit(X, y, batch_size=32, epochs=3)"
   ]
  },
  {
   "cell_type": "code",
   "execution_count": null,
   "metadata": {},
   "outputs": [],
   "source": [
    "test = pd.read_csv('data/test.csv', index_col=0)\n",
    "X_test, y_test = seq_to_num(test.Sequence, pad=True, padlen=seqlen)"
   ]
  },
  {
   "cell_type": "code",
   "execution_count": 5,
   "metadata": {},
   "outputs": [],
   "source": [
    "import numpy as np\n",
    "import pandas as pd\n",
    "from keras.preprocessing.sequence import pad_sequences\n",
    "from keras.models import Sequential\n",
    "from keras.layers import GRU, Dense\n",
    "\n",
    "\n",
    "class RNN:\n",
    "    def __init__(self, weights_file='pre_train/rnn_weights.h5', input_len=69):\n",
    "        self.input_len = input_len\n",
    "        self.model = self._build_model()\n",
    "        self.model.load_weights(weights_file)\n",
    "        self.params = {'input_len:': self.input_len, 'model': self.model}\n",
    "        \n",
    "    \n",
    "    def _build_model(self):\n",
    "        model = Sequential()\n",
    "        model.add(GRU(128, input_shape=(self.input_len, 1)))\n",
    "        model.add(Dense(1000, activation='softmax'))\n",
    "        model.compile('adam', 'sparse_categorical_crossentropy', metrics=['accuracy'])\n",
    "        return model\n",
    "    \n",
    "    def _prep_data(self, data):\n",
    "        \"\"\"\n",
    "        Pad sequences in data and expand dimention of features\n",
    "        \"\"\"\n",
    "        ind = data.index if isinstance(data, (np.ndarray, pd.Series)) else range(len(data))\n",
    "        data = pad_sequences(data, maxlen=self.input_len, dtype='int32')\n",
    "        data = np.expand_dims(data, 2)\n",
    "        return data, ind\n",
    "    \n",
    "    def predict(self, data):\n",
    "        data, ind = self._prep_data(data)\n",
    "        pred = self.model.predict(data)\n",
    "        pred = np.argmax(pred, axis=1)\n",
    "        if hasattr(ind, 'tolist'):\n",
    "            return [], ind.tolist(), pred\n",
    "        else:\n",
    "            return [], list(ind), pred\n",
    "    \n",
    "    def __repr__(self):\n",
    "        params = ', '.join([f\"{par}={val}\" for par, val in self.params.items()])\n",
    "        return f\"{self.__class__.__name__}({params})\"\n"
   ]
  },
  {
   "cell_type": "code",
   "execution_count": null,
   "metadata": {},
   "outputs": [],
   "source": []
  }
 ],
 "metadata": {
  "kernelspec": {
   "display_name": "Python 3",
   "language": "python",
   "name": "python3"
  },
  "language_info": {
   "codemirror_mode": {
    "name": "ipython",
    "version": 3
   },
   "file_extension": ".py",
   "mimetype": "text/x-python",
   "name": "python",
   "nbconvert_exporter": "python",
   "pygments_lexer": "ipython3",
   "version": "3.6.5"
  }
 },
 "nbformat": 4,
 "nbformat_minor": 2
}
