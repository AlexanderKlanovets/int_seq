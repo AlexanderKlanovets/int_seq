{
 "cells": [
  {
   "cell_type": "code",
   "execution_count": 1,
   "metadata": {},
   "outputs": [],
   "source": [
    "import pandas as pd\n",
    "import numpy as np\n",
    "from eda.tools import seq_to_num"
   ]
  },
  {
   "cell_type": "code",
   "execution_count": 2,
   "metadata": {},
   "outputs": [
    {
     "name": "stderr",
     "output_type": "stream",
     "text": [
      "Using TensorFlow backend.\n"
     ]
    }
   ],
   "source": [
    "train_df = pd.read_csv('data/train.csv', index_col=0)\n",
    "X_train = seq_to_num(train_df.Sequence, pad=False, target_split=False)"
   ]
  },
  {
   "cell_type": "code",
   "execution_count": null,
   "metadata": {},
   "outputs": [],
   "source": [
    "rnn_filter = lambda seq: len(seq) > 2 and np.all([0 <= x < 2000 for x in seq])\n",
    "X_train = X_train[X_train.map(rnn_filter)]"
   ]
  },
  {
   "cell_type": "code",
   "execution_count": null,
   "metadata": {},
   "outputs": [],
   "source": [
    "def prep_data(data, seqlen, frac=.7):\n",
    "    \"\"\"\n",
    "    Generate train dataset, given sequences\n",
    "    for each sequence, we iterate creating input sequence and target term\n",
    "    \"\"\"\n",
    "    X, y = [], []\n",
    "    for seq in data:\n",
    "        if len(seq) <= seqlen:\n",
    "            X += [list(map(int, [0] * (seqlen - (len(seq) - 1)) + seq[:-1].tolist()))]\n",
    "            y += [int(seq[-1])]\n",
    "            continue\n",
    "        x1 = [seq[i: i + seqlen] for i in range(len(seq) - seqlen)]\n",
    "        y1 = list(map(int, seq[seqlen:].tolist()))\n",
    "        X += x1\n",
    "        y += y1\n",
    "    X = np.array(X)\n",
    "    X = np.expand_dims(X, 2)\n",
    "    y = np.array(y)\n",
    "    y = np.expand_dims(y, 1)\n",
    "    return X, y"
   ]
  }
 ],
 "metadata": {
  "kernelspec": {
   "display_name": "Python 3",
   "language": "python",
   "name": "python3"
  },
  "language_info": {
   "codemirror_mode": {
    "name": "ipython",
    "version": 3
   },
   "file_extension": ".py",
   "mimetype": "text/x-python",
   "name": "python",
   "nbconvert_exporter": "python",
   "pygments_lexer": "ipython3",
   "version": "3.6.5"
  }
 },
 "nbformat": 4,
 "nbformat_minor": 2
}
