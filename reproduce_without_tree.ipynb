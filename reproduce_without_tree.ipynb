{
 "cells": [
  {
   "cell_type": "code",
   "execution_count": 1,
   "metadata": {},
   "outputs": [
    {
     "name": "stderr",
     "output_type": "stream",
     "text": [
      "Using TensorFlow backend.\n"
     ]
    }
   ],
   "source": [
    "import pandas as pd\n",
    "import numpy as np\n",
    "from eda.tools import seq_to_num, acc_score, prep_submit\n",
    "from models.baseline import Baseline\n",
    "from models.pipeline import Pipeline\n",
    "from models.diff_table import DiffTable\n",
    "from models.linear_model import LinearModel\n",
    "from models.Nonlinear_model import NonLinearModel\n",
    "from models.mark_chain import MarkovChains\n",
    "from models.lin_reg import LinReg\n",
    "from models.rnn import RNN\n",
    "from preproc.filters import rnn_filter, rnn_filterv2"
   ]
  },
  {
   "cell_type": "code",
   "execution_count": 2,
   "metadata": {},
   "outputs": [],
   "source": [
    "df_test = pd.read_csv('data/kaggle_test.csv', index_col=0)\n",
    "# trie_predictions = pd.read_csv('submit/trie_predict.csv', index_col=0)\n",
    "# df_unsolved = df_test[~df_test.index.isin(trie_predictions.index)]\n",
    "X_val = seq_to_num(df_test.Sequence, target_split=False, pad=False)"
   ]
  },
  {
   "cell_type": "code",
   "execution_count": 3,
   "metadata": {},
   "outputs": [],
   "source": [
    "models = [\n",
    "    ('DT', DiffTable(), None),\n",
    "    ('LRR', LinearModel(slice=16, minlen=14), None),\n",
    "    ('NLRR', NonLinearModel(), None),\n",
    "    ('MCS', MarkovChains(6, 20, 4), None),\n",
    "    ('LinReg', LinReg(), None),\n",
    "    ('RNN', RNN(), rnn_filterv2)\n",
    "]"
   ]
  },
  {
   "cell_type": "code",
   "execution_count": 4,
   "metadata": {},
   "outputs": [],
   "source": [
    "pipe = Pipeline(models, Baseline(), True)"
   ]
  },
  {
   "cell_type": "code",
   "execution_count": 5,
   "metadata": {},
   "outputs": [
    {
     "name": "stderr",
     "output_type": "stream",
     "text": [
      "113845it [03:32, 536.71it/s]\n"
     ]
    },
    {
     "name": "stdout",
     "output_type": "stream",
     "text": [
      "solved by DT: 4178\n",
      "solved by LRR: 8309\n"
     ]
    },
    {
     "name": "stderr",
     "output_type": "stream",
     "text": [
      "/Users/ptyshevs/udata/int_seq/models/Nonlinear_model.py:61: RuntimeWarning: overflow encountered in double_scalars\n",
      "  return [x1 ** 2, x2 ** 2, x1 * x2, x1, x2]\n",
      "/Users/ptyshevs/udata/int_seq/models/Nonlinear_model.py:64: RuntimeWarning: overflow encountered in double_scalars\n",
      "  return sum([x[0] ** 2 * solution[0], x[1] ** 2 * solution[1], x[0] * x[1] * solution[2], x[0] * solution[3],\n",
      "/Users/ptyshevs/udata/int_seq/models/Nonlinear_model.py:65: RuntimeWarning: overflow encountered in double_scalars\n",
      "  x[1] * solution[4], solution[5]])\n"
     ]
    },
    {
     "name": "stdout",
     "output_type": "stream",
     "text": [
      "solved by NLRR: 907\n"
     ]
    },
    {
     "name": "stderr",
     "output_type": "stream",
     "text": [
      "0it [00:00, ?it/s]/Users/ptyshevs/envs/loc_env/lib/python3.6/site-packages/sklearn/linear_model/base.py:485: RuntimeWarning: internal gelsd driver lwork query error, required iwork dimension not returned. This is likely the result of LAPACK bug 0038, fixed in LAPACK 3.2.2 (released July 21, 2010). Falling back to 'gelss' driver.\n",
      "  linalg.lstsq(X, y)\n",
      "2it [00:00, 18.17it/s]"
     ]
    },
    {
     "name": "stdout",
     "output_type": "stream",
     "text": [
      "solved by MCS: 3878\n"
     ]
    },
    {
     "name": "stderr",
     "output_type": "stream",
     "text": [
      "96573it [17:34, 91.62it/s] \n"
     ]
    },
    {
     "name": "stdout",
     "output_type": "stream",
     "text": [
      "solved by LinReg: 27393\n",
      "solved by RNN: 29916\n",
      "solved by fallback-model Baseline(function=mode): 39264\n"
     ]
    }
   ],
   "source": [
    "pred = pipe.predict(X_val)"
   ]
  },
  {
   "cell_type": "code",
   "execution_count": 6,
   "metadata": {},
   "outputs": [],
   "source": [
    "prep_submit(pred, 'submit_without_tree.csv')"
   ]
  }
 ],
 "metadata": {
  "kernelspec": {
   "display_name": "Python 3",
   "language": "python",
   "name": "python3"
  },
  "language_info": {
   "codemirror_mode": {
    "name": "ipython",
    "version": 3
   },
   "file_extension": ".py",
   "mimetype": "text/x-python",
   "name": "python",
   "nbconvert_exporter": "python",
   "pygments_lexer": "ipython3",
   "version": "3.6.2"
  }
 },
 "nbformat": 4,
 "nbformat_minor": 2
}
