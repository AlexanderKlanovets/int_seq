{
 "cells": [
  {
   "cell_type": "code",
   "execution_count": 1,
   "metadata": {},
   "outputs": [
    {
     "name": "stderr",
     "output_type": "stream",
     "text": [
      "Using TensorFlow backend.\n"
     ]
    }
   ],
   "source": [
    "import warnings\n",
    "warnings.filterwarnings('ignore')\n",
    "import pandas as pd\n",
    "import numpy as np\n",
    "from preproc.filters import markov_filter, rnn_filter\n",
    "from eda.tools import seq_to_num, acc_score, prep_submit\n",
    "from models.baseline import Baseline\n",
    "from models.diff_table import DiffTable\n",
    "from models.markov_chain import MarkovChain\n",
    "from models.linear_model import LinearModel\n",
    "from models.nonlinear_model import NonLinearModel\n",
    "from models.lin_reg import LinReg\n",
    "from models.pipeline import Pipeline\n",
    "from models.rnn import RNN"
   ]
  },
  {
   "cell_type": "code",
   "execution_count": 2,
   "metadata": {},
   "outputs": [],
   "source": [
    "df_train = pd.read_csv(\"data/train.csv\", index_col=0)\n",
    "df_test = pd.read_csv('data/test.csv', index_col=0)"
   ]
  },
  {
   "cell_type": "code",
   "execution_count": 3,
   "metadata": {},
   "outputs": [],
   "source": [
    "X_train, y_train = seq_to_num(df_train.Sequence, pad=False)\n",
    "X_test, y_test = seq_to_num(df_test.Sequence, pad=False)"
   ]
  },
  {
   "cell_type": "code",
   "execution_count": 4,
   "metadata": {},
   "outputs": [],
   "source": [
    "models = [\n",
    "    ('DT', DiffTable(), None),\n",
    "    ('LRR', LinearModel(), None),\n",
    "    ('NLRR', NonLinearModel(), None),\n",
    "    ('MC', MarkovChain(), markov_filter),\n",
    "    ('RNN', RNN(), rnn_filter),\n",
    "    ('LR', LinReg(), None)\n",
    "]"
   ]
  },
  {
   "cell_type": "code",
   "execution_count": 5,
   "metadata": {},
   "outputs": [
    {
     "name": "stdout",
     "output_type": "stream",
     "text": [
      "solved by LRR: 8272\n",
      "solved by NLRR: 385\n",
      "solved by MC: 1843\n"
     ]
    },
    {
     "name": "stderr",
     "output_type": "stream",
     "text": [
      "0it [00:00, ?it/s]/Users/ptyshevs/envs/loc_env/lib/python3.6/site-packages/sklearn/linear_model/base.py:485: RuntimeWarning: internal gelsd driver lwork query error, required iwork dimension not returned. This is likely the result of LAPACK bug 0038, fixed in LAPACK 3.2.2 (released July 21, 2010). Falling back to 'gelss' driver.\n",
      "  linalg.lstsq(X, y)\n",
      "12it [00:00, 116.50it/s]"
     ]
    },
    {
     "name": "stdout",
     "output_type": "stream",
     "text": [
      "solved by RNN: 20529\n"
     ]
    },
    {
     "name": "stderr",
     "output_type": "stream",
     "text": [
      "47987it [06:10, 129.65it/s]"
     ]
    },
    {
     "name": "stdout",
     "output_type": "stream",
     "text": [
      "solved by LR: 18356\n"
     ]
    },
    {
     "name": "stderr",
     "output_type": "stream",
     "text": [
      "\n"
     ]
    }
   ],
   "source": [
    "pipe = Pipeline(models, verbose=True)\n",
    "ind, pred = pipe.predict(X_train)"
   ]
  },
  {
   "cell_type": "code",
   "execution_count": 8,
   "metadata": {},
   "outputs": [
    {
     "data": {
      "text/plain": [
       "0.27225109794915187"
      ]
     },
     "execution_count": 8,
     "metadata": {},
     "output_type": "execute_result"
    }
   ],
   "source": [
    "acc_score(y_train[ind], pred[ind])"
   ]
  },
  {
   "cell_type": "code",
   "execution_count": 6,
   "metadata": {},
   "outputs": [
    {
     "data": {
      "text/plain": [
       "49385"
      ]
     },
     "execution_count": 6,
     "metadata": {},
     "output_type": "execute_result"
    }
   ],
   "source": [
    "len(ind)"
   ]
  },
  {
   "cell_type": "code",
   "execution_count": 2,
   "metadata": {},
   "outputs": [],
   "source": [
    "df_validate = pd.read_csv('data/kaggle_test.csv', index_col=0)\n",
    "X_val = seq_to_num(df_validate.Sequence, pad=False, target_split=False)"
   ]
  },
  {
   "cell_type": "code",
   "execution_count": 3,
   "metadata": {},
   "outputs": [],
   "source": [
    "models = [\n",
    "    ('DT', DiffTable(), None),\n",
    "    ('LRR', LinearModel(), None),\n",
    "    ('NLRR', NonLinearModel(), None),\n",
    "    ('MC', MarkovChain(), markov_filter),\n",
    "    ('RNN', RNN(), rnn_filter),\n",
    "    ('LR', LinReg(), None)\n",
    "]"
   ]
  },
  {
   "cell_type": "code",
   "execution_count": 4,
   "metadata": {},
   "outputs": [
    {
     "name": "stderr",
     "output_type": "stream",
     "text": [
      "113845it [03:16, 578.26it/s]\n",
      "/Users/ptyshevs/udata/int_seq/models/linear_model.py:43: FutureWarning: elementwise comparison failed; returning scalar instead, but in the future will perform elementwise comparison\n",
      "  if a == '-100':\n"
     ]
    },
    {
     "name": "stdout",
     "output_type": "stream",
     "text": [
      "solved by DT: 4178\n",
      "solved by LRR: 9443\n"
     ]
    },
    {
     "name": "stderr",
     "output_type": "stream",
     "text": [
      "/Users/ptyshevs/udata/int_seq/models/nonlinear_model.py:61: RuntimeWarning: overflow encountered in double_scalars\n",
      "  return [x1 ** 2, x2 ** 2, x1 * x2, x1, x2]\n",
      "/Users/ptyshevs/udata/int_seq/models/nonlinear_model.py:64: RuntimeWarning: overflow encountered in double_scalars\n",
      "  return sum([x[0] ** 2 * solution[0], x[1] ** 2 * solution[1], x[0] * x[1] * solution[2], x[0] * solution[3],\n",
      "/Users/ptyshevs/udata/int_seq/models/nonlinear_model.py:65: RuntimeWarning: overflow encountered in double_scalars\n",
      "  x[1] * solution[4], solution[5]])\n"
     ]
    },
    {
     "name": "stdout",
     "output_type": "stream",
     "text": [
      "solved by NLRR: 588\n",
      "solved by MC: 2610\n"
     ]
    },
    {
     "name": "stderr",
     "output_type": "stream",
     "text": [
      "0it [00:00, ?it/s]/Users/ptyshevs/envs/loc_env/lib/python3.6/site-packages/sklearn/linear_model/base.py:485: RuntimeWarning: internal gelsd driver lwork query error, required iwork dimension not returned. This is likely the result of LAPACK bug 0038, fixed in LAPACK 3.2.2 (released July 21, 2010). Falling back to 'gelss' driver.\n",
      "  linalg.lstsq(X, y)\n",
      "16it [00:00, 158.53it/s]"
     ]
    },
    {
     "name": "stdout",
     "output_type": "stream",
     "text": [
      "solved by RNN: 28654\n"
     ]
    },
    {
     "name": "stderr",
     "output_type": "stream",
     "text": [
      "47002it [06:22, 122.37it/s]/Users/ptyshevs/envs/loc_env/lib/python3.6/site-packages/scipy/linalg/basic.py:1250: RuntimeWarning: overflow encountered in square\n",
      "  resids = np.sum(np.abs(x[n:])**2, axis=0)\n",
      "68372it [09:25, 120.90it/s]\n"
     ]
    },
    {
     "name": "stdout",
     "output_type": "stream",
     "text": [
      "solved by LR: 26088\n",
      "solved by fallback-model Baseline(function=mode): 42284\n"
     ]
    }
   ],
   "source": [
    "pipe = Pipeline(models, fallback=Baseline(), verbose=True)\n",
    "pred = pipe.predict(X_val)"
   ]
  },
  {
   "cell_type": "code",
   "execution_count": 5,
   "metadata": {},
   "outputs": [],
   "source": [
    "prep_submit(pred, 'submit_with_linreg.csv')"
   ]
  }
 ],
 "metadata": {
  "kernelspec": {
   "display_name": "Python 3",
   "language": "python",
   "name": "python3"
  },
  "language_info": {
   "codemirror_mode": {
    "name": "ipython",
    "version": 3
   },
   "file_extension": ".py",
   "mimetype": "text/x-python",
   "name": "python",
   "nbconvert_exporter": "python",
   "pygments_lexer": "ipython3",
   "version": "3.6.2"
  }
 },
 "nbformat": 4,
 "nbformat_minor": 2
}
