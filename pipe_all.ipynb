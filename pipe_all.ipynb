{
 "cells": [
  {
   "cell_type": "code",
   "execution_count": 1,
   "metadata": {},
   "outputs": [
    {
     "name": "stderr",
     "output_type": "stream",
     "text": [
      "Using TensorFlow backend.\n",
      "/Users/ptyshevs/envs/loc_env/lib/python3.6/site-packages/requests/__init__.py:91: RequestsDependencyWarning: urllib3 (1.24) or chardet (3.0.4) doesn't match a supported version!\n",
      "  RequestsDependencyWarning)\n"
     ]
    }
   ],
   "source": [
    "import pandas as pd\n",
    "import numpy as np\n",
    "from preproc.filters import markov_filter, rnn_filter\n",
    "from eda.tools import seq_to_num, acc_score, prep_submit\n",
    "from models.baseline import Baseline\n",
    "from models.diff_table import DiffTable\n",
    "from models.markov_chain import MarkovChain\n",
    "from models.linear_model import LinearModel\n",
    "from models.nonlinear_model import NonLinearModel\n",
    "from models.pipeline import Pipeline\n",
    "from models.rnn import RNN"
   ]
  },
  {
   "cell_type": "code",
   "execution_count": 2,
   "metadata": {},
   "outputs": [],
   "source": [
    "df_train = pd.read_csv(\"data/train.csv\", index_col=0)\n",
    "df_test = pd.read_csv('data/test.csv', index_col=0)"
   ]
  },
  {
   "cell_type": "code",
   "execution_count": 3,
   "metadata": {},
   "outputs": [],
   "source": [
    "X_train, y_train = seq_to_num(df_train.Sequence, pad=False)\n",
    "X_test, y_test = seq_to_num(df_test.Sequence, pad=False)"
   ]
  },
  {
   "cell_type": "code",
   "execution_count": 14,
   "metadata": {},
   "outputs": [],
   "source": [
    "models = [\n",
    "    ('DT', DiffTable(), None),\n",
    "    ('LRR', LinearModel(), None),\n",
    "    ('NLRR', NonLinearModel(), None)\n",
    "     ('MC', MarkovChain(), markov_filter),\n",
    "     ('RNN', RNN(), rnn_filter)\n",
    "]"
   ]
  },
  {
   "cell_type": "code",
   "execution_count": 15,
   "metadata": {},
   "outputs": [
    {
     "name": "stdout",
     "output_type": "stream",
     "text": [
      "solved by DT: 3086\n",
      "solved by LRR: 6435\n",
      "solved by NLRR: 367\n"
     ]
    }
   ],
   "source": [
    "pipe = Pipeline(models, verbose=True)\n",
    "ind, pred = pipe.predict(X_train)"
   ]
  },
  {
   "cell_type": "code",
   "execution_count": 16,
   "metadata": {},
   "outputs": [
    {
     "data": {
      "text/plain": [
       "0.8518406148867314"
      ]
     },
     "execution_count": 16,
     "metadata": {},
     "output_type": "execute_result"
    }
   ],
   "source": [
    "acc_score(y_train[ind], pred[ind])"
   ]
  },
  {
   "cell_type": "code",
   "execution_count": 7,
   "metadata": {},
   "outputs": [],
   "source": [
    "df_validate = pd.read_csv('data/kaggle_test.csv', index_col=0)\n",
    "X_val = seq_to_num(df_validate.Sequence, pad=False, target_split=False)"
   ]
  },
  {
   "cell_type": "code",
   "execution_count": 11,
   "metadata": {},
   "outputs": [],
   "source": [
    "models = [\n",
    "    ('DT', DiffTable(), None),\n",
    "    ('LRR', LinearModel(), None),\n",
    "    ('NLRR', NonLinearModel(), None),\n",
    "    ('MC', MarkovChain(), markov_filter),\n",
    "    ('RNN', RNN(), rnn_filter)\n",
    "]"
   ]
  },
  {
   "cell_type": "code",
   "execution_count": 12,
   "metadata": {},
   "outputs": [
    {
     "name": "stdout",
     "output_type": "stream",
     "text": [
      "solved by DT: 4178\n",
      "solved by LRR: 9443\n",
      "solved by NLRR: 588\n",
      "solved by MC: 2610\n",
      "solved by RNN: 28654\n",
      "solved by fallback-model Baseline(function=mode): 68372\n"
     ]
    }
   ],
   "source": [
    "pipe = Pipeline(models, fallback=Baseline(function='last'), verbose=True)\n",
    "pred = pipe.predict(X_val)"
   ]
  },
  {
   "cell_type": "code",
   "execution_count": 13,
   "metadata": {},
   "outputs": [],
   "source": [
    "prep_submit(pred, 'submit_mode.csv')"
   ]
  }
 ],
 "metadata": {
  "kernelspec": {
   "display_name": "Python 3",
   "language": "python",
   "name": "python3"
  },
  "language_info": {
   "codemirror_mode": {
    "name": "ipython",
    "version": 3
   },
   "file_extension": ".py",
   "mimetype": "text/x-python",
   "name": "python",
   "nbconvert_exporter": "python",
   "pygments_lexer": "ipython3",
   "version": "3.6.2"
  }
 },
 "nbformat": 4,
 "nbformat_minor": 2
}
