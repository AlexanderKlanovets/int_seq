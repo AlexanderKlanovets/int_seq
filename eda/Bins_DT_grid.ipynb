{
 "cells": [
  {
   "cell_type": "code",
   "execution_count": 1,
   "metadata": {},
   "outputs": [],
   "source": [
    "import pandas as pd\n",
    "import numpy as np\n",
    "from tools import seq_to_num, prep_submit, acc_score"
   ]
  },
  {
   "cell_type": "code",
   "execution_count": 2,
   "metadata": {},
   "outputs": [],
   "source": [
    "df_train = pd.read_csv(\"../data/train.csv\", index_col=0)\n",
    "df_test = pd.read_csv('../data/test.csv', index_col=0)"
   ]
  },
  {
   "cell_type": "code",
   "execution_count": 54,
   "metadata": {},
   "outputs": [],
   "source": [
    "train_bins = seq_to_num(df_train.Sequence, nbins=7, dtype=np.float32, bins_by='val')\n",
    "test_bins = seq_to_num(df_test.Sequence, nbins=7, dtype=np.float32, bins_by='val')"
   ]
  },
  {
   "cell_type": "code",
   "execution_count": 63,
   "metadata": {},
   "outputs": [],
   "source": [
    "X_train, y_train, _ = train_bins[4]\n",
    "X_test, y_test, _ = test_bins[4]"
   ]
  },
  {
   "cell_type": "code",
   "execution_count": 64,
   "metadata": {},
   "outputs": [],
   "source": [
    "from sklearn.tree import DecisionTreeRegressor"
   ]
  },
  {
   "cell_type": "code",
   "execution_count": 65,
   "metadata": {},
   "outputs": [],
   "source": [
    "from sklearn.model_selection import RandomizedSearchCV"
   ]
  },
  {
   "cell_type": "code",
   "execution_count": 75,
   "metadata": {},
   "outputs": [],
   "source": [
    "params = {'max_depth': (2, 5, 8, 10),\n",
    "          'max_features': (2, 5, 10)}"
   ]
  },
  {
   "cell_type": "code",
   "execution_count": 76,
   "metadata": {},
   "outputs": [],
   "source": [
    "rsearch = RandomizedSearchCV(DecisionTreeRegressor(), params, cv=3)"
   ]
  },
  {
   "cell_type": "code",
   "execution_count": 77,
   "metadata": {},
   "outputs": [],
   "source": [
    "import warnings\n",
    "warnings.filterwarnings('always')"
   ]
  },
  {
   "cell_type": "code",
   "execution_count": 78,
   "metadata": {},
   "outputs": [
    {
     "name": "stderr",
     "output_type": "stream",
     "text": [
      "/Users/ptyshevs/envs/loc_env/lib/python3.6/site-packages/sklearn/metrics/regression.py:546: RuntimeWarning: overflow encountered in square\n",
      "  y_true, axis=0, weights=sample_weight)) ** 2).sum(axis=0,\n",
      "/Users/ptyshevs/envs/loc_env/lib/python3.6/site-packages/numpy/lib/function_base.py:388: RuntimeWarning: invalid value encountered in double_scalars\n",
      "  avg = np.multiply(a, wgt, dtype=result_dtype).sum(axis)/scl\n",
      "/Users/ptyshevs/envs/loc_env/lib/python3.6/site-packages/sklearn/metrics/regression.py:546: RuntimeWarning: overflow encountered in square\n",
      "  y_true, axis=0, weights=sample_weight)) ** 2).sum(axis=0,\n",
      "/Users/ptyshevs/envs/loc_env/lib/python3.6/site-packages/numpy/lib/function_base.py:388: RuntimeWarning: invalid value encountered in double_scalars\n",
      "  avg = np.multiply(a, wgt, dtype=result_dtype).sum(axis)/scl\n",
      "/Users/ptyshevs/envs/loc_env/lib/python3.6/site-packages/sklearn/metrics/regression.py:546: RuntimeWarning: overflow encountered in square\n",
      "  y_true, axis=0, weights=sample_weight)) ** 2).sum(axis=0,\n",
      "/Users/ptyshevs/envs/loc_env/lib/python3.6/site-packages/numpy/lib/function_base.py:388: RuntimeWarning: invalid value encountered in double_scalars\n",
      "  avg = np.multiply(a, wgt, dtype=result_dtype).sum(axis)/scl\n",
      "/Users/ptyshevs/envs/loc_env/lib/python3.6/site-packages/sklearn/metrics/regression.py:546: RuntimeWarning: overflow encountered in square\n",
      "  y_true, axis=0, weights=sample_weight)) ** 2).sum(axis=0,\n",
      "/Users/ptyshevs/envs/loc_env/lib/python3.6/site-packages/numpy/lib/function_base.py:388: RuntimeWarning: invalid value encountered in double_scalars\n",
      "  avg = np.multiply(a, wgt, dtype=result_dtype).sum(axis)/scl\n",
      "/Users/ptyshevs/envs/loc_env/lib/python3.6/site-packages/sklearn/metrics/regression.py:546: RuntimeWarning: overflow encountered in square\n",
      "  y_true, axis=0, weights=sample_weight)) ** 2).sum(axis=0,\n",
      "/Users/ptyshevs/envs/loc_env/lib/python3.6/site-packages/numpy/lib/function_base.py:388: RuntimeWarning: invalid value encountered in double_scalars\n",
      "  avg = np.multiply(a, wgt, dtype=result_dtype).sum(axis)/scl\n",
      "/Users/ptyshevs/envs/loc_env/lib/python3.6/site-packages/sklearn/metrics/regression.py:546: RuntimeWarning: overflow encountered in square\n",
      "  y_true, axis=0, weights=sample_weight)) ** 2).sum(axis=0,\n",
      "/Users/ptyshevs/envs/loc_env/lib/python3.6/site-packages/numpy/lib/function_base.py:388: RuntimeWarning: invalid value encountered in double_scalars\n",
      "  avg = np.multiply(a, wgt, dtype=result_dtype).sum(axis)/scl\n",
      "/Users/ptyshevs/envs/loc_env/lib/python3.6/site-packages/sklearn/metrics/regression.py:546: RuntimeWarning: overflow encountered in square\n",
      "  y_true, axis=0, weights=sample_weight)) ** 2).sum(axis=0,\n",
      "/Users/ptyshevs/envs/loc_env/lib/python3.6/site-packages/numpy/lib/function_base.py:388: RuntimeWarning: invalid value encountered in double_scalars\n",
      "  avg = np.multiply(a, wgt, dtype=result_dtype).sum(axis)/scl\n",
      "/Users/ptyshevs/envs/loc_env/lib/python3.6/site-packages/sklearn/metrics/regression.py:546: RuntimeWarning: overflow encountered in square\n",
      "  y_true, axis=0, weights=sample_weight)) ** 2).sum(axis=0,\n",
      "/Users/ptyshevs/envs/loc_env/lib/python3.6/site-packages/numpy/lib/function_base.py:388: RuntimeWarning: invalid value encountered in double_scalars\n",
      "  avg = np.multiply(a, wgt, dtype=result_dtype).sum(axis)/scl\n",
      "/Users/ptyshevs/envs/loc_env/lib/python3.6/site-packages/sklearn/metrics/regression.py:546: RuntimeWarning: overflow encountered in square\n",
      "  y_true, axis=0, weights=sample_weight)) ** 2).sum(axis=0,\n",
      "/Users/ptyshevs/envs/loc_env/lib/python3.6/site-packages/numpy/lib/function_base.py:388: RuntimeWarning: invalid value encountered in double_scalars\n",
      "  avg = np.multiply(a, wgt, dtype=result_dtype).sum(axis)/scl\n",
      "/Users/ptyshevs/envs/loc_env/lib/python3.6/site-packages/sklearn/metrics/regression.py:546: RuntimeWarning: overflow encountered in square\n",
      "  y_true, axis=0, weights=sample_weight)) ** 2).sum(axis=0,\n",
      "/Users/ptyshevs/envs/loc_env/lib/python3.6/site-packages/numpy/lib/function_base.py:388: RuntimeWarning: invalid value encountered in double_scalars\n",
      "  avg = np.multiply(a, wgt, dtype=result_dtype).sum(axis)/scl\n",
      "/Users/ptyshevs/envs/loc_env/lib/python3.6/site-packages/sklearn/metrics/regression.py:546: RuntimeWarning: overflow encountered in square\n",
      "  y_true, axis=0, weights=sample_weight)) ** 2).sum(axis=0,\n",
      "/Users/ptyshevs/envs/loc_env/lib/python3.6/site-packages/numpy/lib/function_base.py:388: RuntimeWarning: invalid value encountered in double_scalars\n",
      "  avg = np.multiply(a, wgt, dtype=result_dtype).sum(axis)/scl\n",
      "/Users/ptyshevs/envs/loc_env/lib/python3.6/site-packages/sklearn/metrics/regression.py:546: RuntimeWarning: overflow encountered in square\n",
      "  y_true, axis=0, weights=sample_weight)) ** 2).sum(axis=0,\n",
      "/Users/ptyshevs/envs/loc_env/lib/python3.6/site-packages/numpy/lib/function_base.py:388: RuntimeWarning: invalid value encountered in double_scalars\n",
      "  avg = np.multiply(a, wgt, dtype=result_dtype).sum(axis)/scl\n",
      "/Users/ptyshevs/envs/loc_env/lib/python3.6/site-packages/sklearn/metrics/regression.py:546: RuntimeWarning: overflow encountered in square\n",
      "  y_true, axis=0, weights=sample_weight)) ** 2).sum(axis=0,\n",
      "/Users/ptyshevs/envs/loc_env/lib/python3.6/site-packages/numpy/lib/function_base.py:388: RuntimeWarning: invalid value encountered in double_scalars\n",
      "  avg = np.multiply(a, wgt, dtype=result_dtype).sum(axis)/scl\n",
      "/Users/ptyshevs/envs/loc_env/lib/python3.6/site-packages/sklearn/metrics/regression.py:546: RuntimeWarning: overflow encountered in square\n",
      "  y_true, axis=0, weights=sample_weight)) ** 2).sum(axis=0,\n",
      "/Users/ptyshevs/envs/loc_env/lib/python3.6/site-packages/numpy/lib/function_base.py:388: RuntimeWarning: invalid value encountered in double_scalars\n",
      "  avg = np.multiply(a, wgt, dtype=result_dtype).sum(axis)/scl\n",
      "/Users/ptyshevs/envs/loc_env/lib/python3.6/site-packages/sklearn/metrics/regression.py:546: RuntimeWarning: overflow encountered in square\n",
      "  y_true, axis=0, weights=sample_weight)) ** 2).sum(axis=0,\n",
      "/Users/ptyshevs/envs/loc_env/lib/python3.6/site-packages/numpy/lib/function_base.py:388: RuntimeWarning: invalid value encountered in double_scalars\n",
      "  avg = np.multiply(a, wgt, dtype=result_dtype).sum(axis)/scl\n",
      "/Users/ptyshevs/envs/loc_env/lib/python3.6/site-packages/sklearn/metrics/regression.py:546: RuntimeWarning: overflow encountered in square\n",
      "  y_true, axis=0, weights=sample_weight)) ** 2).sum(axis=0,\n",
      "/Users/ptyshevs/envs/loc_env/lib/python3.6/site-packages/numpy/lib/function_base.py:388: RuntimeWarning: invalid value encountered in double_scalars\n",
      "  avg = np.multiply(a, wgt, dtype=result_dtype).sum(axis)/scl\n",
      "/Users/ptyshevs/envs/loc_env/lib/python3.6/site-packages/sklearn/metrics/regression.py:546: RuntimeWarning: overflow encountered in square\n",
      "  y_true, axis=0, weights=sample_weight)) ** 2).sum(axis=0,\n",
      "/Users/ptyshevs/envs/loc_env/lib/python3.6/site-packages/numpy/lib/function_base.py:388: RuntimeWarning: invalid value encountered in double_scalars\n",
      "  avg = np.multiply(a, wgt, dtype=result_dtype).sum(axis)/scl\n",
      "/Users/ptyshevs/envs/loc_env/lib/python3.6/site-packages/sklearn/metrics/regression.py:546: RuntimeWarning: overflow encountered in square\n",
      "  y_true, axis=0, weights=sample_weight)) ** 2).sum(axis=0,\n",
      "/Users/ptyshevs/envs/loc_env/lib/python3.6/site-packages/numpy/lib/function_base.py:388: RuntimeWarning: invalid value encountered in double_scalars\n",
      "  avg = np.multiply(a, wgt, dtype=result_dtype).sum(axis)/scl\n",
      "/Users/ptyshevs/envs/loc_env/lib/python3.6/site-packages/sklearn/metrics/regression.py:546: RuntimeWarning: overflow encountered in square\n",
      "  y_true, axis=0, weights=sample_weight)) ** 2).sum(axis=0,\n",
      "/Users/ptyshevs/envs/loc_env/lib/python3.6/site-packages/numpy/lib/function_base.py:388: RuntimeWarning: invalid value encountered in double_scalars\n",
      "  avg = np.multiply(a, wgt, dtype=result_dtype).sum(axis)/scl\n",
      "/Users/ptyshevs/envs/loc_env/lib/python3.6/site-packages/sklearn/metrics/regression.py:546: RuntimeWarning: overflow encountered in square\n",
      "  y_true, axis=0, weights=sample_weight)) ** 2).sum(axis=0,\n",
      "/Users/ptyshevs/envs/loc_env/lib/python3.6/site-packages/numpy/lib/function_base.py:388: RuntimeWarning: invalid value encountered in double_scalars\n",
      "  avg = np.multiply(a, wgt, dtype=result_dtype).sum(axis)/scl\n",
      "/Users/ptyshevs/envs/loc_env/lib/python3.6/site-packages/sklearn/metrics/regression.py:546: RuntimeWarning: overflow encountered in square\n",
      "  y_true, axis=0, weights=sample_weight)) ** 2).sum(axis=0,\n",
      "/Users/ptyshevs/envs/loc_env/lib/python3.6/site-packages/numpy/lib/function_base.py:388: RuntimeWarning: invalid value encountered in double_scalars\n",
      "  avg = np.multiply(a, wgt, dtype=result_dtype).sum(axis)/scl\n",
      "/Users/ptyshevs/envs/loc_env/lib/python3.6/site-packages/sklearn/metrics/regression.py:546: RuntimeWarning: overflow encountered in square\n",
      "  y_true, axis=0, weights=sample_weight)) ** 2).sum(axis=0,\n",
      "/Users/ptyshevs/envs/loc_env/lib/python3.6/site-packages/numpy/lib/function_base.py:388: RuntimeWarning: invalid value encountered in double_scalars\n",
      "  avg = np.multiply(a, wgt, dtype=result_dtype).sum(axis)/scl\n",
      "/Users/ptyshevs/envs/loc_env/lib/python3.6/site-packages/sklearn/metrics/regression.py:546: RuntimeWarning: overflow encountered in square\n",
      "  y_true, axis=0, weights=sample_weight)) ** 2).sum(axis=0,\n",
      "/Users/ptyshevs/envs/loc_env/lib/python3.6/site-packages/numpy/lib/function_base.py:388: RuntimeWarning: invalid value encountered in double_scalars\n",
      "  avg = np.multiply(a, wgt, dtype=result_dtype).sum(axis)/scl\n",
      "/Users/ptyshevs/envs/loc_env/lib/python3.6/site-packages/sklearn/metrics/regression.py:546: RuntimeWarning: overflow encountered in square\n",
      "  y_true, axis=0, weights=sample_weight)) ** 2).sum(axis=0,\n",
      "/Users/ptyshevs/envs/loc_env/lib/python3.6/site-packages/numpy/lib/function_base.py:388: RuntimeWarning: invalid value encountered in double_scalars\n",
      "  avg = np.multiply(a, wgt, dtype=result_dtype).sum(axis)/scl\n",
      "/Users/ptyshevs/envs/loc_env/lib/python3.6/site-packages/sklearn/metrics/regression.py:546: RuntimeWarning: overflow encountered in square\n",
      "  y_true, axis=0, weights=sample_weight)) ** 2).sum(axis=0,\n",
      "/Users/ptyshevs/envs/loc_env/lib/python3.6/site-packages/numpy/lib/function_base.py:388: RuntimeWarning: invalid value encountered in double_scalars\n",
      "  avg = np.multiply(a, wgt, dtype=result_dtype).sum(axis)/scl\n",
      "/Users/ptyshevs/envs/loc_env/lib/python3.6/site-packages/sklearn/metrics/regression.py:546: RuntimeWarning: overflow encountered in square\n",
      "  y_true, axis=0, weights=sample_weight)) ** 2).sum(axis=0,\n",
      "/Users/ptyshevs/envs/loc_env/lib/python3.6/site-packages/numpy/lib/function_base.py:388: RuntimeWarning: invalid value encountered in double_scalars\n",
      "  avg = np.multiply(a, wgt, dtype=result_dtype).sum(axis)/scl\n",
      "/Users/ptyshevs/envs/loc_env/lib/python3.6/site-packages/sklearn/metrics/regression.py:546: RuntimeWarning: overflow encountered in square\n",
      "  y_true, axis=0, weights=sample_weight)) ** 2).sum(axis=0,\n",
      "/Users/ptyshevs/envs/loc_env/lib/python3.6/site-packages/numpy/lib/function_base.py:388: RuntimeWarning: invalid value encountered in double_scalars\n",
      "  avg = np.multiply(a, wgt, dtype=result_dtype).sum(axis)/scl\n",
      "/Users/ptyshevs/envs/loc_env/lib/python3.6/site-packages/sklearn/metrics/regression.py:546: RuntimeWarning: overflow encountered in square\n",
      "  y_true, axis=0, weights=sample_weight)) ** 2).sum(axis=0,\n",
      "/Users/ptyshevs/envs/loc_env/lib/python3.6/site-packages/numpy/lib/function_base.py:388: RuntimeWarning: invalid value encountered in double_scalars\n",
      "  avg = np.multiply(a, wgt, dtype=result_dtype).sum(axis)/scl\n",
      "/Users/ptyshevs/envs/loc_env/lib/python3.6/site-packages/sklearn/metrics/regression.py:546: RuntimeWarning: overflow encountered in square\n",
      "  y_true, axis=0, weights=sample_weight)) ** 2).sum(axis=0,\n",
      "/Users/ptyshevs/envs/loc_env/lib/python3.6/site-packages/numpy/lib/function_base.py:388: RuntimeWarning: invalid value encountered in double_scalars\n",
      "  avg = np.multiply(a, wgt, dtype=result_dtype).sum(axis)/scl\n",
      "/Users/ptyshevs/envs/loc_env/lib/python3.6/site-packages/sklearn/metrics/regression.py:546: RuntimeWarning: overflow encountered in square\n",
      "  y_true, axis=0, weights=sample_weight)) ** 2).sum(axis=0,\n",
      "/Users/ptyshevs/envs/loc_env/lib/python3.6/site-packages/numpy/lib/function_base.py:388: RuntimeWarning: invalid value encountered in double_scalars\n",
      "  avg = np.multiply(a, wgt, dtype=result_dtype).sum(axis)/scl\n",
      "/Users/ptyshevs/envs/loc_env/lib/python3.6/site-packages/sklearn/metrics/regression.py:546: RuntimeWarning: overflow encountered in square\n",
      "  y_true, axis=0, weights=sample_weight)) ** 2).sum(axis=0,\n",
      "/Users/ptyshevs/envs/loc_env/lib/python3.6/site-packages/numpy/lib/function_base.py:388: RuntimeWarning: invalid value encountered in double_scalars\n",
      "  avg = np.multiply(a, wgt, dtype=result_dtype).sum(axis)/scl\n",
      "/Users/ptyshevs/envs/loc_env/lib/python3.6/site-packages/sklearn/metrics/regression.py:546: RuntimeWarning: overflow encountered in square\n",
      "  y_true, axis=0, weights=sample_weight)) ** 2).sum(axis=0,\n",
      "/Users/ptyshevs/envs/loc_env/lib/python3.6/site-packages/numpy/lib/function_base.py:388: RuntimeWarning: invalid value encountered in double_scalars\n",
      "  avg = np.multiply(a, wgt, dtype=result_dtype).sum(axis)/scl\n",
      "/Users/ptyshevs/envs/loc_env/lib/python3.6/site-packages/sklearn/metrics/regression.py:546: RuntimeWarning: overflow encountered in square\n",
      "  y_true, axis=0, weights=sample_weight)) ** 2).sum(axis=0,\n",
      "/Users/ptyshevs/envs/loc_env/lib/python3.6/site-packages/numpy/lib/function_base.py:388: RuntimeWarning: invalid value encountered in double_scalars\n",
      "  avg = np.multiply(a, wgt, dtype=result_dtype).sum(axis)/scl\n",
      "/Users/ptyshevs/envs/loc_env/lib/python3.6/site-packages/sklearn/metrics/regression.py:546: RuntimeWarning: overflow encountered in square\n",
      "  y_true, axis=0, weights=sample_weight)) ** 2).sum(axis=0,\n",
      "/Users/ptyshevs/envs/loc_env/lib/python3.6/site-packages/numpy/lib/function_base.py:388: RuntimeWarning: invalid value encountered in double_scalars\n",
      "  avg = np.multiply(a, wgt, dtype=result_dtype).sum(axis)/scl\n",
      "/Users/ptyshevs/envs/loc_env/lib/python3.6/site-packages/sklearn/metrics/regression.py:546: RuntimeWarning: overflow encountered in square\n",
      "  y_true, axis=0, weights=sample_weight)) ** 2).sum(axis=0,\n",
      "/Users/ptyshevs/envs/loc_env/lib/python3.6/site-packages/numpy/lib/function_base.py:388: RuntimeWarning: invalid value encountered in double_scalars\n",
      "  avg = np.multiply(a, wgt, dtype=result_dtype).sum(axis)/scl\n",
      "/Users/ptyshevs/envs/loc_env/lib/python3.6/site-packages/sklearn/metrics/regression.py:546: RuntimeWarning: overflow encountered in square\n",
      "  y_true, axis=0, weights=sample_weight)) ** 2).sum(axis=0,\n",
      "/Users/ptyshevs/envs/loc_env/lib/python3.6/site-packages/numpy/lib/function_base.py:388: RuntimeWarning: invalid value encountered in double_scalars\n",
      "  avg = np.multiply(a, wgt, dtype=result_dtype).sum(axis)/scl\n",
      "/Users/ptyshevs/envs/loc_env/lib/python3.6/site-packages/sklearn/metrics/regression.py:546: RuntimeWarning: overflow encountered in square\n",
      "  y_true, axis=0, weights=sample_weight)) ** 2).sum(axis=0,\n",
      "/Users/ptyshevs/envs/loc_env/lib/python3.6/site-packages/numpy/lib/function_base.py:388: RuntimeWarning: invalid value encountered in double_scalars\n",
      "  avg = np.multiply(a, wgt, dtype=result_dtype).sum(axis)/scl\n",
      "/Users/ptyshevs/envs/loc_env/lib/python3.6/site-packages/sklearn/metrics/regression.py:546: RuntimeWarning: overflow encountered in square\n",
      "  y_true, axis=0, weights=sample_weight)) ** 2).sum(axis=0,\n",
      "/Users/ptyshevs/envs/loc_env/lib/python3.6/site-packages/numpy/lib/function_base.py:388: RuntimeWarning: invalid value encountered in double_scalars\n",
      "  avg = np.multiply(a, wgt, dtype=result_dtype).sum(axis)/scl\n",
      "/Users/ptyshevs/envs/loc_env/lib/python3.6/site-packages/sklearn/metrics/regression.py:546: RuntimeWarning: overflow encountered in square\n",
      "  y_true, axis=0, weights=sample_weight)) ** 2).sum(axis=0,\n",
      "/Users/ptyshevs/envs/loc_env/lib/python3.6/site-packages/numpy/lib/function_base.py:388: RuntimeWarning: invalid value encountered in double_scalars\n",
      "  avg = np.multiply(a, wgt, dtype=result_dtype).sum(axis)/scl\n",
      "/Users/ptyshevs/envs/loc_env/lib/python3.6/site-packages/sklearn/metrics/regression.py:546: RuntimeWarning: overflow encountered in square\n",
      "  y_true, axis=0, weights=sample_weight)) ** 2).sum(axis=0,\n",
      "/Users/ptyshevs/envs/loc_env/lib/python3.6/site-packages/numpy/lib/function_base.py:388: RuntimeWarning: invalid value encountered in double_scalars\n",
      "  avg = np.multiply(a, wgt, dtype=result_dtype).sum(axis)/scl\n",
      "/Users/ptyshevs/envs/loc_env/lib/python3.6/site-packages/sklearn/metrics/regression.py:546: RuntimeWarning: overflow encountered in square\n",
      "  y_true, axis=0, weights=sample_weight)) ** 2).sum(axis=0,\n",
      "/Users/ptyshevs/envs/loc_env/lib/python3.6/site-packages/numpy/lib/function_base.py:388: RuntimeWarning: invalid value encountered in double_scalars\n",
      "  avg = np.multiply(a, wgt, dtype=result_dtype).sum(axis)/scl\n",
      "/Users/ptyshevs/envs/loc_env/lib/python3.6/site-packages/sklearn/metrics/regression.py:546: RuntimeWarning: overflow encountered in square\n",
      "  y_true, axis=0, weights=sample_weight)) ** 2).sum(axis=0,\n",
      "/Users/ptyshevs/envs/loc_env/lib/python3.6/site-packages/numpy/lib/function_base.py:388: RuntimeWarning: invalid value encountered in double_scalars\n",
      "  avg = np.multiply(a, wgt, dtype=result_dtype).sum(axis)/scl\n",
      "/Users/ptyshevs/envs/loc_env/lib/python3.6/site-packages/sklearn/metrics/regression.py:546: RuntimeWarning: overflow encountered in square\n",
      "  y_true, axis=0, weights=sample_weight)) ** 2).sum(axis=0,\n",
      "/Users/ptyshevs/envs/loc_env/lib/python3.6/site-packages/numpy/lib/function_base.py:388: RuntimeWarning: invalid value encountered in double_scalars\n",
      "  avg = np.multiply(a, wgt, dtype=result_dtype).sum(axis)/scl\n",
      "/Users/ptyshevs/envs/loc_env/lib/python3.6/site-packages/sklearn/metrics/regression.py:546: RuntimeWarning: overflow encountered in square\n",
      "  y_true, axis=0, weights=sample_weight)) ** 2).sum(axis=0,\n",
      "/Users/ptyshevs/envs/loc_env/lib/python3.6/site-packages/numpy/lib/function_base.py:388: RuntimeWarning: invalid value encountered in double_scalars\n",
      "  avg = np.multiply(a, wgt, dtype=result_dtype).sum(axis)/scl\n",
      "/Users/ptyshevs/envs/loc_env/lib/python3.6/site-packages/sklearn/metrics/regression.py:546: RuntimeWarning: overflow encountered in square\n",
      "  y_true, axis=0, weights=sample_weight)) ** 2).sum(axis=0,\n",
      "/Users/ptyshevs/envs/loc_env/lib/python3.6/site-packages/numpy/lib/function_base.py:388: RuntimeWarning: invalid value encountered in double_scalars\n",
      "  avg = np.multiply(a, wgt, dtype=result_dtype).sum(axis)/scl\n",
      "/Users/ptyshevs/envs/loc_env/lib/python3.6/site-packages/sklearn/metrics/regression.py:546: RuntimeWarning: overflow encountered in square\n",
      "  y_true, axis=0, weights=sample_weight)) ** 2).sum(axis=0,\n",
      "/Users/ptyshevs/envs/loc_env/lib/python3.6/site-packages/numpy/lib/function_base.py:388: RuntimeWarning: invalid value encountered in double_scalars\n",
      "  avg = np.multiply(a, wgt, dtype=result_dtype).sum(axis)/scl\n",
      "/Users/ptyshevs/envs/loc_env/lib/python3.6/site-packages/sklearn/metrics/regression.py:546: RuntimeWarning: overflow encountered in square\n",
      "  y_true, axis=0, weights=sample_weight)) ** 2).sum(axis=0,\n",
      "/Users/ptyshevs/envs/loc_env/lib/python3.6/site-packages/numpy/lib/function_base.py:388: RuntimeWarning: invalid value encountered in double_scalars\n",
      "  avg = np.multiply(a, wgt, dtype=result_dtype).sum(axis)/scl\n",
      "/Users/ptyshevs/envs/loc_env/lib/python3.6/site-packages/sklearn/metrics/regression.py:546: RuntimeWarning: overflow encountered in square\n",
      "  y_true, axis=0, weights=sample_weight)) ** 2).sum(axis=0,\n",
      "/Users/ptyshevs/envs/loc_env/lib/python3.6/site-packages/numpy/lib/function_base.py:388: RuntimeWarning: invalid value encountered in double_scalars\n",
      "  avg = np.multiply(a, wgt, dtype=result_dtype).sum(axis)/scl\n",
      "/Users/ptyshevs/envs/loc_env/lib/python3.6/site-packages/sklearn/metrics/regression.py:546: RuntimeWarning: overflow encountered in square\n",
      "  y_true, axis=0, weights=sample_weight)) ** 2).sum(axis=0,\n",
      "/Users/ptyshevs/envs/loc_env/lib/python3.6/site-packages/numpy/lib/function_base.py:388: RuntimeWarning: invalid value encountered in double_scalars\n",
      "  avg = np.multiply(a, wgt, dtype=result_dtype).sum(axis)/scl\n",
      "/Users/ptyshevs/envs/loc_env/lib/python3.6/site-packages/sklearn/metrics/regression.py:546: RuntimeWarning: overflow encountered in square\n",
      "  y_true, axis=0, weights=sample_weight)) ** 2).sum(axis=0,\n",
      "/Users/ptyshevs/envs/loc_env/lib/python3.6/site-packages/numpy/lib/function_base.py:388: RuntimeWarning: invalid value encountered in double_scalars\n",
      "  avg = np.multiply(a, wgt, dtype=result_dtype).sum(axis)/scl\n",
      "/Users/ptyshevs/envs/loc_env/lib/python3.6/site-packages/sklearn/model_selection/_search.py:841: DeprecationWarning: The default of the `iid` parameter will change from True to False in version 0.22 and will be removed in 0.24. This will change numeric results when test-set sizes are unequal.\n",
      "  DeprecationWarning)\n"
     ]
    },
    {
     "data": {
      "text/plain": [
       "RandomizedSearchCV(cv=3, error_score='raise-deprecating',\n",
       "          estimator=DecisionTreeRegressor(criterion='mse', max_depth=None, max_features=None,\n",
       "           max_leaf_nodes=None, min_impurity_decrease=0.0,\n",
       "           min_impurity_split=None, min_samples_leaf=1,\n",
       "           min_samples_split=2, min_weight_fraction_leaf=0.0,\n",
       "           presort=False, random_state=None, splitter='best'),\n",
       "          fit_params=None, iid='warn', n_iter=10, n_jobs=None,\n",
       "          param_distributions={'max_depth': (2, 5, 8, 10), 'max_features': (2, 5, 10)},\n",
       "          pre_dispatch='2*n_jobs', random_state=None, refit=True,\n",
       "          return_train_score='warn', scoring=None, verbose=0)"
      ]
     },
     "execution_count": 78,
     "metadata": {},
     "output_type": "execute_result"
    }
   ],
   "source": [
    "# GridSearch doesn't work, perhaps because of the internals. Hashing trick?\n",
    "rsearch.fit(X_train, y_train)"
   ]
  },
  {
   "cell_type": "code",
   "execution_count": 70,
   "metadata": {},
   "outputs": [
    {
     "data": {
      "text/plain": [
       "0"
      ]
     },
     "execution_count": 70,
     "metadata": {},
     "output_type": "execute_result"
    }
   ],
   "source": [
    "rsearch.best_index_"
   ]
  }
 ],
 "metadata": {
  "kernelspec": {
   "display_name": "Python 3",
   "language": "python",
   "name": "python3"
  },
  "language_info": {
   "codemirror_mode": {
    "name": "ipython",
    "version": 3
   },
   "file_extension": ".py",
   "mimetype": "text/x-python",
   "name": "python",
   "nbconvert_exporter": "python",
   "pygments_lexer": "ipython3",
   "version": "3.6.2"
  }
 },
 "nbformat": 4,
 "nbformat_minor": 2
}
