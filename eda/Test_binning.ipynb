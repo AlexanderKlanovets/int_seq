{
 "cells": [
  {
   "cell_type": "code",
   "execution_count": 40,
   "metadata": {},
   "outputs": [],
   "source": [
    "import pandas as pd\n",
    "import numpy as np\n",
    "from tools import acc_score"
   ]
  },
  {
   "cell_type": "code",
   "execution_count": 2,
   "metadata": {},
   "outputs": [],
   "source": [
    "df_train = pd.read_csv(\"../data/train.csv\", index_col=0)\n",
    "df_test = pd.read_csv(\"../data/test.csv\", index_col=0)"
   ]
  },
  {
   "cell_type": "code",
   "execution_count": 244,
   "metadata": {},
   "outputs": [],
   "source": [
    "train_bins = seq_to_num(df_train.Sequence, target_split=True, pad=True, pad_adaptive=True,\n",
    "                        pad_maxlen=100, dtype=np.float32, drop_na_inf=True,\n",
    "                        nbins=5, bins_by='terms')\n",
    "test_bins = seq_to_num(df_test.Sequence, target_split=True, pad_adaptive=True,\n",
    "                            dtype=np.float32, drop_na_inf=True, nbins=5, bins_by='terms')"
   ]
  },
  {
   "cell_type": "code",
   "execution_count": 223,
   "metadata": {},
   "outputs": [],
   "source": [
    "train_X, train_y, _ = train_bins[4]"
   ]
  },
  {
   "cell_type": "code",
   "execution_count": 224,
   "metadata": {},
   "outputs": [],
   "source": [
    "test_X, test_y, test_idx = test_bins[4]"
   ]
  },
  {
   "cell_type": "code",
   "execution_count": 225,
   "metadata": {},
   "outputs": [],
   "source": [
    "from sklearn.tree import DecisionTreeRegressor, ExtraTreeRegressor"
   ]
  },
  {
   "cell_type": "code",
   "execution_count": 226,
   "metadata": {},
   "outputs": [
    {
     "data": {
      "text/plain": [
       "DecisionTreeRegressor(criterion='mse', max_depth=None, max_features=None,\n",
       "           max_leaf_nodes=None, min_impurity_decrease=0.0,\n",
       "           min_impurity_split=None, min_samples_leaf=1,\n",
       "           min_samples_split=2, min_weight_fraction_leaf=0.0,\n",
       "           presort=False, random_state=42, splitter='best')"
      ]
     },
     "execution_count": 226,
     "metadata": {},
     "output_type": "execute_result"
    }
   ],
   "source": [
    "dt = DecisionTreeRegressor(random_state=42)\n",
    "dt.fit(train_X, train_y)"
   ]
  },
  {
   "cell_type": "code",
   "execution_count": 228,
   "metadata": {},
   "outputs": [
    {
     "data": {
      "text/plain": [
       "0.25655293600820034"
      ]
     },
     "execution_count": 228,
     "metadata": {},
     "output_type": "execute_result"
    }
   ],
   "source": [
    "acc_score(dt.predict(test_X), test_y)"
   ]
  },
  {
   "cell_type": "code",
   "execution_count": 140,
   "metadata": {},
   "outputs": [],
   "source": [
    "train_X2, train_y2, _ = train_bins[1]\n",
    "test_X2, test_y2, _ = test_bins[1]"
   ]
  },
  {
   "cell_type": "code",
   "execution_count": 141,
   "metadata": {},
   "outputs": [
    {
     "data": {
      "text/plain": [
       "ExtraTreeRegressor(criterion='mse', max_depth=100, max_features='auto',\n",
       "          max_leaf_nodes=None, min_impurity_decrease=0.0,\n",
       "          min_impurity_split=None, min_samples_leaf=1, min_samples_split=2,\n",
       "          min_weight_fraction_leaf=0.0, random_state=42, splitter='random')"
      ]
     },
     "execution_count": 141,
     "metadata": {},
     "output_type": "execute_result"
    }
   ],
   "source": [
    "etr = ExtraTreeRegressor(max_depth=100, random_state=42)\n",
    "etr.fit(train_X2, train_y2)"
   ]
  },
  {
   "cell_type": "code",
   "execution_count": 142,
   "metadata": {},
   "outputs": [
    {
     "data": {
      "text/plain": [
       "0.09251939686722295"
      ]
     },
     "execution_count": 142,
     "metadata": {},
     "output_type": "execute_result"
    }
   ],
   "source": [
    "acc_score(etr.predict(test_X2), test_y2)"
   ]
  },
  {
   "cell_type": "code",
   "execution_count": 158,
   "metadata": {},
   "outputs": [
    {
     "data": {
      "text/plain": [
       "0.0"
      ]
     },
     "execution_count": 158,
     "metadata": {},
     "output_type": "execute_result"
    }
   ],
   "source": [
    "# too long sequence?\n",
    "train_X2, train_y2 = train_bins[2]\n",
    "test_X2, test_y2 = test_bins[2]\n",
    "etr = DecisionTreeRegressor(max_depth=5, random_state=42)\n",
    "etr.fit(train_X2, train_y2)\n",
    "acc_score(etr.predict(test_X2), test_y2)"
   ]
  },
  {
   "cell_type": "code",
   "execution_count": 159,
   "metadata": {},
   "outputs": [],
   "source": [
    "from sklearn.neural_network import MLPRegressor"
   ]
  },
  {
   "cell_type": "code",
   "execution_count": 160,
   "metadata": {},
   "outputs": [
    {
     "name": "stderr",
     "output_type": "stream",
     "text": [
      "/Users/ptyshevs/envs/loc_env/lib/python3.6/site-packages/sklearn/neural_network/multilayer_perceptron.py:562: ConvergenceWarning: Stochastic Optimizer: Maximum iterations (200) reached and the optimization hasn't converged yet.\n",
      "  % self.max_iter, ConvergenceWarning)\n"
     ]
    },
    {
     "data": {
      "text/plain": [
       "0.0"
      ]
     },
     "execution_count": 160,
     "metadata": {},
     "output_type": "execute_result"
    }
   ],
   "source": [
    "# NNet still doesn't work\n",
    "mlp = MLPRegressor(hidden_layer_sizes=(10, 1))\n",
    "mlp.fit(train_X, train_y)\n",
    "acc_score(mlp.predict(test_X), test_y)"
   ]
  },
  {
   "cell_type": "code",
   "execution_count": 162,
   "metadata": {},
   "outputs": [],
   "source": [
    "# Try to combine predictions for bin 3 and 4 (by terms), while\n",
    "# fallback to mode on bin 0, 1, 2\n",
    "def mmode(arr):\n",
    "    modes = []\n",
    "    for row in arr:\n",
    "        counts = {i: row.tolist().count(i) for i in row}\n",
    "        if len(counts) > 0:\n",
    "            modes.append(max(counts.items(), key=lambda x:x[1])[0])\n",
    "        else:\n",
    "            modes.append(0)\n",
    "    return modes"
   ]
  },
  {
   "cell_type": "code",
   "execution_count": 43,
   "metadata": {},
   "outputs": [],
   "source": [
    "kg_train = pd.read_csv('../data/kaggle_train.csv', index_col=0)\n",
    "kg_test = pd.read_csv('../data/kaggle_test.csv', index_col=0)"
   ]
  },
  {
   "cell_type": "code",
   "execution_count": 229,
   "metadata": {},
   "outputs": [],
   "source": [
    "train_bins = seq_to_num(kg_train.Sequence, target_split=True,\n",
    "                        pad_adaptive=True, dtype=np.float32, drop_na_inf=True,\n",
    "                        nbins=5, bins_by='terms')\n",
    "test_bins = seq_to_num(kg_test.Sequence, target_split=False, pad_adaptive=True,\n",
    "                            dtype=np.float32, drop_na_inf=True, nbins=5, bins_by='terms')"
   ]
  },
  {
   "cell_type": "code",
   "execution_count": 230,
   "metadata": {},
   "outputs": [
    {
     "data": {
      "text/plain": [
       "DecisionTreeRegressor(criterion='mse', max_depth=None, max_features=None,\n",
       "           max_leaf_nodes=None, min_impurity_decrease=0.0,\n",
       "           min_impurity_split=None, min_samples_leaf=1,\n",
       "           min_samples_split=2, min_weight_fraction_leaf=0.0,\n",
       "           presort=False, random_state=42, splitter='best')"
      ]
     },
     "execution_count": 230,
     "metadata": {},
     "output_type": "execute_result"
    }
   ],
   "source": [
    "bin3_X, bin3_y, _ = train_bins[3]\n",
    "bin4_X, bin4_y, _ = train_bins[4]\n",
    "dt_bin3 = DecisionTreeRegressor(random_state=42)\n",
    "dt_bin4 = DecisionTreeRegressor(random_state=42)\n",
    "dt_bin3.fit(bin3_X, bin3_y)\n",
    "dt_bin4.fit(bin4_X, bin4_y)"
   ]
  },
  {
   "cell_type": "code",
   "execution_count": 232,
   "metadata": {},
   "outputs": [],
   "source": [
    "pred_bin3 = dt_bin3.predict(test_bins[3][0])\n",
    "pred_bin4 = dt_bin4.predict(test_bins[4][0])"
   ]
  },
  {
   "cell_type": "code",
   "execution_count": 237,
   "metadata": {},
   "outputs": [
    {
     "data": {
      "text/plain": [
       "((22764,), (22764,))"
      ]
     },
     "execution_count": 237,
     "metadata": {},
     "output_type": "execute_result"
    }
   ],
   "source": [
    "test_bins[3][1].shape, pred_bin3.shape"
   ]
  },
  {
   "cell_type": "code",
   "execution_count": 173,
   "metadata": {},
   "outputs": [],
   "source": [
    "pred_bin0 = mmode(test_bins[0])"
   ]
  },
  {
   "cell_type": "code",
   "execution_count": 174,
   "metadata": {},
   "outputs": [],
   "source": [
    "pred_bin1 = mmode(test_bins[1])\n",
    "pred_bin2 = mmode(test_bins[2])"
   ]
  },
  {
   "cell_type": "code",
   "execution_count": 238,
   "metadata": {},
   "outputs": [],
   "source": [
    "pred3 = pd.Series(pred_bin3, index=test_bins[3][1], dtype=object).map(lambda x: int(x))\n",
    "pred4 = pd.Series(pred_bin4, index=test_bins[4][1], dtype=object).map(lambda x: int(x))"
   ]
  },
  {
   "cell_type": "code",
   "execution_count": 239,
   "metadata": {},
   "outputs": [],
   "source": []
  },
  {
   "cell_type": "code",
   "execution_count": 240,
   "metadata": {},
   "outputs": [],
   "source": [
    "pred_total = pd.Series(np.zeros(kg_test.shape[0]), index=kg_test.index, dtype=np.int64)\n",
    "pred_total[test_bins[3][1]] = pred_bin3\n",
    "pred_total[test_bins[4][1]] = pred_bin4"
   ]
  },
  {
   "cell_type": "code",
   "execution_count": 241,
   "metadata": {},
   "outputs": [],
   "source": [
    "prep_submit(pred_total)"
   ]
  }
 ],
 "metadata": {
  "kernelspec": {
   "display_name": "Python 3",
   "language": "python",
   "name": "python3"
  },
  "language_info": {
   "codemirror_mode": {
    "name": "ipython",
    "version": 3
   },
   "file_extension": ".py",
   "mimetype": "text/x-python",
   "name": "python",
   "nbconvert_exporter": "python",
   "pygments_lexer": "ipython3",
   "version": "3.6.2"
  }
 },
 "nbformat": 4,
 "nbformat_minor": 2
}
