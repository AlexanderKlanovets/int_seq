{
 "cells": [
  {
   "cell_type": "code",
   "execution_count": 15,
   "metadata": {
    "collapsed": true
   },
   "outputs": [],
   "source": [
    "import pandas as pd\n",
    "import numpy as np\n",
    "import matplotlib.pyplot as plt\n",
    "import seaborn as sns"
   ]
  },
  {
   "cell_type": "code",
   "execution_count": 16,
   "metadata": {},
   "outputs": [],
   "source": [
    "df = pd.read_csv(\"../data/train.csv\", index_col=0)"
   ]
  },
  {
   "cell_type": "code",
   "execution_count": 17,
   "metadata": {},
   "outputs": [
    {
     "data": {
      "text/html": [
       "<div>\n",
       "<style scoped>\n",
       "    .dataframe tbody tr th:only-of-type {\n",
       "        vertical-align: middle;\n",
       "    }\n",
       "\n",
       "    .dataframe tbody tr th {\n",
       "        vertical-align: top;\n",
       "    }\n",
       "\n",
       "    .dataframe thead th {\n",
       "        text-align: right;\n",
       "    }\n",
       "</style>\n",
       "<table border=\"1\" class=\"dataframe\">\n",
       "  <thead>\n",
       "    <tr style=\"text-align: right;\">\n",
       "      <th></th>\n",
       "      <th>Sequence</th>\n",
       "    </tr>\n",
       "    <tr>\n",
       "      <th>Id</th>\n",
       "      <th></th>\n",
       "    </tr>\n",
       "  </thead>\n",
       "  <tbody>\n",
       "    <tr>\n",
       "      <th>222447</th>\n",
       "      <td>10,11,12,13,14,15,16,17,18,19,1011,21,1112,111...</td>\n",
       "    </tr>\n",
       "    <tr>\n",
       "      <th>126500</th>\n",
       "      <td>1,0,2,0,0,6,0,0,0,21,0,0,0,3,79,0,0,0,0,41,311...</td>\n",
       "    </tr>\n",
       "    <tr>\n",
       "      <th>217366</th>\n",
       "      <td>1,2,4,8,15,30,58,114,225,443,871,1715,3375,664...</td>\n",
       "    </tr>\n",
       "    <tr>\n",
       "      <th>4216</th>\n",
       "      <td>1,2,12,432,31104,6718464,8707129344,2256887925...</td>\n",
       "    </tr>\n",
       "    <tr>\n",
       "      <th>65934</th>\n",
       "      <td>1,2,0,3,0,0,1,4,1,0,2,0,0,2,0,5,0,2,0,0,0,4,2,...</td>\n",
       "    </tr>\n",
       "  </tbody>\n",
       "</table>\n",
       "</div>"
      ],
      "text/plain": [
       "                                                 Sequence\n",
       "Id                                                       \n",
       "222447  10,11,12,13,14,15,16,17,18,19,1011,21,1112,111...\n",
       "126500  1,0,2,0,0,6,0,0,0,21,0,0,0,3,79,0,0,0,0,41,311...\n",
       "217366  1,2,4,8,15,30,58,114,225,443,871,1715,3375,664...\n",
       "4216    1,2,12,432,31104,6718464,8707129344,2256887925...\n",
       "65934   1,2,0,3,0,0,1,4,1,0,2,0,0,2,0,5,0,2,0,0,0,4,2,..."
      ]
     },
     "execution_count": 17,
     "metadata": {},
     "output_type": "execute_result"
    }
   ],
   "source": [
    "df.head()"
   ]
  },
  {
   "cell_type": "code",
   "execution_count": 18,
   "metadata": {},
   "outputs": [
    {
     "data": {
      "text/plain": [
       "(79692, 1)"
      ]
     },
     "execution_count": 18,
     "metadata": {},
     "output_type": "execute_result"
    }
   ],
   "source": [
    "df.shape"
   ]
  },
  {
   "cell_type": "code",
   "execution_count": 60,
   "metadata": {},
   "outputs": [
    {
     "data": {
      "text/plain": [
       "Id\n",
       "222447     46\n",
       "126500     74\n",
       "217366     28\n",
       "4216       11\n",
       "65934     104\n",
       "Name: Sequence, dtype: int64"
      ]
     },
     "execution_count": 60,
     "metadata": {},
     "output_type": "execute_result"
    }
   ],
   "source": [
    "df.Sequence.str.count(',').head()"
   ]
  },
  {
   "cell_type": "code",
   "execution_count": 20,
   "metadata": {},
   "outputs": [],
   "source": [
    "df['numbers'] = df.Sequence.str.split(',').map(np.float128)"
   ]
  },
  {
   "cell_type": "code",
   "execution_count": 21,
   "metadata": {},
   "outputs": [],
   "source": [
    "df['terms'] = df.Sequence.str.count(',') + 1"
   ]
  },
  {
   "cell_type": "code",
   "execution_count": 22,
   "metadata": {},
   "outputs": [
    {
     "data": {
      "text/html": [
       "<div>\n",
       "<style scoped>\n",
       "    .dataframe tbody tr th:only-of-type {\n",
       "        vertical-align: middle;\n",
       "    }\n",
       "\n",
       "    .dataframe tbody tr th {\n",
       "        vertical-align: top;\n",
       "    }\n",
       "\n",
       "    .dataframe thead th {\n",
       "        text-align: right;\n",
       "    }\n",
       "</style>\n",
       "<table border=\"1\" class=\"dataframe\">\n",
       "  <thead>\n",
       "    <tr style=\"text-align: right;\">\n",
       "      <th></th>\n",
       "      <th>Sequence</th>\n",
       "      <th>numbers</th>\n",
       "      <th>terms</th>\n",
       "    </tr>\n",
       "    <tr>\n",
       "      <th>Id</th>\n",
       "      <th></th>\n",
       "      <th></th>\n",
       "      <th></th>\n",
       "    </tr>\n",
       "  </thead>\n",
       "  <tbody>\n",
       "    <tr>\n",
       "      <th>222447</th>\n",
       "      <td>10,11,12,13,14,15,16,17,18,19,1011,21,1112,111...</td>\n",
       "      <td>[10.0, 11.0, 12.0, 13.0, 14.0, 15.0, 16.0, 17....</td>\n",
       "      <td>47</td>\n",
       "    </tr>\n",
       "    <tr>\n",
       "      <th>126500</th>\n",
       "      <td>1,0,2,0,0,6,0,0,0,21,0,0,0,3,79,0,0,0,0,41,311...</td>\n",
       "      <td>[1.0, 0.0, 2.0, 0.0, 0.0, 6.0, 0.0, 0.0, 0.0, ...</td>\n",
       "      <td>75</td>\n",
       "    </tr>\n",
       "    <tr>\n",
       "      <th>217366</th>\n",
       "      <td>1,2,4,8,15,30,58,114,225,443,871,1715,3375,664...</td>\n",
       "      <td>[1.0, 2.0, 4.0, 8.0, 15.0, 30.0, 58.0, 114.0, ...</td>\n",
       "      <td>29</td>\n",
       "    </tr>\n",
       "    <tr>\n",
       "      <th>4216</th>\n",
       "      <td>1,2,12,432,31104,6718464,8707129344,2256887925...</td>\n",
       "      <td>[1.0, 2.0, 12.0, 432.0, 31104.0, 6718464.0, 87...</td>\n",
       "      <td>12</td>\n",
       "    </tr>\n",
       "    <tr>\n",
       "      <th>65934</th>\n",
       "      <td>1,2,0,3,0,0,1,4,1,0,2,0,0,2,0,5,0,2,0,0,0,4,2,...</td>\n",
       "      <td>[1.0, 2.0, 0.0, 3.0, 0.0, 0.0, 1.0, 4.0, 1.0, ...</td>\n",
       "      <td>105</td>\n",
       "    </tr>\n",
       "  </tbody>\n",
       "</table>\n",
       "</div>"
      ],
      "text/plain": [
       "                                                 Sequence  \\\n",
       "Id                                                          \n",
       "222447  10,11,12,13,14,15,16,17,18,19,1011,21,1112,111...   \n",
       "126500  1,0,2,0,0,6,0,0,0,21,0,0,0,3,79,0,0,0,0,41,311...   \n",
       "217366  1,2,4,8,15,30,58,114,225,443,871,1715,3375,664...   \n",
       "4216    1,2,12,432,31104,6718464,8707129344,2256887925...   \n",
       "65934   1,2,0,3,0,0,1,4,1,0,2,0,0,2,0,5,0,2,0,0,0,4,2,...   \n",
       "\n",
       "                                                  numbers  terms  \n",
       "Id                                                                \n",
       "222447  [10.0, 11.0, 12.0, 13.0, 14.0, 15.0, 16.0, 17....     47  \n",
       "126500  [1.0, 0.0, 2.0, 0.0, 0.0, 6.0, 0.0, 0.0, 0.0, ...     75  \n",
       "217366  [1.0, 2.0, 4.0, 8.0, 15.0, 30.0, 58.0, 114.0, ...     29  \n",
       "4216    [1.0, 2.0, 12.0, 432.0, 31104.0, 6718464.0, 87...     12  \n",
       "65934   [1.0, 2.0, 0.0, 3.0, 0.0, 0.0, 1.0, 4.0, 1.0, ...    105  "
      ]
     },
     "execution_count": 22,
     "metadata": {},
     "output_type": "execute_result"
    }
   ],
   "source": [
    "df.head()"
   ]
  },
  {
   "cell_type": "code",
   "execution_count": 59,
   "metadata": {},
   "outputs": [
    {
     "data": {
      "image/png": "[encoded data removed]",
      "text/plain": [
       "<Figure size 432x288 with 1 Axes>"
      ]
     },
     "metadata": {
      "needs_background": "light"
     },
     "output_type": "display_data"
    }
   ],
   "source": [
    "# larger number of bins results in weird \"gaps\"\n",
    "sns.distplot(df.terms[df.terms < df.terms.quantile(.95)], bins=18)\n",
    "plt.title(\"Number of terms in a sequence\")\n",
    "plt.ylabel(\"Relative frequence\");"
   ]
  }
 ],
 "metadata": {
  "kernelspec": {
   "display_name": "Python 3",
   "language": "python",
   "name": "python3"
  },
  "language_info": {
   "codemirror_mode": {
    "name": "ipython",
    "version": 3
   },
   "file_extension": ".py",
   "mimetype": "text/x-python",
   "name": "python",
   "nbconvert_exporter": "python",
   "pygments_lexer": "ipython3",
   "version": "3.6.2"
  }
 },
 "nbformat": 4,
 "nbformat_minor": 2
}
