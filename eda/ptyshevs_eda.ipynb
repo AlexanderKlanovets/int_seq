{
 "cells": [
  {
   "cell_type": "code",
   "execution_count": 15,
   "metadata": {
    "collapsed": true
   },
   "outputs": [],
   "source": [
    "import pandas as pd\n",
    "import numpy as np\n",
    "import matplotlib.pyplot as plt\n",
    "import seaborn as sns"
   ]
  },
  {
   "cell_type": "code",
   "execution_count": 16,
   "metadata": {},
   "outputs": [],
   "source": [
    "df = pd.read_csv(\"../data/train.csv\", index_col=0)"
   ]
  },
  {
   "cell_type": "code",
   "execution_count": 17,
   "metadata": {},
   "outputs": [
    {
     "data": {
      "text/html": [
       "<div>\n",
       "<style scoped>\n",
       "    .dataframe tbody tr th:only-of-type {\n",
       "        vertical-align: middle;\n",
       "    }\n",
       "\n",
       "    .dataframe tbody tr th {\n",
       "        vertical-align: top;\n",
       "    }\n",
       "\n",
       "    .dataframe thead th {\n",
       "        text-align: right;\n",
       "    }\n",
       "</style>\n",
       "<table border=\"1\" class=\"dataframe\">\n",
       "  <thead>\n",
       "    <tr style=\"text-align: right;\">\n",
       "      <th></th>\n",
       "      <th>Sequence</th>\n",
       "    </tr>\n",
       "    <tr>\n",
       "      <th>Id</th>\n",
       "      <th></th>\n",
       "    </tr>\n",
       "  </thead>\n",
       "  <tbody>\n",
       "    <tr>\n",
       "      <th>222447</th>\n",
       "      <td>10,11,12,13,14,15,16,17,18,19,1011,21,1112,111...</td>\n",
       "    </tr>\n",
       "    <tr>\n",
       "      <th>126500</th>\n",
       "      <td>1,0,2,0,0,6,0,0,0,21,0,0,0,3,79,0,0,0,0,41,311...</td>\n",
       "    </tr>\n",
       "    <tr>\n",
       "      <th>217366</th>\n",
       "      <td>1,2,4,8,15,30,58,114,225,443,871,1715,3375,664...</td>\n",
       "    </tr>\n",
       "    <tr>\n",
       "      <th>4216</th>\n",
       "      <td>1,2,12,432,31104,6718464,8707129344,2256887925...</td>\n",
       "    </tr>\n",
       "    <tr>\n",
       "      <th>65934</th>\n",
       "      <td>1,2,0,3,0,0,1,4,1,0,2,0,0,2,0,5,0,2,0,0,0,4,2,...</td>\n",
       "    </tr>\n",
       "  </tbody>\n",
       "</table>\n",
       "</div>"
      ],
      "text/plain": [
       "                                                 Sequence\n",
       "Id                                                       \n",
       "222447  10,11,12,13,14,15,16,17,18,19,1011,21,1112,111...\n",
       "126500  1,0,2,0,0,6,0,0,0,21,0,0,0,3,79,0,0,0,0,41,311...\n",
       "217366  1,2,4,8,15,30,58,114,225,443,871,1715,3375,664...\n",
       "4216    1,2,12,432,31104,6718464,8707129344,2256887925...\n",
       "65934   1,2,0,3,0,0,1,4,1,0,2,0,0,2,0,5,0,2,0,0,0,4,2,..."
      ]
     },
     "execution_count": 17,
     "metadata": {},
     "output_type": "execute_result"
    }
   ],
   "source": [
    "df.head()"
   ]
  },
  {
   "cell_type": "code",
   "execution_count": 18,
   "metadata": {},
   "outputs": [
    {
     "data": {
      "text/plain": [
       "(79692, 1)"
      ]
     },
     "execution_count": 18,
     "metadata": {},
     "output_type": "execute_result"
    }
   ],
   "source": [
    "df.shape"
   ]
  },
  {
   "cell_type": "code",
   "execution_count": 19,
   "metadata": {},
   "outputs": [
    {
     "data": {
      "text/plain": [
       "Id\n",
       "222447     46\n",
       "126500     74\n",
       "217366     28\n",
       "4216       11\n",
       "65934     104\n",
       "159343     12\n",
       "123002     66\n",
       "97896      21\n",
       "142247     89\n",
       "161798     69\n",
       "183649     15\n",
       "20812      47\n",
       "112430     74\n",
       "208564     36\n",
       "12078       9\n",
       "175359     51\n",
       "69478      56\n",
       "44292      20\n",
       "71108      57\n",
       "225        98\n",
       "49353      59\n",
       "226078     71\n",
       "20239      37\n",
       "22060     104\n",
       "7879       23\n",
       "29463      59\n",
       "172441     29\n",
       "226299     72\n",
       "192490     83\n",
       "161210     20\n",
       "         ... \n",
       "127321      9\n",
       "16232      60\n",
       "170301     89\n",
       "84846      23\n",
       "227002     54\n",
       "174503     17\n",
       "128289     85\n",
       "217071     98\n",
       "116956     49\n",
       "176193     46\n",
       "145597     49\n",
       "39196      65\n",
       "131479     20\n",
       "192666     17\n",
       "137581      3\n",
       "39545      49\n",
       "83845      32\n",
       "130070      5\n",
       "83470     104\n",
       "88516      18\n",
       "226308     13\n",
       "97256      13\n",
       "84237      18\n",
       "128184     18\n",
       "201357      4\n",
       "212        13\n",
       "176875     27\n",
       "149761     36\n",
       "82336      81\n",
       "161099     21\n",
       "Name: Sequence, Length: 79692, dtype: int64"
      ]
     },
     "execution_count": 19,
     "metadata": {},
     "output_type": "execute_result"
    }
   ],
   "source": [
    "df.Sequence.str.count(',')"
   ]
  },
  {
   "cell_type": "code",
   "execution_count": 20,
   "metadata": {},
   "outputs": [],
   "source": [
    "df['numbers'] = df.Sequence.str.split(',').map(np.float64)"
   ]
  },
  {
   "cell_type": "code",
   "execution_count": 21,
   "metadata": {},
   "outputs": [],
   "source": [
    "df['terms'] = df.Sequence.str.count(',') + 1"
   ]
  },
  {
   "cell_type": "code",
   "execution_count": 22,
   "metadata": {},
   "outputs": [
    {
     "data": {
      "text/html": [
       "<div>\n",
       "<style scoped>\n",
       "    .dataframe tbody tr th:only-of-type {\n",
       "        vertical-align: middle;\n",
       "    }\n",
       "\n",
       "    .dataframe tbody tr th {\n",
       "        vertical-align: top;\n",
       "    }\n",
       "\n",
       "    .dataframe thead th {\n",
       "        text-align: right;\n",
       "    }\n",
       "</style>\n",
       "<table border=\"1\" class=\"dataframe\">\n",
       "  <thead>\n",
       "    <tr style=\"text-align: right;\">\n",
       "      <th></th>\n",
       "      <th>Sequence</th>\n",
       "      <th>numbers</th>\n",
       "      <th>terms</th>\n",
       "    </tr>\n",
       "    <tr>\n",
       "      <th>Id</th>\n",
       "      <th></th>\n",
       "      <th></th>\n",
       "      <th></th>\n",
       "    </tr>\n",
       "  </thead>\n",
       "  <tbody>\n",
       "    <tr>\n",
       "      <th>222447</th>\n",
       "      <td>10,11,12,13,14,15,16,17,18,19,1011,21,1112,111...</td>\n",
       "      <td>[10.0, 11.0, 12.0, 13.0, 14.0, 15.0, 16.0, 17....</td>\n",
       "      <td>47</td>\n",
       "    </tr>\n",
       "    <tr>\n",
       "      <th>126500</th>\n",
       "      <td>1,0,2,0,0,6,0,0,0,21,0,0,0,3,79,0,0,0,0,41,311...</td>\n",
       "      <td>[1.0, 0.0, 2.0, 0.0, 0.0, 6.0, 0.0, 0.0, 0.0, ...</td>\n",
       "      <td>75</td>\n",
       "    </tr>\n",
       "    <tr>\n",
       "      <th>217366</th>\n",
       "      <td>1,2,4,8,15,30,58,114,225,443,871,1715,3375,664...</td>\n",
       "      <td>[1.0, 2.0, 4.0, 8.0, 15.0, 30.0, 58.0, 114.0, ...</td>\n",
       "      <td>29</td>\n",
       "    </tr>\n",
       "    <tr>\n",
       "      <th>4216</th>\n",
       "      <td>1,2,12,432,31104,6718464,8707129344,2256887925...</td>\n",
       "      <td>[1.0, 2.0, 12.0, 432.0, 31104.0, 6718464.0, 87...</td>\n",
       "      <td>12</td>\n",
       "    </tr>\n",
       "    <tr>\n",
       "      <th>65934</th>\n",
       "      <td>1,2,0,3,0,0,1,4,1,0,2,0,0,2,0,5,0,2,0,0,0,4,2,...</td>\n",
       "      <td>[1.0, 2.0, 0.0, 3.0, 0.0, 0.0, 1.0, 4.0, 1.0, ...</td>\n",
       "      <td>105</td>\n",
       "    </tr>\n",
       "  </tbody>\n",
       "</table>\n",
       "</div>"
      ],
      "text/plain": [
       "                                                 Sequence  \\\n",
       "Id                                                          \n",
       "222447  10,11,12,13,14,15,16,17,18,19,1011,21,1112,111...   \n",
       "126500  1,0,2,0,0,6,0,0,0,21,0,0,0,3,79,0,0,0,0,41,311...   \n",
       "217366  1,2,4,8,15,30,58,114,225,443,871,1715,3375,664...   \n",
       "4216    1,2,12,432,31104,6718464,8707129344,2256887925...   \n",
       "65934   1,2,0,3,0,0,1,4,1,0,2,0,0,2,0,5,0,2,0,0,0,4,2,...   \n",
       "\n",
       "                                                  numbers  terms  \n",
       "Id                                                                \n",
       "222447  [10.0, 11.0, 12.0, 13.0, 14.0, 15.0, 16.0, 17....     47  \n",
       "126500  [1.0, 0.0, 2.0, 0.0, 0.0, 6.0, 0.0, 0.0, 0.0, ...     75  \n",
       "217366  [1.0, 2.0, 4.0, 8.0, 15.0, 30.0, 58.0, 114.0, ...     29  \n",
       "4216    [1.0, 2.0, 12.0, 432.0, 31104.0, 6718464.0, 87...     12  \n",
       "65934   [1.0, 2.0, 0.0, 3.0, 0.0, 0.0, 1.0, 4.0, 1.0, ...    105  "
      ]
     },
     "execution_count": 22,
     "metadata": {},
     "output_type": "execute_result"
    }
   ],
   "source": [
    "df.head()"
   ]
  }
 ],
 "metadata": {
  "kernelspec": {
   "display_name": "Python 3",
   "language": "python",
   "name": "python3"
  },
  "language_info": {
   "codemirror_mode": {
    "name": "ipython",
    "version": 3
   },
   "file_extension": ".py",
   "mimetype": "text/x-python",
   "name": "python",
   "nbconvert_exporter": "python",
   "pygments_lexer": "ipython3",
   "version": "3.6.2"
  }
 },
 "nbformat": 4,
 "nbformat_minor": 2
}
