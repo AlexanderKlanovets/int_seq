{
 "cells": [
  {
   "cell_type": "code",
   "execution_count": 1,
   "metadata": {},
   "outputs": [],
   "source": [
    "from random import randint, seed\n",
    "import numpy as np"
   ]
  },
  {
   "cell_type": "code",
   "execution_count": 21,
   "metadata": {},
   "outputs": [
    {
     "name": "stdout",
     "output_type": "stream",
     "text": [
      "[[2, 1, 5], [4, 4, 3]] [8, 11]\n"
     ]
    }
   ],
   "source": [
    "def random_sum_pairs(n_examples, n_numbers, largest):\n",
    "    X, y = [], []\n",
    "    for i in range(n_examples):\n",
    "        in_pattern = [randint(1, largest) for _ in range(n_numbers)]\n",
    "        out_pattern = sum(in_pattern)\n",
    "        X.append(in_pattern)\n",
    "        y.append(out_pattern)\n",
    "    return X, y\n",
    "\n",
    "seed(42)\n",
    "n_samples=2\n",
    "n_numbers = 3\n",
    "largest = 10\n",
    "X, y = random_sum_pairs(n_samples, n_numbers, largest)\n",
    "print(X, y)"
   ]
  },
  {
   "cell_type": "code",
   "execution_count": 22,
   "metadata": {},
   "outputs": [],
   "source": [
    "def to_string(X, y, n_numbers, largest):\n",
    "    X_max_len = int(n_numbers * np.ceil(np.log10(largest+1)) + n_numbers - 1)\n",
    "    X_str = []\n",
    "    for pattern in X:\n",
    "        strp = '+'.join([str(n) for n in pattern])\n",
    "        strp = ''.join([' ' for _ in range(X_max_len - len(strp))]) + strp\n",
    "        X_str.append(strp)\n",
    "    y_max_len = int(np.ceil(np.log10(n_numbers * (largest + 1))))\n",
    "    y_str = []\n",
    "    for pattern in y:\n",
    "        strp = str(pattern)\n",
    "        strp = ''.join([' ' for _ in range(y_max_len - len(strp))]) + strp\n",
    "        y_str.append(strp)\n",
    "    return X_str, y_str"
   ]
  },
  {
   "cell_type": "code",
   "execution_count": 23,
   "metadata": {},
   "outputs": [],
   "source": [
    "Xstr, ystr = to_string(X, y, n_numbers, largest)"
   ]
  },
  {
   "cell_type": "code",
   "execution_count": 25,
   "metadata": {},
   "outputs": [
    {
     "data": {
      "text/plain": [
       "[' 8', '11']"
      ]
     },
     "execution_count": 25,
     "metadata": {},
     "output_type": "execute_result"
    }
   ],
   "source": [
    "ystr"
   ]
  },
  {
   "cell_type": "code",
   "execution_count": 5,
   "metadata": {},
   "outputs": [],
   "source": [
    "def integer_encode(X, y, alphabet):\n",
    "    \"\"\"\n",
    "    Encode string representation of integer as indices in some alphabet\n",
    "    \"\"\"\n",
    "    char_to_int = dict((c, i) for i, c in enumerate(alphabet))\n",
    "    Xenc = []\n",
    "    for pattern in X:\n",
    "        int_enc = [char_to_int[c] for c in pattern]\n",
    "        Xenc.append(int_enc)\n",
    "    yenc = []\n",
    "    for pattern in y:\n",
    "        int_enc = [char_to_int[c] for c in pattern]\n",
    "        yenc.append(int_enc)\n",
    "    return Xenc, yenc"
   ]
  },
  {
   "cell_type": "code",
   "execution_count": 6,
   "metadata": {},
   "outputs": [],
   "source": [
    "alphabet = tuple(\"0123456789+ \")\n",
    "n_chars = len(alphabet)\n",
    "X, y = integer_encode(Xstr, ystr, alphabet)"
   ]
  },
  {
   "cell_type": "code",
   "execution_count": 7,
   "metadata": {},
   "outputs": [],
   "source": [
    "def one_hot_encode(X, y, max_int):\n",
    "    Xenc = list()\n",
    "    for seq in X:\n",
    "        pattern = []\n",
    "        for i in seq:\n",
    "            vector = [0 for _ in range(max_int)]\n",
    "            vector[i] = 1\n",
    "            pattern.append(vector)\n",
    "        Xenc.append(pattern)\n",
    "    yenc = list()\n",
    "    for seq in y:\n",
    "        pattern = []\n",
    "        for i in seq:\n",
    "            vec = [0 for _ in range(max_int)]\n",
    "            vec[i] = 1\n",
    "            pattern.append(vec)\n",
    "        yenc.append(pattern)\n",
    "    return Xenc, yenc"
   ]
  },
  {
   "cell_type": "code",
   "execution_count": 8,
   "metadata": {},
   "outputs": [],
   "source": [
    "X, y = one_hot_encode(X, y, len(alphabet))"
   ]
  },
  {
   "cell_type": "code",
   "execution_count": 9,
   "metadata": {},
   "outputs": [],
   "source": [
    "def invert(seq, alphabet):\n",
    "    int_to_char = dict((i, c) for i, c in enumerate(alphabet))\n",
    "    strings = []\n",
    "    for pattern in seq:\n",
    "        s = []\n",
    "        for sym in pattern:\n",
    "            s.append(int_to_char[np.argmax(sym)])\n",
    "        strings.append(''.join(s))\n",
    "    return strings"
   ]
  },
  {
   "cell_type": "code",
   "execution_count": 10,
   "metadata": {},
   "outputs": [
    {
     "data": {
      "text/plain": [
       "['   2+1+5', '   4+4+3']"
      ]
     },
     "execution_count": 10,
     "metadata": {},
     "output_type": "execute_result"
    }
   ],
   "source": [
    "invert(X, alphabet)"
   ]
  },
  {
   "cell_type": "code",
   "execution_count": 11,
   "metadata": {},
   "outputs": [],
   "source": [
    "def prep_data(n_samples, n_numbers, largest, alphabet):\n",
    "    X, y = random_sum_pairs(n_samples, n_numbers, largest)\n",
    "    X, y = to_string(X, y, n_numbers, largest)\n",
    "    X, y = integer_encode(X, y, alphabet)\n",
    "    X, y = one_hot_encode(X, y, len(alphabet))\n",
    "    return np.array(X), np.array(y)"
   ]
  },
  {
   "cell_type": "code",
   "execution_count": 12,
   "metadata": {},
   "outputs": [],
   "source": [
    "def gen_data(n_numbers, largest, alphabet, batch_size=32):\n",
    "    while True:\n",
    "        X, y = random_sum_pairs(batch_size, n_numbers, largest)\n",
    "        X, y = to_string(X, y, n_numbers, largest)\n",
    "        X, y = integer_encode(X, y, alphabet)\n",
    "        X, y = one_hot_encode(X, y, len(alphabet))\n",
    "        yield np.array(X), np.array(y)"
   ]
  },
  {
   "cell_type": "code",
   "execution_count": 13,
   "metadata": {},
   "outputs": [],
   "source": [
    "n_in_seq_length = int(n_numbers * np.ceil(np.log10(largest+1)) + n_numbers - 1)\n",
    "n_out_seq_length = int(np.ceil(np.log10(n_numbers * (largest+1))))"
   ]
  },
  {
   "cell_type": "code",
   "execution_count": 14,
   "metadata": {},
   "outputs": [
    {
     "name": "stderr",
     "output_type": "stream",
     "text": [
      "Using TensorFlow backend.\n",
      "/Users/ptyshevs/envs/loc_env/lib/python3.6/site-packages/requests/__init__.py:91: RequestsDependencyWarning: urllib3 (1.24) or chardet (3.0.4) doesn't match a supported version!\n",
      "  RequestsDependencyWarning)\n"
     ]
    }
   ],
   "source": [
    "from keras.models import Sequential\n",
    "from keras.layers import LSTM, TimeDistributed, RepeatVector, Dense"
   ]
  },
  {
   "cell_type": "code",
   "execution_count": 15,
   "metadata": {},
   "outputs": [
    {
     "name": "stdout",
     "output_type": "stream",
     "text": [
      "_________________________________________________________________\n",
      "Layer (type)                 Output Shape              Param #   \n",
      "=================================================================\n",
      "lstm_1 (LSTM)                (None, 10)                920       \n",
      "_________________________________________________________________\n",
      "repeat_vector_1 (RepeatVecto (None, 2, 10)             0         \n",
      "_________________________________________________________________\n",
      "lstm_2 (LSTM)                (None, 2, 5)              320       \n",
      "_________________________________________________________________\n",
      "time_distributed_1 (TimeDist (None, 2, 12)             72        \n",
      "=================================================================\n",
      "Total params: 1,312\n",
      "Trainable params: 1,312\n",
      "Non-trainable params: 0\n",
      "_________________________________________________________________\n"
     ]
    }
   ],
   "source": [
    "n_batches = 10\n",
    "n_epoch = 7\n",
    "model = Sequential()\n",
    "model.add(LSTM(10, input_shape=(n_in_seq_length, n_chars)))\n",
    "model.add(RepeatVector(n_out_seq_length))\n",
    "model.add(LSTM(5, return_sequences=True))\n",
    "model.add(TimeDistributed(Dense(n_chars, activation='softmax')))\n",
    "model.compile(loss='categorical_crossentropy', optimizer='adam', metrics=['accuracy'])\n",
    "model.summary()"
   ]
  },
  {
   "cell_type": "code",
   "execution_count": 16,
   "metadata": {},
   "outputs": [
    {
     "name": "stdout",
     "output_type": "stream",
     "text": [
      "Epoch 1/10\n",
      "1000/1000 [==============================] - 9s 9ms/step - loss: 1.8179 - acc: 0.3434\n",
      "Epoch 2/10\n",
      "1000/1000 [==============================] - 8s 8ms/step - loss: 1.6048 - acc: 0.3682\n",
      "Epoch 3/10\n",
      "1000/1000 [==============================] - 8s 8ms/step - loss: 1.5807 - acc: 0.3710\n",
      "Epoch 4/10\n",
      "1000/1000 [==============================] - 8s 8ms/step - loss: 1.2721 - acc: 0.5380\n",
      "Epoch 5/10\n",
      "1000/1000 [==============================] - 7s 7ms/step - loss: 1.0418 - acc: 0.6468\n",
      "Epoch 6/10\n",
      "1000/1000 [==============================] - 7s 7ms/step - loss: 0.9157 - acc: 0.7505\n",
      "Epoch 7/10\n",
      "1000/1000 [==============================] - 7s 7ms/step - loss: 0.7957 - acc: 0.8405\n",
      "Epoch 8/10\n",
      "1000/1000 [==============================] - 7s 7ms/step - loss: 0.7113 - acc: 0.8816\n",
      "Epoch 9/10\n",
      "1000/1000 [==============================] - 7s 7ms/step - loss: 0.6414 - acc: 0.8997\n",
      "Epoch 10/10\n",
      "1000/1000 [==============================] - 7s 7ms/step - loss: 0.5862 - acc: 0.9006\n"
     ]
    }
   ],
   "source": [
    "hist = model.fit_generator(gen_data(n_numbers, largest, alphabet), epochs=10, steps_per_epoch=1000)"
   ]
  },
  {
   "cell_type": "code",
   "execution_count": 17,
   "metadata": {},
   "outputs": [],
   "source": [
    "n_samples = 32\n",
    "X, y = prep_data(n_samples, n_numbers, largest, alphabet)"
   ]
  },
  {
   "cell_type": "code",
   "execution_count": 18,
   "metadata": {},
   "outputs": [],
   "source": [
    "res = model.predict(X)"
   ]
  },
  {
   "cell_type": "code",
   "execution_count": 19,
   "metadata": {},
   "outputs": [],
   "source": [
    "expected = invert(y, alphabet)\n",
    "predicted = invert(res, alphabet)"
   ]
  },
  {
   "cell_type": "code",
   "execution_count": 20,
   "metadata": {},
   "outputs": [
    {
     "name": "stdout",
     "output_type": "stream",
     "text": [
      "Expected=21, Predicted=22\n",
      "Expected=13, Predicted=13\n",
      "Expected=26, Predicted=29\n",
      "Expected=11, Predicted=11\n",
      "Expected=18, Predicted=18\n",
      "Expected=17, Predicted=17\n",
      "Expected=20, Predicted=20\n",
      "Expected=12, Predicted=12\n",
      "Expected=12, Predicted=12\n",
      "Expected=18, Predicted=18\n",
      "Expected=21, Predicted=22\n",
      "Expected=14, Predicted=14\n",
      "Expected=23, Predicted=22\n",
      "Expected=26, Predicted=29\n",
      "Expected= 9, Predicted= 9\n",
      "Expected=20, Predicted=20\n",
      "Expected=15, Predicted=15\n",
      "Expected=18, Predicted=18\n",
      "Expected=12, Predicted=12\n",
      "Expected=20, Predicted=20\n",
      "Expected=12, Predicted=12\n",
      "Expected=23, Predicted=22\n",
      "Expected=20, Predicted=20\n",
      "Expected=18, Predicted=18\n",
      "Expected=21, Predicted=22\n",
      "Expected=15, Predicted=15\n",
      "Expected=14, Predicted=14\n",
      "Expected=19, Predicted=19\n",
      "Expected=20, Predicted=20\n",
      "Expected=22, Predicted=22\n",
      "Expected=10, Predicted=10\n",
      "Expected=17, Predicted=17\n"
     ]
    }
   ],
   "source": [
    "for i in range(n_samples):\n",
    "    print(f\"Expected={expected[i]}, Predicted={predicted[i]}\")"
   ]
  }
 ],
 "metadata": {
  "kernelspec": {
   "display_name": "Python 3",
   "language": "python",
   "name": "python3"
  },
  "language_info": {
   "codemirror_mode": {
    "name": "ipython",
    "version": 3
   },
   "file_extension": ".py",
   "mimetype": "text/x-python",
   "name": "python",
   "nbconvert_exporter": "python",
   "pygments_lexer": "ipython3",
   "version": "3.6.2"
  }
 },
 "nbformat": 4,
 "nbformat_minor": 2
}
