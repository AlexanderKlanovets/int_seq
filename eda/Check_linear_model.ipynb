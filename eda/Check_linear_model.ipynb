{
 "cells": [
  {
   "cell_type": "code",
   "execution_count": 1,
   "metadata": {},
   "outputs": [],
   "source": [
    "import pandas as pd\n",
    "import numpy as np\n",
    "import math\n",
    "from tools import seq_to_num, acc_score"
   ]
  },
  {
   "cell_type": "code",
   "execution_count": 2,
   "metadata": {},
   "outputs": [],
   "source": [
    "def create_system(sequence, order, start_index_a):\n",
    "    '''\n",
    "    :param sequence: list, where type(item)=int \n",
    "    :param order: recurrent relation order, int(min=2)\n",
    "    :param start_index_a: int, form which index start\n",
    "    :return: a,b (ax=b)\n",
    "    '''\n",
    "    # validation\n",
    "    if len(sequence) < start_index_a + order + order + 1:\n",
    "        # print(\"Impossible create system\")\n",
    "        return None\n",
    "    # x3=ax0+bx1+c\n",
    "    index_b = start_index_a + order\n",
    "    a = list()\n",
    "    b = [sequence[i] for i in range(index_b, index_b + order + 1)]\n",
    "    for i in range(start_index_a, start_index_a + order + 1):\n",
    "        a.append([sequence[item] for item in range(i, i + order)])\n",
    "    a = np.array(a)\n",
    "    z = np.ones((order + 1, 1))\n",
    "    a = np.append(a, z, axis=1)\n",
    "    b = np.array(b)\n",
    "    return a, b\n"
   ]
  },
  {
   "cell_type": "code",
   "execution_count": 3,
   "metadata": {},
   "outputs": [
    {
     "data": {
      "text/plain": [
       "(array([[ 8.,  1.],\n",
       "        [16.,  1.]]), array([16, 32]))"
      ]
     },
     "execution_count": 3,
     "metadata": {},
     "output_type": "execute_result"
    }
   ],
   "source": [
    "create_system([2, 4, 8, 16, 32], 1, 2)"
   ]
  },
  {
   "cell_type": "code",
   "execution_count": 60,
   "metadata": {},
   "outputs": [],
   "source": [
    "def check_solution(sequence, solution, start=3):\n",
    "    n = len(sequence)\n",
    "    # -1 bcs free coef\n",
    "    order = len(solution) - 1\n",
    "    for i in range(start, n - len(solution) + 1):\n",
    "        coefs, constant = solution[:-1], solution[-1]\n",
    "        a_pred = sequence[i: i + order] @ coefs + constant\n",
    "        if not np.isclose(a_pred, sequence[i + order]):\n",
    "            return False\n",
    "    return True"
   ]
  },
  {
   "cell_type": "code",
   "execution_count": 61,
   "metadata": {},
   "outputs": [],
   "source": [
    "def check_k_order(sequence, order, start_index):\n",
    "    \"\"\"\n",
    "    \n",
    "    @return:\n",
    "        solution: contains solution if system was solved, otherwise None\n",
    "    \"\"\"\n",
    "    try:\n",
    "        solution = np.linalg.solve(a, b)\n",
    "    except (np.linalg.linalg.LinAlgError, IndexError):\n",
    "        return None\n",
    "    # check if solution satisfied all items in sequence\n",
    "    check = check_solution(sequence, solution)\n",
    "    if check:\n",
    "        return solution\n",
    "    else:\n",
    "        return None"
   ]
  },
  {
   "cell_type": "code",
   "execution_count": 62,
   "metadata": {},
   "outputs": [],
   "source": [
    "def predict_1(sequence, max_order, start_index=3, verbose=False):\n",
    "    \"\"\"\n",
    "    Check given sequence relation to be linearly dependant\n",
    "    on previous terms with some constant coefficients.\n",
    "    \"\"\"\n",
    "    for order in range(1, max_order + 1):\n",
    "        system = create_system(sequence, order, start_index)\n",
    "        if system is None:  # no success now, exiting\n",
    "            break\n",
    "        else:\n",
    "            try:\n",
    "                a, b = system\n",
    "                solution = np.linalg.solve(a, b)\n",
    "            except (np.linalg.linalg.LinAlgError, IndexError):\n",
    "                continue\n",
    "        if check_solution(sequence, solution, start_index):\n",
    "            # order satisfied\n",
    "            if verbose:\n",
    "                print(f\"{order}-th RR found. Coefficients: {solution[:3]}...\")\n",
    "            coefs, constant = solution[:-1], solution[-1]\n",
    "            return sequence[-order:] @ coefs + constant\n",
    "    return np.nan"
   ]
  },
  {
   "cell_type": "code",
   "execution_count": 63,
   "metadata": {},
   "outputs": [
    {
     "data": {
      "text/plain": [
       "34.0"
      ]
     },
     "execution_count": 63,
     "metadata": {},
     "output_type": "execute_result"
    }
   ],
   "source": [
    "predict_1([1, 1, 2, 3, 5, 8, 13, 21], 2, start_index=0)"
   ]
  },
  {
   "cell_type": "code",
   "execution_count": 64,
   "metadata": {},
   "outputs": [
    {
     "name": "stdout",
     "output_type": "stream",
     "text": [
      "2-th RR found. Coefficients: [1. 1. 0.]...\n"
     ]
    },
    {
     "data": {
      "text/plain": [
       "8.0"
      ]
     },
     "execution_count": 64,
     "metadata": {},
     "output_type": "execute_result"
    }
   ],
   "source": [
    "predict_1([1, 1, 2, 3, 5], 5, start_index=0, verbose=True)"
   ]
  },
  {
   "cell_type": "code",
   "execution_count": 99,
   "metadata": {},
   "outputs": [],
   "source": [
    "# slice - залишити останні\n",
    "def make_prediction(data, max_order=5, minlen=10, maxlen=15, start_index=3, verbose=False):\n",
    "    predicted_values = []\n",
    "    indices = []\n",
    "    ind_iter = data.index if isinstance(data, (np.ndarray, pd.Series)) else list(range(len(data)))\n",
    "    for ind, seq in zip(ind_iter, data):\n",
    "        if len(seq) < minlen:\n",
    "            continue\n",
    "        sequence = seq[-maxlen:] if maxlen != -1 else seq\n",
    "        pred_val = predict_1(sequence, max_order, start_index, verbose=verbose)\n",
    "        if np.isnan(pred_val):\n",
    "#             if verbose:\n",
    "#                 print(f\"{sequence[-5:]}... has no linear combination\")\n",
    "            continue\n",
    "        predicted_values.append(np.round(pred_val))\n",
    "        indices.append(ind)\n",
    "    return predicted_values, indices"
   ]
  },
  {
   "cell_type": "code",
   "execution_count": 127,
   "metadata": {},
   "outputs": [
    {
     "name": "stdout",
     "output_type": "stream",
     "text": [
      "2-th RR found. Coefficients: [1. 1. 0.]...\n"
     ]
    },
    {
     "data": {
      "text/plain": [
       "([34.0], [0])"
      ]
     },
     "execution_count": 127,
     "metadata": {},
     "output_type": "execute_result"
    }
   ],
   "source": [
    "make_prediction([[1, 1, 2, 3, 5, 8, 13, 21]], start_index=0, minlen=5, verbose=True)"
   ]
  },
  {
   "cell_type": "code",
   "execution_count": 101,
   "metadata": {},
   "outputs": [],
   "source": [
    "df_train = pd.read_csv('../data/train.csv', index_col=0)\n",
    "train_X, train_y = seq_to_num(df_train.Sequence, pad=False)"
   ]
  },
  {
   "cell_type": "code",
   "execution_count": 131,
   "metadata": {},
   "outputs": [],
   "source": [
    "pred, ind = make_prediction(train_X[:50000], start_index=0, minlen=20, maxlen=-1, verbose=False, max_order=3)"
   ]
  },
  {
   "cell_type": "code",
   "execution_count": 132,
   "metadata": {},
   "outputs": [
    {
     "data": {
      "text/plain": [
       "2134"
      ]
     },
     "execution_count": 132,
     "metadata": {},
     "output_type": "execute_result"
    }
   ],
   "source": [
    "len(ind)"
   ]
  },
  {
   "cell_type": "code",
   "execution_count": 133,
   "metadata": {},
   "outputs": [
    {
     "data": {
      "text/plain": [
       "0.9531396438612934"
      ]
     },
     "execution_count": 133,
     "metadata": {},
     "output_type": "execute_result"
    }
   ],
   "source": [
    "acc_score(pred, train_y[ind])"
   ]
  },
  {
   "cell_type": "code",
   "execution_count": null,
   "metadata": {},
   "outputs": [],
   "source": []
  }
 ],
 "metadata": {
  "kernelspec": {
   "display_name": "Python 3",
   "language": "python",
   "name": "python3"
  },
  "language_info": {
   "codemirror_mode": {
    "name": "ipython",
    "version": 3
   },
   "file_extension": ".py",
   "mimetype": "text/x-python",
   "name": "python",
   "nbconvert_exporter": "python",
   "pygments_lexer": "ipython3",
   "version": "3.6.2"
  }
 },
 "nbformat": 4,
 "nbformat_minor": 2
}
