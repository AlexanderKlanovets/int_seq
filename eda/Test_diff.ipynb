{
 "cells": [
  {
   "cell_type": "code",
   "execution_count": 1,
   "metadata": {},
   "outputs": [],
   "source": [
    "import pandas as pd\n",
    "import numpy as np\n",
    "from tools import seq_to_num, acc_score, prep_submit"
   ]
  },
  {
   "cell_type": "code",
   "execution_count": 2,
   "metadata": {},
   "outputs": [],
   "source": [
    "df_train = pd.read_csv('../data/train.csv', index_col=0)\n",
    "df_test = pd.read_csv('../data/test.csv', index_col=0)"
   ]
  },
  {
   "cell_type": "code",
   "execution_count": 3,
   "metadata": {},
   "outputs": [
    {
     "name": "stdout",
     "output_type": "stream",
     "text": [
      "Requirement already satisfied: tensorflow in z:\\anac\\lib\\site-packages (1.12.0)\n",
      "Requirement already satisfied: numpy>=1.13.3 in z:\\anac\\lib\\site-packages (from tensorflow) (1.14.3)\n",
      "Requirement already satisfied: grpcio>=1.8.6 in z:\\anac\\lib\\site-packages (from tensorflow) (1.16.0)\n",
      "Requirement already satisfied: wheel>=0.26 in z:\\anac\\lib\\site-packages (from tensorflow) (0.31.1)\n",
      "Requirement already satisfied: keras-applications>=1.0.6 in z:\\anac\\lib\\site-packages (from tensorflow) (1.0.6)\n",
      "Requirement already satisfied: astor>=0.6.0 in z:\\anac\\lib\\site-packages (from tensorflow) (0.7.1)\n",
      "Requirement already satisfied: keras-preprocessing>=1.0.5 in z:\\anac\\lib\\site-packages (from tensorflow) (1.0.5)\n",
      "Requirement already satisfied: six>=1.10.0 in z:\\anac\\lib\\site-packages (from tensorflow) (1.11.0)\n",
      "Requirement already satisfied: absl-py>=0.1.6 in z:\\anac\\lib\\site-packages (from tensorflow) (0.6.1)\n",
      "Requirement already satisfied: termcolor>=1.1.0 in z:\\anac\\lib\\site-packages (from tensorflow) (1.1.0)\n",
      "Requirement already satisfied: tensorboard<1.13.0,>=1.12.0 in z:\\anac\\lib\\site-packages (from tensorflow) (1.12.0)\n",
      "Requirement already satisfied: protobuf>=3.6.1 in z:\\anac\\lib\\site-packages (from tensorflow) (3.6.1)\n",
      "Requirement already satisfied: gast>=0.2.0 in z:\\anac\\lib\\site-packages (from tensorflow) (0.2.0)\n",
      "Requirement already satisfied: h5py in z:\\anac\\lib\\site-packages (from keras-applications>=1.0.6->tensorflow) (2.7.1)\n",
      "Requirement already satisfied: werkzeug>=0.11.10 in z:\\anac\\lib\\site-packages (from tensorboard<1.13.0,>=1.12.0->tensorflow) (0.14.1)\n",
      "Requirement already satisfied: markdown>=2.6.8 in z:\\anac\\lib\\site-packages (from tensorboard<1.13.0,>=1.12.0->tensorflow) (3.0.1)\n",
      "Requirement already satisfied: setuptools in z:\\anac\\lib\\site-packages (from protobuf>=3.6.1->tensorflow) (39.1.0)\n"
     ]
    },
    {
     "name": "stderr",
     "output_type": "stream",
     "text": [
      "twisted 18.7.0 requires PyHamcrest>=1.9.0, which is not installed.\n",
      "distributed 1.21.8 requires msgpack, which is not installed.\n",
      "You are using pip version 10.0.1, however version 18.1 is available.\n",
      "You should consider upgrading via the 'python -m pip install --upgrade pip' command.\n"
     ]
    }
   ],
   "source": [
    "!pip install tensorflow"
   ]
  },
  {
   "cell_type": "code",
   "execution_count": 4,
   "metadata": {},
   "outputs": [
    {
     "name": "stderr",
     "output_type": "stream",
     "text": [
      "Using TensorFlow backend.\n"
     ]
    }
   ],
   "source": [
    "train_X, train_y = seq_to_num(df_train.Sequence, pad=False)"
   ]
  },
  {
   "cell_type": "code",
   "execution_count": 19,
   "metadata": {},
   "outputs": [],
   "source": [
    "def diff(data, only_seq=False, verbose=False):\n",
    "    \"\"\"\n",
    "    Calculate next term if first difference is constant\n",
    "    \n",
    "    @returns:\n",
    "        * list of sequences that have constant difference\n",
    "        * list of the corresponding indices\n",
    "        * list of predicted terms\n",
    "    \"\"\"\n",
    "    sequences = []\n",
    "    indices = []\n",
    "    predictions = []\n",
    "    for seq, idx in zip(data, data.index):\n",
    "        if len(seq) < 3:\n",
    "#             if verbose:\n",
    "#                 print(\"Sequence is too small to calculate terms differences:\", seq)\n",
    "            continue\n",
    "        last_elems = [seq[-1]]  # last elements of the corresponding differences\n",
    "        diffs = [_ for _ in seq]\n",
    "        for i in range(1, len(seq) - 1):\n",
    "            diffs = [next - cur for cur, next in zip(diffs, diffs[1:])]\n",
    "            last_elems.append(diffs[-1])\n",
    "            uniques = np.unique(diffs)\n",
    "            if len(uniques) == 1:\n",
    "                if verbose:\n",
    "                    print(f\"Seq {seq[:5]}... has constant {i}-th difference {uniques[-1]}\")\n",
    "                sequences.append(seq)\n",
    "                indices.append(idx)\n",
    "                predictions.append(sum(last_elems))\n",
    "                break\n",
    "    if only_seq:\n",
    "        return sequences\n",
    "    else:\n",
    "        return sequences, indices, predictions"
   ]
  },
  {
   "cell_type": "code",
   "execution_count": 20,
   "metadata": {},
   "outputs": [
    {
     "data": {
      "text/plain": [
       "([[2, 4, 7, 11, 16]], [0], [22])"
      ]
     },
     "execution_count": 20,
     "metadata": {},
     "output_type": "execute_result"
    }
   ],
   "source": [
    "test = [2, 4, 7, 11, 16]\n",
    "diff(pd.Series([test], dtype='object'))"
   ]
  },
  {
   "cell_type": "code",
   "execution_count": 47,
   "metadata": {},
   "outputs": [],
   "source": [
    "seq, ind, pred = diff(train_X, verbose=False)"
   ]
  },
  {
   "cell_type": "code",
   "execution_count": 48,
   "metadata": {},
   "outputs": [
    {
     "data": {
      "text/plain": [
       "2077"
      ]
     },
     "execution_count": 48,
     "metadata": {},
     "output_type": "execute_result"
    }
   ],
   "source": [
    "len(seq)"
   ]
  },
  {
   "cell_type": "code",
   "execution_count": 49,
   "metadata": {},
   "outputs": [
    {
     "data": {
      "text/plain": [
       "0.9046701974000962"
      ]
     },
     "execution_count": 49,
     "metadata": {},
     "output_type": "execute_result"
    }
   ],
   "source": [
    "acc_score(train_y[ind], pred)  # first-order difference, perfect prediction"
   ]
  }
 ],
 "metadata": {
  "kernelspec": {
   "display_name": "Python 3",
   "language": "python",
   "name": "python3"
  },
  "language_info": {
   "codemirror_mode": {
    "name": "ipython",
    "version": 3
   },
   "file_extension": ".py",
   "mimetype": "text/x-python",
   "name": "python",
   "nbconvert_exporter": "python",
   "pygments_lexer": "ipython3",
   "version": "3.6.5"
  }
 },
 "nbformat": 4,
 "nbformat_minor": 2
}
