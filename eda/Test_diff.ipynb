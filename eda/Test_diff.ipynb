{
 "cells": [
  {
   "cell_type": "code",
   "execution_count": 1,
   "metadata": {},
   "outputs": [],
   "source": [
    "import pandas as pd\n",
    "import numpy as np\n",
    "from tools import seq_to_num, acc_score, prep_submit"
   ]
  },
  {
   "cell_type": "code",
   "execution_count": 2,
   "metadata": {},
   "outputs": [],
   "source": [
    "df_train = pd.read_csv('../data/train.csv', index_col=0)\n",
    "df_test = pd.read_csv('../data/test.csv', index_col=0)"
   ]
  },
  {
   "cell_type": "code",
   "execution_count": 3,
   "metadata": {},
   "outputs": [
    {
     "name": "stderr",
     "output_type": "stream",
     "text": [
      "Using TensorFlow backend.\n"
     ]
    }
   ],
   "source": [
    "train_X, train_y = seq_to_num(df_train.Sequence, pad=False)"
   ]
  },
  {
   "cell_type": "code",
   "execution_count": 120,
   "metadata": {},
   "outputs": [],
   "source": [
    "def diff(data, only_seq=False, verbose=False):\n",
    "    \"\"\"\n",
    "    Calculate next term if first difference is constant\n",
    "    \n",
    "    @returns:\n",
    "        * list of sequences that have constant difference\n",
    "        * list of the corresponding indices\n",
    "        * list of predicted terms\n",
    "    \"\"\"\n",
    "    sequences = []\n",
    "    indices = []\n",
    "    predictions = []\n",
    "    for seq, idx in zip(data, data.index):\n",
    "        diffs = []\n",
    "        if len(seq) < 3:\n",
    "#             if verbose:\n",
    "#                 print(\"Sequence is too small to calculate terms differences:\", seq)\n",
    "            continue\n",
    "        diffs = [next - cur for cur, next in zip(seq, seq[1:])]\n",
    "        uniques = np.unique(diffs)\n",
    "        if len(uniques) == 1:\n",
    "            if verbose:\n",
    "                print(f\"Seq {seq[:5]}... has constant first difference {uniques[-1]}\")\n",
    "            sequences.append(seq)\n",
    "            indices.append(idx)\n",
    "            next_term = seq[-1] + uniques[-1]\n",
    "            predictions.append(next_term)\n",
    "        elif len(diffs) > 2:\n",
    "            sec_diff = [next - cur for cur, next in zip(diffs, diffs[1:])]\n",
    "            sec_uniques = np.unique(sec_diff)\n",
    "            if len(sec_uniques) == 1:\n",
    "                if verbose:\n",
    "                    print(f\"Seq {seq[:5]}... has constant second difference {sec_uniques[-1]}\")\n",
    "                sequences.append(seq)\n",
    "                indices.append(idx)\n",
    "                next_term = seq[-1] + uniques[-1] + sec_uniques[-1]\n",
    "                predictions.append(next_term)\n",
    "            \n",
    "    if only_seq:\n",
    "        return sequences\n",
    "    else:\n",
    "        return sequences, indices, predictions"
   ]
  },
  {
   "cell_type": "code",
   "execution_count": 121,
   "metadata": {},
   "outputs": [
    {
     "data": {
      "text/plain": [
       "([[2, 4, 7, 11, 16]], [0], [22])"
      ]
     },
     "execution_count": 121,
     "metadata": {},
     "output_type": "execute_result"
    }
   ],
   "source": [
    "test = [2, 4, 7, 11, 16]\n",
    "diff(pd.Series([test], dtype='object'))"
   ]
  },
  {
   "cell_type": "code",
   "execution_count": 130,
   "metadata": {},
   "outputs": [
    {
     "name": "stdout",
     "output_type": "stream",
     "text": [
      "Seq [ 736. 1736. 2736. 3736. 4736.]... has constant first difference 1000.0\n",
      "Seq [ 1090.  4358.  9804. 17428. 27230.]... has constant second difference 2178.0\n",
      "Seq [10. 28. 46. 64. 82.]... has constant first difference 18.0\n"
     ]
    }
   ],
   "source": [
    "seq, ind, pred = diff(train_X[:500], verbose=True)"
   ]
  },
  {
   "cell_type": "code",
   "execution_count": 131,
   "metadata": {},
   "outputs": [
    {
     "data": {
      "text/plain": [
       "[34736.0, 1115168.0, 946.0]"
      ]
     },
     "execution_count": 131,
     "metadata": {},
     "output_type": "execute_result"
    }
   ],
   "source": [
    "pred"
   ]
  },
  {
   "cell_type": "code",
   "execution_count": 132,
   "metadata": {},
   "outputs": [
    {
     "data": {
      "text/plain": [
       "Id\n",
       "126395      34736.0\n",
       "205820    1115168.0\n",
       "67083         946.0\n",
       "Name: Sequence, dtype: float64"
      ]
     },
     "execution_count": 132,
     "metadata": {},
     "output_type": "execute_result"
    }
   ],
   "source": [
    "train_y[ind]"
   ]
  },
  {
   "cell_type": "code",
   "execution_count": 133,
   "metadata": {},
   "outputs": [
    {
     "data": {
      "text/plain": [
       "1.0"
      ]
     },
     "execution_count": 133,
     "metadata": {},
     "output_type": "execute_result"
    }
   ],
   "source": [
    "acc_score(train_y[ind], pred)  # first-order difference, perfect prediction"
   ]
  }
 ],
 "metadata": {
  "kernelspec": {
   "display_name": "Python 3",
   "language": "python",
   "name": "python3"
  },
  "language_info": {
   "codemirror_mode": {
    "name": "ipython",
    "version": 3
   },
   "file_extension": ".py",
   "mimetype": "text/x-python",
   "name": "python",
   "nbconvert_exporter": "python",
   "pygments_lexer": "ipython3",
   "version": "3.6.2"
  }
 },
 "nbformat": 4,
 "nbformat_minor": 2
}
