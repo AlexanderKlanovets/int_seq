{
 "cells": [
  {
   "cell_type": "code",
   "execution_count": 1,
   "metadata": {},
   "outputs": [],
   "source": [
    "import pandas as pd\n",
    "import numpy as np\n",
    "from tools import seq_to_num, acc_score, prep_submit"
   ]
  },
  {
   "cell_type": "code",
   "execution_count": 2,
   "metadata": {},
   "outputs": [],
   "source": [
    "df_train = pd.read_csv('../data/train.csv', index_col=0)\n",
    "df_test = pd.read_csv('../data/test.csv', index_col=0)"
   ]
  },
  {
   "cell_type": "code",
   "execution_count": 4,
   "metadata": {},
   "outputs": [
    {
     "name": "stderr",
     "output_type": "stream",
     "text": [
      "Using TensorFlow backend.\n"
     ]
    }
   ],
   "source": [
    "train_X, train_y = seq_to_num(df_train.Sequence, pad=False)"
   ]
  },
  {
   "cell_type": "code",
   "execution_count": 248,
   "metadata": {},
   "outputs": [],
   "source": [
    "def diff(data, only_seq=False, verbose=False):\n",
    "    \"\"\"\n",
    "    Calculate next term if first difference is constant\n",
    "    \n",
    "    @returns:\n",
    "        * list of sequences that have constant difference\n",
    "        * list of the corresponding indices\n",
    "        * list of predicted terms\n",
    "    \"\"\"\n",
    "    sequences = []\n",
    "    indices = []\n",
    "    predictions = []\n",
    "    for seq, idx in zip(data, data.index):\n",
    "        if len(seq) < 3:\n",
    "#             if verbose:\n",
    "#                 print(\"Sequence is too small to calculate terms differences:\", seq)\n",
    "            continue\n",
    "        last_elems = [seq[-1]]  # last elements of the corresponding differences\n",
    "        diffs = [_ for _ in seq]\n",
    "        for i in range(1, len(seq) - 1):\n",
    "            diffs = [next - cur for cur, next in zip(diffs, diffs[1:])]\n",
    "            last_elems.append(diffs[-1])\n",
    "            uniques = np.unique(diffs)\n",
    "            if len(uniques) == 1:\n",
    "                if verbose:\n",
    "                    print(f\"Seq {seq[:5]}... has constant {i}-th difference {uniques[-1]}\")\n",
    "                sequences.append(seq)\n",
    "                indices.append(idx)\n",
    "                predictions.append(sum(last_elems))\n",
    "                break\n",
    "    if only_seq:\n",
    "        return sequences\n",
    "    else:\n",
    "        return sequences, indices, predictions"
   ]
  },
  {
   "cell_type": "code",
   "execution_count": 249,
   "metadata": {},
   "outputs": [
    {
     "data": {
      "text/plain": [
       "0.9046701974000962"
      ]
     },
     "execution_count": 249,
     "metadata": {},
     "output_type": "execute_result"
    }
   ],
   "source": [
    "seq, ind, pred = diff(train_X, verbose=False)\n",
    "acc_score(train_y[ind], pred)"
   ]
  },
  {
   "cell_type": "code",
   "execution_count": 250,
   "metadata": {},
   "outputs": [
    {
     "data": {
      "text/plain": [
       "2077"
      ]
     },
     "execution_count": 250,
     "metadata": {},
     "output_type": "execute_result"
    }
   ],
   "source": [
    "len(seq)"
   ]
  },
  {
   "cell_type": "code",
   "execution_count": 251,
   "metadata": {},
   "outputs": [],
   "source": [
    "def diff_varstep(data, maxstep=1, only_seq=False, verbose=False):\n",
    "    \"\"\"\n",
    "    Calculate next term if first difference is constant\n",
    "    \n",
    "    @returns:\n",
    "        * list of sequences that have constant difference\n",
    "        * list of the corresponding indices\n",
    "        * list of predicted terms\n",
    "    \"\"\"\n",
    "    sequences = []\n",
    "    indices = []\n",
    "    predictions = []\n",
    "    for seq, idx in zip(data, data.index):\n",
    "        solution_found = False\n",
    "        for step in range(1, maxstep + 1):\n",
    "            if len(seq) < (step + 2):\n",
    "#             if verbose:\n",
    "#                 print(\"Sequence is too small to calculate terms differences:\", seq)\n",
    "                continue\n",
    "            last_elems = [seq[-step]]  # last elements of the corresponding differences\n",
    "            diffs = [_ for _ in seq]\n",
    "            for i in range(1, (len(seq) - 2) // (step + 1) + 2):\n",
    "                diffs = [next - cur for cur, next in zip(diffs, diffs[step if i == 1 else 1:])]\n",
    "                if len(diffs) == 0:\n",
    "                    break\n",
    "                last_elems.append(diffs[-1])\n",
    "                uniques = np.unique(diffs)\n",
    "                if len(uniques) == 1:\n",
    "                    if verbose:\n",
    "                        print(f\"Seq {seq[:5]}... has constant {i}-th difference {uniques[-1]} with step {step}\")\n",
    "                    sequences.append(seq)\n",
    "                    indices.append(idx)\n",
    "                    predictions.append(sum(last_elems))\n",
    "                    solution_found = True\n",
    "                    break\n",
    "            if solution_found:\n",
    "                break\n",
    "    if only_seq:\n",
    "        return sequences\n",
    "    else:\n",
    "        return sequences, indices, predictions"
   ]
  },
  {
   "cell_type": "code",
   "execution_count": 225,
   "metadata": {},
   "outputs": [
    {
     "name": "stdout",
     "output_type": "stream",
     "text": [
      "Seq [2, 4, 7, 11, 16]... has constant 2-th difference 1 with step 1\n"
     ]
    },
    {
     "data": {
      "text/plain": [
       "([[2, 4, 7, 11, 16]], [0], [22])"
      ]
     },
     "execution_count": 225,
     "metadata": {},
     "output_type": "execute_result"
    }
   ],
   "source": [
    "test = [2, 4, 7, 11, 16]\n",
    "diff_varstep(pd.Series([test], dtype='object'), maxstep=2, verbose=True)"
   ]
  },
  {
   "cell_type": "code",
   "execution_count": 226,
   "metadata": {},
   "outputs": [
    {
     "name": "stdout",
     "output_type": "stream",
     "text": [
      "Seq [2, 6, 8, 12]... has constant 1-th difference 6 with step 2\n"
     ]
    },
    {
     "data": {
      "text/plain": [
       "([[2, 6, 8, 12]], [0], [14])"
      ]
     },
     "execution_count": 226,
     "metadata": {},
     "output_type": "execute_result"
    }
   ],
   "source": [
    "test = [2, 6, 8, 12]\n",
    "diff(pd.Series([test], dtype='object'), step=2, verbose=True)"
   ]
  },
  {
   "cell_type": "code",
   "execution_count": 252,
   "metadata": {},
   "outputs": [],
   "source": [
    "seq2, ind2, pred2 = diff_varstep(train_X, verbose=False, maxstep=10)"
   ]
  },
  {
   "cell_type": "code",
   "execution_count": 253,
   "metadata": {},
   "outputs": [
    {
     "data": {
      "text/plain": [
       "3091"
      ]
     },
     "execution_count": 253,
     "metadata": {},
     "output_type": "execute_result"
    }
   ],
   "source": [
    "len(seq2)"
   ]
  },
  {
   "cell_type": "code",
   "execution_count": 254,
   "metadata": {},
   "outputs": [
    {
     "data": {
      "text/plain": [
       "0.9330313814299579"
      ]
     },
     "execution_count": 254,
     "metadata": {},
     "output_type": "execute_result"
    }
   ],
   "source": [
    "acc_score(train_y[ind2], pred2)  # first-order difference, perfect prediction"
   ]
  },
  {
   "cell_type": "code",
   "execution_count": 239,
   "metadata": {},
   "outputs": [
    {
     "data": {
      "text/plain": [
       "15.0"
      ]
     },
     "execution_count": 239,
     "metadata": {},
     "output_type": "execute_result"
    }
   ],
   "source": [
    "len(seq) * acc_score(train_y[ind], pred)"
   ]
  },
  {
   "cell_type": "code",
   "execution_count": 256,
   "metadata": {},
   "outputs": [],
   "source": [
    "kg_test = pd.read_csv('../data/kaggle_test.csv', index_col=0)"
   ]
  },
  {
   "cell_type": "code",
   "execution_count": 260,
   "metadata": {},
   "outputs": [],
   "source": [
    "X = seq_to_num(kg_test.Sequence, pad=False, target_split=False)"
   ]
  },
  {
   "cell_type": "code",
   "execution_count": 262,
   "metadata": {},
   "outputs": [],
   "source": [
    "_, ind, pred = diff_varstep(X, maxstep=11)"
   ]
  },
  {
   "cell_type": "code",
   "execution_count": 265,
   "metadata": {},
   "outputs": [],
   "source": [
    "def mmode(arr):\n",
    "    modes = []\n",
    "    for row in arr:\n",
    "        counts = {i: row.tolist().count(i) for i in row}\n",
    "        if len(counts) > 0:\n",
    "            modes.append(max(counts.items(), key=lambda x:x[1])[0])\n",
    "        else:\n",
    "            modes.append(0)\n",
    "    return modes"
   ]
  },
  {
   "cell_type": "code",
   "execution_count": 269,
   "metadata": {},
   "outputs": [],
   "source": [
    "mode_pred = pd.Series(mmode(X[~X.index.isin(ind)]), index=X.index[~X.index.isin(ind)])"
   ]
  },
  {
   "cell_type": "code",
   "execution_count": 272,
   "metadata": {},
   "outputs": [],
   "source": [
    "pred_total = pd.Series(np.zeros(kg_test.shape[0]), index=kg_test.index, dtype=np.int64)\n",
    "pred_total[ind] = pred\n",
    "pred_total[X.index[~X.index.isin(ind)]] = mode_pred"
   ]
  },
  {
   "cell_type": "code",
   "execution_count": 273,
   "metadata": {},
   "outputs": [],
   "source": [
    "prep_submit(pred_total)"
   ]
  }
 ],
 "metadata": {
  "kernelspec": {
   "display_name": "Python 3",
   "language": "python",
   "name": "python3"
  },
  "language_info": {
   "codemirror_mode": {
    "name": "ipython",
    "version": 3
   },
   "file_extension": ".py",
   "mimetype": "text/x-python",
   "name": "python",
   "nbconvert_exporter": "python",
   "pygments_lexer": "ipython3",
   "version": "3.6.5"
  }
 },
 "nbformat": 4,
 "nbformat_minor": 2
}
