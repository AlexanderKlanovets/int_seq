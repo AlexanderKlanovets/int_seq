{
 "cells": [
  {
   "cell_type": "code",
   "execution_count": 1,
   "metadata": {},
   "outputs": [],
   "source": [
    "import pandas as pd\n",
    "import numpy as np\n",
    "from tools import seq_to_num, acc_score, prep_submit\n",
    "import matplotlib.pyplot as plt"
   ]
  },
  {
   "cell_type": "code",
   "execution_count": 2,
   "metadata": {},
   "outputs": [],
   "source": [
    "df_train = pd.read_csv(\"../data/train.csv\", index_col=0)\n",
    "df_test = pd.read_csv('../data/test.csv', index_col=0)"
   ]
  },
  {
   "cell_type": "code",
   "execution_count": 3,
   "metadata": {},
   "outputs": [
    {
     "name": "stderr",
     "output_type": "stream",
     "text": [
      "Using TensorFlow backend.\n",
      "/Users/ptyshevs/envs/loc_env/lib/python3.6/site-packages/requests/__init__.py:91: RequestsDependencyWarning: urllib3 (1.24) or chardet (3.0.4) doesn't match a supported version!\n",
      "  RequestsDependencyWarning)\n"
     ]
    }
   ],
   "source": [
    "train_bins = seq_to_num(df_train.Sequence, nbins=7, dtype=np.float32, bins_by='val')\n",
    "test_bins = seq_to_num(df_test.Sequence, nbins=1, dtype=np.float32, bins_by='val', pad=False)"
   ]
  },
  {
   "cell_type": "code",
   "execution_count": 36,
   "metadata": {},
   "outputs": [],
   "source": [
    "X_one = train_bins[0][0][:1][0]\n",
    "y_one = train_bins[0][1][:1]"
   ]
  },
  {
   "cell_type": "code",
   "execution_count": 42,
   "metadata": {},
   "outputs": [],
   "source": [
    "indices = np.array([_ for _ in range(X_one.shape[0])])"
   ]
  },
  {
   "cell_type": "code",
   "execution_count": 92,
   "metadata": {},
   "outputs": [],
   "source": [
    "coef = np.polyfit(indices, X_one, deg=6)\n",
    "poly = np.poly1d(coef)\n",
    "ys_pred = poly(indices)"
   ]
  },
  {
   "cell_type": "code",
   "execution_count": 94,
   "metadata": {},
   "outputs": [
    {
     "data": {
      "text/plain": [
       "[<matplotlib.lines.Line2D at 0x136e27e10>]"
      ]
     },
     "execution_count": 94,
     "metadata": {},
     "output_type": "execute_result"
    },
    {
     "data": {
      "image/png": "[encoded data removed]",
      "text/plain": [
       "<Figure size 432x288 with 1 Axes>"
      ]
     },
     "metadata": {
      "needs_background": "light"
     },
     "output_type": "display_data"
    }
   ],
   "source": [
    "plt.scatter(indices, X_one , s=4)\n",
    "plt.plot(indices, ys_pred, 'ro--', markersize=2)"
   ]
  },
  {
   "cell_type": "code",
   "execution_count": 100,
   "metadata": {},
   "outputs": [
    {
     "data": {
      "text/plain": [
       "-4.0"
      ]
     },
     "execution_count": 100,
     "metadata": {},
     "output_type": "execute_result"
    }
   ],
   "source": [
    "X_one[-1]"
   ]
  },
  {
   "cell_type": "code",
   "execution_count": 103,
   "metadata": {},
   "outputs": [
    {
     "data": {
      "text/plain": [
       "-4.257479501027612"
      ]
     },
     "execution_count": 103,
     "metadata": {},
     "output_type": "execute_result"
    }
   ],
   "source": [
    "poly(95)"
   ]
  },
  {
   "cell_type": "code",
   "execution_count": 75,
   "metadata": {},
   "outputs": [],
   "source": [
    "def poly_predict(data, last=-1, max_deg=3, rnd=np.ceil, verbose=False):\n",
    "    predictions = []\n",
    "    for seq in data:\n",
    "        if len(seq) == 0:\n",
    "            predictions.append(0)\n",
    "            continue\n",
    "        best_deg = max_deg\n",
    "        best_err = seq.max()\n",
    "        indices = [_ for _ in range(1, len(seq) + 1)]\n",
    "        for deg in range(1, min(max_deg + 1, len(seq))):\n",
    "            coef = np.polyfit(indices[:-1], seq[:-1], deg=deg)\n",
    "            poly = np.poly1d(coef)\n",
    "            err = (poly(indices[-1]) - seq[-1]) ** 2\n",
    "            if err < best_err:\n",
    "                best_err = err\n",
    "                best_deg = deg\n",
    "        if verbose:\n",
    "            print(\"Best degree:\", best_deg, \"best erro:\", best_err)\n",
    "        coef = np.polyfit(indices, seq, deg=best_deg)\n",
    "        poly = np.poly1d(coef)\n",
    "        predictions.append(rnd(poly(len(seq) + 1)))\n",
    "    return predictions"
   ]
  },
  {
   "cell_type": "code",
   "execution_count": 76,
   "metadata": {},
   "outputs": [],
   "source": [
    "import warnings\n",
    "warnings.filterwarnings('ignore')\n",
    "y_pred = poly_predict(test_X, max_deg=20)"
   ]
  },
  {
   "cell_type": "code",
   "execution_count": 53,
   "metadata": {},
   "outputs": [
    {
     "data": {
      "text/plain": [
       "[2070.0, 4.1691840692035766e+32, 458.0, 340.0, 2.5468081928749492e+16]"
      ]
     },
     "execution_count": 53,
     "metadata": {},
     "output_type": "execute_result"
    }
   ],
   "source": [
    "y_pred"
   ]
  },
  {
   "cell_type": "code",
   "execution_count": 77,
   "metadata": {},
   "outputs": [
    {
     "data": {
      "text/plain": [
       "0.045354727256756364"
      ]
     },
     "execution_count": 77,
     "metadata": {},
     "output_type": "execute_result"
    }
   ],
   "source": [
    "acc_score(y_pred, test_y)  # meh"
   ]
  },
  {
   "cell_type": "code",
   "execution_count": 82,
   "metadata": {},
   "outputs": [],
   "source": [
    "kg_test = pd.read_csv('../data/kaggle_test.csv', index_col=0)\n",
    "X_test = seq_to_num(kg_test.Sequence, pad=False, target_split=False)"
   ]
  },
  {
   "cell_type": "code",
   "execution_count": 83,
   "metadata": {},
   "outputs": [],
   "source": [
    "predictions = poly_predict(X_test, max_deg=20)"
   ]
  },
  {
   "cell_type": "code",
   "execution_count": 86,
   "metadata": {},
   "outputs": [],
   "source": [
    "pred_series = pd.Series(predictions, index=kg_test.index)\n",
    "prep_submit(pred_series, 'submit_poly.csv')"
   ]
  }
 ],
 "metadata": {
  "kernelspec": {
   "display_name": "Python 3",
   "language": "python",
   "name": "python3"
  },
  "language_info": {
   "codemirror_mode": {
    "name": "ipython",
    "version": 3
   },
   "file_extension": ".py",
   "mimetype": "text/x-python",
   "name": "python",
   "nbconvert_exporter": "python",
   "pygments_lexer": "ipython3",
   "version": "3.6.2"
  }
 },
 "nbformat": 4,
 "nbformat_minor": 2
}
