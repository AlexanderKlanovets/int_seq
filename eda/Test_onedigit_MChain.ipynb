{
 "cells": [
  {
   "cell_type": "code",
   "execution_count": 19,
   "metadata": {},
   "outputs": [],
   "source": [
    "import random\n",
    "import numpy as np"
   ]
  },
  {
   "cell_type": "code",
   "execution_count": 73,
   "metadata": {},
   "outputs": [],
   "source": [
    "# 1-st order chain\n",
    "def get_trans_matrix_1(seq):\n",
    "    n = 10\n",
    "    trans_matrix = [[0] * n for _ in range(n)]\n",
    "\n",
    "    for i in range(0, len(seq) - 1):\n",
    "        trans_matrix[int(seq[i])][int(seq[i+1])] += 1\n",
    "\n",
    "    for row in trans_matrix:\n",
    "        occurrences_sum = sum(row)\n",
    "        if occurrences_sum > 0:\n",
    "            row[:] = [el / occurrences_sum for el in row]\n",
    "\n",
    "    return trans_matrix\n",
    "\n",
    "\n",
    "# 2-nd order chain\n",
    "def get_trans_matrix_2(seq):\n",
    "    n = 10\n",
    "    trans_matrix = [[0] * n for _ in range(n * n)]\n",
    "\n",
    "    for i in range(0, len(seq) - 2):\n",
    "        prev_state = int(seq[i]) * 10 + int(seq[i + 1])\n",
    "        curr_state = int(seq[i + 2])\n",
    "        trans_matrix[prev_state][curr_state] += 1\n",
    "\n",
    "    for row in trans_matrix:\n",
    "        occurrences_sum = sum(row)\n",
    "        if occurrences_sum > 0:\n",
    "            row[:] = [el / occurrences_sum for el in row]\n",
    "            if round(sum(row)) > 1:\n",
    "                print(\"error\")\n",
    "\n",
    "    return trans_matrix\n",
    "\n",
    "\n",
    "# 3-rd order chain\n",
    "def get_trans_matrix_3(seq):\n",
    "    n = 10\n",
    "    trans_matrix = [[0] * n for _ in range(n * n * n)]\n",
    "\n",
    "    for i in range(0, len(seq) - 3):\n",
    "        prev_state = int(seq[i]) * 100 + int(seq[i + 1]) * 10 + int(seq[i + 2])\n",
    "        curr_state = int(seq[i + 3])\n",
    "        trans_matrix[prev_state][curr_state] += 1\n",
    "\n",
    "    for row in trans_matrix:\n",
    "        occurrences_sum = sum(row)\n",
    "        if occurrences_sum > 0:\n",
    "            row[:] = [el / occurrences_sum for el in row]\n",
    "            if round(sum(row)) > 1:\n",
    "                print(\"error\")\n",
    "\n",
    "    return trans_matrix\n",
    "\n",
    "\n",
    "# 4-th order chain\n",
    "def get_trans_matrix_4(seq):\n",
    "    n = 10\n",
    "    trans_matrix = [[0] * n for _ in range(n * n * n * n)]\n",
    "    for i in range(0, len(seq) - 4):\n",
    "        prev_state = int(seq[i]) * 1000 + int(seq[i + 1]) * 100\n",
    "        prev_state += int(seq[i + 2]) * 10 + int(seq[i + 3])\n",
    "        curr_state = int(seq[i + 4])\n",
    "        trans_matrix[prev_state][curr_state] += 1\n",
    "\n",
    "    for row in trans_matrix:\n",
    "        occurrences_sum = sum(row)\n",
    "        if occurrences_sum > 0:\n",
    "            row[:] = [el / occurrences_sum for el in row]\n",
    "            if round(sum(row)) > 1:\n",
    "                print(\"error\")\n",
    "\n",
    "    return trans_matrix"
   ]
  },
  {
   "cell_type": "code",
   "execution_count": 74,
   "metadata": {},
   "outputs": [],
   "source": [
    "def transition_matrix(seq, ord):\n",
    "    \"\"\"\n",
    "    Generate transition matrix of given order\n",
    "    \"\"\"\n",
    "    n = 10\n",
    "    trans_matrix = [[0] * n for _ in range(n ** ord)]\n",
    "    for i in range(len(seq) - ord):\n",
    "        prev_state = sum([int(seq[i + _]) * 10 ** (ord - (_ + 1)) for _ in range(ord)])\n",
    "        cur_state = int(seq[i + ord])\n",
    "        trans_matrix[prev_state][cur_state] += 1\n",
    "    \n",
    "    for row in trans_matrix:\n",
    "        oc_sum = sum(row)\n",
    "        if oc_sum > 0:\n",
    "            row[:] = [el / oc_sum for el in row]\n",
    "            if (round(sum(row))) > 1:\n",
    "                print(\"error\")\n",
    "    return trans_matrix"
   ]
  },
  {
   "cell_type": "code",
   "execution_count": 85,
   "metadata": {},
   "outputs": [],
   "source": [
    "def weighted_choice(weights):\n",
    "    totals = []\n",
    "    running_total = 0\n",
    "\n",
    "    for w in weights:\n",
    "        running_total += w\n",
    "        totals.append(running_total)\n",
    "    rnd = random.random() * running_total\n",
    "    for i, total in enumerate(totals):\n",
    "        if rnd < total:\n",
    "            return i\n",
    "    return -1"
   ]
  },
  {
   "cell_type": "code",
   "execution_count": 86,
   "metadata": {},
   "outputs": [],
   "source": [
    "def markov_chain_1_predict(seq):\n",
    "    size = len(seq)\n",
    "    trans_matrix = transition_matrix(seq, 1)\n",
    "    state = int(seq[-2])\n",
    "    return weighted_choice(trans_matrix[state])\n",
    "\n",
    "\n",
    "def markov_chain_2_predict(seq):\n",
    "    size = len(seq)\n",
    "    if size <= 2:\n",
    "        return markov_chain_1_predict(seq)\n",
    "    trans_matrix = transition_matrix(seq, 2)\n",
    "    state = int(seq[-3]) * 10 + int(seq[-2])\n",
    "    return weighted_choice(trans_matrix[state])\n",
    "\n",
    "\n",
    "def markov_chain_3_predict(seq):\n",
    "    size = len(seq)\n",
    "    if size <= 2:\n",
    "        return markov_chain_1_predict(seq)\n",
    "    elif size <= 3:\n",
    "        return markov_chain_2_predict(seq)\n",
    "    trans_matrix = transition_matrix(seq, 3)\n",
    "    state = int(seq[-4]) * 100 + int(seq[-3]) * 10 + int(seq[-2])\n",
    "    return weighted_choice(trans_matrix[state])\n",
    "\n",
    "\n",
    "def markov_chain_4_predict(seq):\n",
    "    size = len(seq)\n",
    "    if size <= 2:\n",
    "        return markov_chain_1_predict(seq)\n",
    "    elif size <= 3:\n",
    "        return markov_chain_2_predict(seq)\n",
    "    elif size <= 4:\n",
    "        return markov_chain_3_predict(seq)\n",
    "    trans_matrix = transition_matrix(seq, 4)\n",
    "    state = int(seq[-5]) * 1000 + int(seq[-4]) * 100 + int(seq[-3]) * 10 + int(seq[-2])\n",
    "    return weighted_choice(trans_matrix[state])"
   ]
  },
  {
   "cell_type": "code",
   "execution_count": 120,
   "metadata": {},
   "outputs": [],
   "source": [
    "def mchain_pred(seq, ord):\n",
    "    size = len(seq)\n",
    "    my_ord = 4\n",
    "    if size <= 2:\n",
    "        my_ord = 1\n",
    "    elif size <= 3:\n",
    "        my_ord = 2\n",
    "    elif size <= 4:\n",
    "        my_ord = 3\n",
    "    ord = min(ord, my_ord)\n",
    "    trans_matrix = transition_matrix(seq, ord)\n",
    "    print(\"ord:\", ord, len(trans_matrix))\n",
    "    print(trans_matrix)\n",
    "    state = sum([int(seq[-(ord - (_))]) * 10 ** (ord - (_ + 1)) for _ in range(ord)])\n",
    "    print(\"state:\", state)\n",
    "    return weighted_choice(trans_matrix[state])"
   ]
  },
  {
   "cell_type": "code",
   "execution_count": 128,
   "metadata": {},
   "outputs": [
    {
     "name": "stdout",
     "output_type": "stream",
     "text": [
      "ord: 1 10\n",
      "[[0, 0, 0, 0, 0, 0, 0, 0, 0, 0], [0.0, 0.0, 1.0, 0.0, 0.0, 0.0, 0.0, 0.0, 0.0, 0.0], [0.0, 0.3333333333333333, 0.0, 0.3333333333333333, 0.0, 0.3333333333333333, 0.0, 0.0, 0.0, 0.0], [0.0, 0.0, 1.0, 0.0, 0.0, 0.0, 0.0, 0.0, 0.0, 0.0], [0, 0, 0, 0, 0, 0, 0, 0, 0, 0], [0, 0, 0, 0, 0, 0, 0, 0, 0, 0], [0, 0, 0, 0, 0, 0, 0, 0, 0, 0], [0, 0, 0, 0, 0, 0, 0, 0, 0, 0], [0, 0, 0, 0, 0, 0, 0, 0, 0, 0], [0, 0, 0, 0, 0, 0, 0, 0, 0, 0]]\n",
      "state: 5\n"
     ]
    },
    {
     "data": {
      "text/plain": [
       "-1"
      ]
     },
     "execution_count": 128,
     "metadata": {},
     "output_type": "execute_result"
    }
   ],
   "source": [
    "mchain_pred([1, 2, 1, 2, 3, 2, 5], 1)"
   ]
  },
  {
   "cell_type": "code",
   "execution_count": null,
   "metadata": {},
   "outputs": [
    {
     "name": "stdout",
     "output_type": "stream",
     "text": [
      "5973\n",
      "Number of correctly predicted digits (1-st order):  2339\n",
      "Algo 1-st order accuracy = 39.160 %\n",
      "Number of correctly predicted digits (2-nd order):  4143\n",
      "Algo 2-nd order accuracy = 69.362 %\n",
      "Number of correctly predicted digits (3-rd order):  5128\n",
      "Algo 3-rd order accuracy = 85.853 %\n"
     ]
    }
   ],
   "source": [
    "import csv\n",
    "\n",
    "def get_one_digit_sequences(path):\n",
    "    one_digit_sequences = []\n",
    "    with open(path, mode='r') as csv_file:\n",
    "        csv_reader = csv.reader(csv_file)\n",
    "        for row in csv_reader:\n",
    "            is_one_digit = True\n",
    "            tmp_seq = row[1].split(',')\n",
    "            for el in tmp_seq:\n",
    "                if len(el) > 1:\n",
    "                    is_one_digit = False\n",
    "                    break\n",
    "            if is_one_digit:\n",
    "                one_digit_sequences.append(''.join(row[1].split(',')))\n",
    "    return one_digit_sequences\n",
    "\n",
    "path = \"../data/train.csv\"\n",
    "one_digit_sequences = get_one_digit_sequences(path)\n",
    "print(len(one_digit_sequences))\n",
    "    # print(one_digit_sequences[2])\n",
    "    # print(\"Predicted digit: \", markov_chain_predict(one_digit_sequences[2]))\n",
    "\n",
    "    # markov_chain_1_predict(one_digit_sequences[0])\n",
    "\n",
    "num_of_predicted = 0\n",
    "for seq in one_digit_sequences:\n",
    "    if mchain_pred(seq, 1) == int(seq[len(seq) - 1]):\n",
    "        num_of_predicted += 1\n",
    "\n",
    "print(\"Number of correctly predicted digits (1-st order): \", num_of_predicted)\n",
    "print(f\"Algo 1-st order accuracy = {num_of_predicted / len(one_digit_sequences) * 100:.3f} %\")\n",
    "\n",
    "counter = 0\n",
    "num_of_predicted = 0\n",
    "for seq in one_digit_sequences:\n",
    "    if mchain_pred(seq, 2) == int(seq[len(seq) - 1]):\n",
    "        num_of_predicted += 1\n",
    "    elif markov_chain_2_predict(seq) == -1:\n",
    "        print(counter)\n",
    "    counter += 1\n",
    "\n",
    "print(\"Number of correctly predicted digits (2-nd order): \", num_of_predicted)\n",
    "print(f\"Algo 2-nd order accuracy = {num_of_predicted / len(one_digit_sequences) * 100:.3f} %\")\n",
    "\n",
    "num_of_predicted = 0\n",
    "for seq in one_digit_sequences:\n",
    "    if mchain_pred(seq, 3) == int(seq[len(seq) - 1]):\n",
    "        num_of_predicted += 1\n",
    "\n",
    "print(\"Number of correctly predicted digits (3-rd order): \", num_of_predicted)\n",
    "print(f\"Algo 3-rd order accuracy = {num_of_predicted / len(one_digit_sequences) * 100:.3f} %\")\n",
    "\n",
    "    \n",
    "num_of_predicted = 0\n",
    "for seq in one_digit_sequences:\n",
    "    if mchain_pred(seq, 4) == int(seq[len(seq) - 1]):\n",
    "        num_of_predicted += 1\n",
    "\n",
    "print(\"Number of correctly predicted digits (4-th order): \", num_of_predicted)\n",
    "print(f\"Algo 4-rd order accuracy = {num_of_predicted / len(one_digit_sequences) * 100:.3f} %\")\n",
    "    "
   ]
  },
  {
   "cell_type": "code",
   "execution_count": 153,
   "metadata": {},
   "outputs": [],
   "source": [
    "import pandas as pd\n",
    "import sys\n",
    "sys.path.append('..')\n",
    "from preproc.filters import single_digit, non_empty\n",
    "from models.mchain import MarkovChain\n",
    "from tools import seq_to_num, acc_score"
   ]
  },
  {
   "cell_type": "code",
   "execution_count": 154,
   "metadata": {},
   "outputs": [],
   "source": [
    "df_train = pd.read_csv(\"../data/train.csv\", index_col=0)"
   ]
  },
  {
   "cell_type": "code",
   "execution_count": 155,
   "metadata": {},
   "outputs": [],
   "source": [
    "X = seq_to_num(df_train.Sequence, target_split=False, pad=False)"
   ]
  },
  {
   "cell_type": "code",
   "execution_count": 156,
   "metadata": {},
   "outputs": [],
   "source": [
    "Xsingle = X[X.map(single_digit) & X.map(lambda seq: len(seq) > 1)]"
   ]
  },
  {
   "cell_type": "code",
   "execution_count": 157,
   "metadata": {},
   "outputs": [],
   "source": [
    "Xs, y = Xsingle.map(lambda seq: seq[:-1]), Xsingle.map(lambda seq: seq[-1])"
   ]
  },
  {
   "cell_type": "code",
   "execution_count": 165,
   "metadata": {},
   "outputs": [],
   "source": [
    "mc = MarkovChain(n_prev=4, verbose=False)"
   ]
  },
  {
   "cell_type": "code",
   "execution_count": 169,
   "metadata": {},
   "outputs": [],
   "source": [
    "_, ind, pred = mc.predict(Xs[:2000])"
   ]
  },
  {
   "cell_type": "code",
   "execution_count": 170,
   "metadata": {},
   "outputs": [
    {
     "data": {
      "text/plain": [
       "0.7428571428571429"
      ]
     },
     "execution_count": 170,
     "metadata": {},
     "output_type": "execute_result"
    }
   ],
   "source": [
    "acc_score(y[ind], pred)"
   ]
  },
  {
   "cell_type": "code",
   "execution_count": 37,
   "metadata": {},
   "outputs": [
    {
     "data": {
      "text/plain": [
       "0.8687426753725096"
      ]
     },
     "execution_count": 37,
     "metadata": {},
     "output_type": "execute_result"
    }
   ],
   "source": [
    "acc_score(Xs.map(lambda seq: seq[-1]), y_pred)"
   ]
  },
  {
   "cell_type": "code",
   "execution_count": 45,
   "metadata": {},
   "outputs": [
    {
     "data": {
      "text/plain": [
       "[(-4, 1000), (-3, 100), (-2, 10), (-1, 1)]"
      ]
     },
     "execution_count": 45,
     "metadata": {},
     "output_type": "execute_result"
    }
   ],
   "source": [
    "[(-_, 10 ** (_ - 1)) for _ in range(4, 0, -1)]"
   ]
  }
 ],
 "metadata": {
  "kernelspec": {
   "display_name": "Python 3",
   "language": "python",
   "name": "python3"
  },
  "language_info": {
   "codemirror_mode": {
    "name": "ipython",
    "version": 3
   },
   "file_extension": ".py",
   "mimetype": "text/x-python",
   "name": "python",
   "nbconvert_exporter": "python",
   "pygments_lexer": "ipython3",
   "version": "3.6.2"
  }
 },
 "nbformat": 4,
 "nbformat_minor": 2
}
