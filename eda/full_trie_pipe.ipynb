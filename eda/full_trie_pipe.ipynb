{
 "cells": [
  {
   "cell_type": "code",
   "execution_count": 23,
   "metadata": {},
   "outputs": [],
   "source": [
    "import pandas as pd\n",
    "import numpy as np\n",
    "from eda.tools import seq_to_num, prep_submit"
   ]
  },
  {
   "cell_type": "code",
   "execution_count": 11,
   "metadata": {},
   "outputs": [],
   "source": [
    "df_test = pd.read_csv('data/kaggle_test.csv', index_col=0)\n",
    "trie_predictions = pd.read_csv('submit/trie_predict.csv', index_col=0)\n",
    "df_unsolved = df_test[~df_test.index.isin(trie_predictions.index)]\n",
    "X_test = seq_to_num(df_unsolved.Sequence, target_split=False, pad=False)"
   ]
  },
  {
   "cell_type": "code",
   "execution_count": 16,
   "metadata": {},
   "outputs": [
    {
     "data": {
      "text/plain": [
       "(61948,)"
      ]
     },
     "execution_count": 16,
     "metadata": {},
     "output_type": "execute_result"
    }
   ],
   "source": [
    "X_test.shape"
   ]
  },
  {
   "cell_type": "code",
   "execution_count": 29,
   "metadata": {},
   "outputs": [],
   "source": [
    "from models.pipeline import Pipeline\n",
    "from models.baseline import Baseline\n",
    "from models.diff_table import DiffTable\n",
    "from models.linear_model import LinearModel\n",
    "from models.nonlinear_model import NonLinearModel\n",
    "from models.markov_chain import MarkovChain\n",
    "from models.lin_reg import LinReg\n",
    "from models.rnn import RNN\n",
    "from preproc.filters import markov_filter, rnn_filter"
   ]
  },
  {
   "cell_type": "code",
   "execution_count": 30,
   "metadata": {},
   "outputs": [],
   "source": [
    "models = [('DT', DiffTable(), None),\n",
    "          ('LRR', LinearModel(), None),\n",
    "          ('NLRR', NonLinearModel(), None),\n",
    "          ('MC', MarkovChain(), markov_filter),\n",
    "          ('LR', LinReg(), None),\n",
    "          ('RNN', RNN(), rnn_filter)]"
   ]
  },
  {
   "cell_type": "code",
   "execution_count": 31,
   "metadata": {},
   "outputs": [],
   "source": [
    "pipe = Pipeline(models, fallback=Baseline(), verbose=True)"
   ]
  },
  {
   "cell_type": "code",
   "execution_count": 32,
   "metadata": {},
   "outputs": [
    {
     "name": "stderr",
     "output_type": "stream",
     "text": [
      "61948it [01:07, 912.16it/s]\n"
     ]
    },
    {
     "name": "stdout",
     "output_type": "stream",
     "text": [
      "solved by DT: 101\n",
      "solved by LRR: 2399\n"
     ]
    },
    {
     "name": "stderr",
     "output_type": "stream",
     "text": [
      "/Users/ptyshevs/udata/int_seq/models/nonlinear_model.py:61: RuntimeWarning: overflow encountered in double_scalars\n",
      "  return [x1 ** 2, x2 ** 2, x1 * x2, x1, x2]\n",
      "/Users/ptyshevs/udata/int_seq/models/nonlinear_model.py:64: RuntimeWarning: overflow encountered in double_scalars\n",
      "  return sum([x[0] ** 2 * solution[0], x[1] ** 2 * solution[1], x[0] * x[1] * solution[2], x[0] * solution[3],\n",
      "/Users/ptyshevs/udata/int_seq/models/nonlinear_model.py:65: RuntimeWarning: overflow encountered in double_scalars\n",
      "  x[1] * solution[4], solution[5]])\n"
     ]
    },
    {
     "name": "stdout",
     "output_type": "stream",
     "text": [
      "solved by NLRR: 94\n"
     ]
    },
    {
     "name": "stderr",
     "output_type": "stream",
     "text": [
      "0it [00:00, ?it/s]/Users/ptyshevs/envs/loc_env/lib/python3.6/site-packages/sklearn/linear_model/base.py:485: RuntimeWarning: internal gelsd driver lwork query error, required iwork dimension not returned. This is likely the result of LAPACK bug 0038, fixed in LAPACK 3.2.2 (released July 21, 2010). Falling back to 'gelss' driver.\n",
      "  linalg.lstsq(X, y)\n",
      "1it [00:00,  8.52it/s]"
     ]
    },
    {
     "name": "stdout",
     "output_type": "stream",
     "text": [
      "solved by MC: 592\n"
     ]
    },
    {
     "name": "stderr",
     "output_type": "stream",
     "text": [
      "40401it [05:14, 123.12it/s]/Users/ptyshevs/envs/loc_env/lib/python3.6/site-packages/scipy/linalg/basic.py:1250: RuntimeWarning: overflow encountered in square\n",
      "  resids = np.sum(np.abs(x[n:])**2, axis=0)\n",
      "58762it [07:40, 127.68it/s]\n"
     ]
    },
    {
     "name": "stdout",
     "output_type": "stream",
     "text": [
      "solved by LR: 23582\n",
      "solved by RNN: 4125\n",
      "solved by fallback-model Baseline(function=mode): 31055\n"
     ]
    }
   ],
   "source": [
    "pred = pipe.predict(X_test)"
   ]
  },
  {
   "cell_type": "code",
   "execution_count": 33,
   "metadata": {},
   "outputs": [],
   "source": [
    "trie_pred = trie_predictions.Last.astype('float64')"
   ]
  },
  {
   "cell_type": "code",
   "execution_count": 34,
   "metadata": {},
   "outputs": [],
   "source": [
    "full_pred = pd.concat([trie_pred, pred])[df_test.index]"
   ]
  },
  {
   "cell_type": "code",
   "execution_count": 35,
   "metadata": {},
   "outputs": [],
   "source": [
    "prep_submit(full_pred)"
   ]
  }
 ],
 "metadata": {
  "kernelspec": {
   "display_name": "Python 3",
   "language": "python",
   "name": "python3"
  },
  "language_info": {
   "codemirror_mode": {
    "name": "ipython",
    "version": 3
   },
   "file_extension": ".py",
   "mimetype": "text/x-python",
   "name": "python",
   "nbconvert_exporter": "python",
   "pygments_lexer": "ipython3",
   "version": "3.6.2"
  }
 },
 "nbformat": 4,
 "nbformat_minor": 2
}
