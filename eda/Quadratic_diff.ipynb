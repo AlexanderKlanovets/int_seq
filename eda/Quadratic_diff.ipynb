{
 "cells": [
  {
   "cell_type": "code",
   "execution_count": 1,
   "metadata": {},
   "outputs": [],
   "source": [
    "import numpy as np\n",
    "import pandas as pd\n",
    "from tools import seq_to_num, acc_score, prep_submit"
   ]
  },
  {
   "cell_type": "code",
   "execution_count": 2,
   "metadata": {},
   "outputs": [],
   "source": [
    "df_train = pd.read_csv(\"../data/train.csv\", index_col=0)\n",
    "df_test = pd.read_csv('../data/test.csv', index_col=0)"
   ]
  },
  {
   "cell_type": "code",
   "execution_count": 3,
   "metadata": {},
   "outputs": [
    {
     "name": "stderr",
     "output_type": "stream",
     "text": [
      "Using TensorFlow backend.\n"
     ]
    }
   ],
   "source": [
    "X_train, y_train = seq_to_num(df_train.Sequence, pad=False)"
   ]
  },
  {
   "cell_type": "code",
   "execution_count": 24,
   "metadata": {},
   "outputs": [],
   "source": [
    "def good_len(data):\n",
    "    \"\"\"\n",
    "    filter out seqences which have good length increase\n",
    "    \"\"\"\n",
    "    for seq in data:\n",
    "        lengths = [len(f\"{_:.0f}\") for _ in seq]\n",
    "        if lengths.count(1) == len(lengths):\n",
    "            print(\"Sequence of single-digit numbers\")\n",
    "            continue\n",
    "        seq_good = True\n",
    "        for cur, next in zip(lengths, lengths[1:]):\n",
    "            pred_length = cur * 2\n",
    "            if abs(next - pred_length) > 1:\n",
    "                seq_good = False\n",
    "                break\n",
    "        if seq_good:\n",
    "            print(f\"Good seq: {seq[:5]}\")\n",
    "        "
   ]
  },
  {
   "cell_type": "code",
   "execution_count": 25,
   "metadata": {},
   "outputs": [
    {
     "name": "stdout",
     "output_type": "stream",
     "text": [
      "Sequence of single-digit numbers\n",
      "Sequence of single-digit numbers\n",
      "Sequence of single-digit numbers\n",
      "Good seq: [101.]\n",
      "Sequence of single-digit numbers\n",
      "Sequence of single-digit numbers\n",
      "Good seq: [1.000e+00 2.000e+00 6.000e+00 4.000e+01 1.608e+03]\n",
      "Sequence of single-digit numbers\n",
      "Good seq: [ 3.  6. 63.]\n",
      "Good seq: [2.000e+00 2.300e+01 2.357e+03]\n"
     ]
    }
   ],
   "source": [
    "good_len(X_train[:100])"
   ]
  },
  {
   "cell_type": "code",
   "execution_count": 88,
   "metadata": {},
   "outputs": [],
   "source": [
    "import sys\n",
    "sys.path.append('..')\n",
    "from models.diff_table import DiffTable"
   ]
  },
  {
   "cell_type": "code",
   "execution_count": 114,
   "metadata": {},
   "outputs": [],
   "source": [
    "def quad_good(data, verbose=False, stoplen=2):\n",
    "    \"\"\"\n",
    "    a_n = a_{n-1} ** 2 + c\n",
    "    \n",
    "    Note:\n",
    "        - Works only for monotonically increasing sequences.\n",
    "        - Encapsulates all sequences solved by DiffTable\n",
    "    \"\"\"\n",
    "    sequences = []\n",
    "    indices = []\n",
    "    predictions = []\n",
    "    ind_iter = data.index if isinstance(data, (np.ndarray, pd.Series)) else range(len(data))\n",
    "    for seq, ind in zip(data, ind_iter):\n",
    "        if len(seq) < stoplen:\n",
    "            continue\n",
    "        divisor = seq[0] - 1\n",
    "        if divisor == 0 and len(seq) > 1:\n",
    "            divisor = seq[1] - 1\n",
    "        if divisor == 0:\n",
    "            continue\n",
    "        diffs = [(next - cur) / divisor for cur, next in zip(seq, seq[1:])]\n",
    "        if len(diffs) < stoplen:\n",
    "            continue\n",
    "        if np.all([np.isclose(prev, diff) for prev, diff  in zip(seq, diffs)]):\n",
    "            if verbose:\n",
    "                print(f\"Good seq: {seq[:5]}\")\n",
    "            sequences.append(seq)\n",
    "            indices.append(ind)\n",
    "            predictions.append(seq[-1] * (divisor + 1))\n",
    "            continue\n",
    "        quad_diffs = [(next - cur ** 2) for cur, next in zip(seq, seq[1:])]\n",
    "        _, _, pred = DiffTable().predict([quad_diffs], maxstep=10, stoplen=stoplen)\n",
    "        if len(pred) > 0:\n",
    "            if verbose:\n",
    "                print(f\"a_n = a_n-1^2 + {pred[0]}, {ind}: {seq[:5]}\")\n",
    "            sequences.append(seq)\n",
    "            indices.append(ind)\n",
    "            predictions.append(seq[-1] ** 2 + pred[0])\n",
    "    return sequences, indices, predictions"
   ]
  },
  {
   "cell_type": "code",
   "execution_count": 54,
   "metadata": {},
   "outputs": [
    {
     "data": {
      "text/plain": [
       "(41822,)"
      ]
     },
     "execution_count": 54,
     "metadata": {},
     "output_type": "execute_result"
    }
   ],
   "source": [
    "X_train[X_train.map(is_increasing)].shape"
   ]
  },
  {
   "cell_type": "code",
   "execution_count": 131,
   "metadata": {},
   "outputs": [
    {
     "data": {
      "text/plain": [
       "(41822,)"
      ]
     },
     "execution_count": 131,
     "metadata": {},
     "output_type": "execute_result"
    }
   ],
   "source": [
    "X_increase = X_train[X_train.map(is_increasing)]\n",
    "X_increase.shape"
   ]
  },
  {
   "cell_type": "code",
   "execution_count": null,
   "metadata": {},
   "outputs": [],
   "source": []
  },
  {
   "cell_type": "code",
   "execution_count": 134,
   "metadata": {},
   "outputs": [],
   "source": [
    "seq_diff, ind_diff, pred_diff = DiffTable().predict(X_increase, maxstep=10, stoplen=10)"
   ]
  },
  {
   "cell_type": "code",
   "execution_count": 159,
   "metadata": {},
   "outputs": [],
   "source": [
    "X_unsolved = X_increase[~X_increase.index.isin(ind_diff)]"
   ]
  },
  {
   "cell_type": "code",
   "execution_count": 160,
   "metadata": {},
   "outputs": [
    {
     "data": {
      "text/plain": [
       "(39678,)"
      ]
     },
     "execution_count": 160,
     "metadata": {},
     "output_type": "execute_result"
    }
   ],
   "source": [
    "X_unsolved.shape"
   ]
  },
  {
   "cell_type": "code",
   "execution_count": 161,
   "metadata": {},
   "outputs": [],
   "source": [
    "seq, ind, pred = quad_good(X_unsolved, stoplen=10, verbose=False)"
   ]
  },
  {
   "cell_type": "code",
   "execution_count": 162,
   "metadata": {},
   "outputs": [
    {
     "data": {
      "text/plain": [
       "25"
      ]
     },
     "execution_count": 162,
     "metadata": {},
     "output_type": "execute_result"
    }
   ],
   "source": [
    "len(ind)"
   ]
  },
  {
   "cell_type": "code",
   "execution_count": 156,
   "metadata": {},
   "outputs": [
    {
     "name": "stdout",
     "output_type": "stream",
     "text": [
      "1208/1233 are already predicted by common differences\n"
     ]
    }
   ],
   "source": [
    "cnt = 0\n",
    "y_ind, pred_int = [], []\n",
    "for pred_i, i in enumerate(ind):\n",
    "    if i in ind_diff:\n",
    "        cnt += 1\n",
    "    else:\n",
    "        pred_int.append(pred_i)\n",
    "        y_ind.append(i)\n",
    "print(f\"{cnt}/{len(ind)} are already predicted by common differences\")"
   ]
  },
  {
   "cell_type": "code",
   "execution_count": 157,
   "metadata": {},
   "outputs": [
    {
     "data": {
      "text/plain": [
       "1233"
      ]
     },
     "execution_count": 157,
     "metadata": {},
     "output_type": "execute_result"
    }
   ],
   "source": [
    "len(ind)"
   ]
  },
  {
   "cell_type": "code",
   "execution_count": 163,
   "metadata": {},
   "outputs": [
    {
     "data": {
      "text/plain": [
       "0.68"
      ]
     },
     "execution_count": 163,
     "metadata": {},
     "output_type": "execute_result"
    }
   ],
   "source": [
    "acc_score(y_train[ind], pred)"
   ]
  },
  {
   "cell_type": "code",
   "execution_count": 170,
   "metadata": {},
   "outputs": [
    {
     "data": {
      "text/plain": [
       "([[0, 3, 8, 15, 24]], [0], [35])"
      ]
     },
     "execution_count": 170,
     "metadata": {},
     "output_type": "execute_result"
    }
   ],
   "source": [
    "DiffTable().predict([[0, 3, 8, 15, 24]])"
   ]
  },
  {
   "cell_type": "code",
   "execution_count": 52,
   "metadata": {},
   "outputs": [],
   "source": [
    "is_increasing = lambda seq: np.all([cur < next for cur, next in zip(seq, seq[1:])])"
   ]
  },
  {
   "cell_type": "code",
   "execution_count": 164,
   "metadata": {},
   "outputs": [
    {
     "data": {
      "text/plain": [
       "([], [], [])"
      ]
     },
     "execution_count": 164,
     "metadata": {},
     "output_type": "execute_result"
    }
   ],
   "source": [
    "quad_good([[0, 3, 8, 15]])"
   ]
  }
 ],
 "metadata": {
  "kernelspec": {
   "display_name": "Python 3",
   "language": "python",
   "name": "python3"
  },
  "language_info": {
   "codemirror_mode": {
    "name": "ipython",
    "version": 3
   },
   "file_extension": ".py",
   "mimetype": "text/x-python",
   "name": "python",
   "nbconvert_exporter": "python",
   "pygments_lexer": "ipython3",
   "version": "3.6.2"
  }
 },
 "nbformat": 4,
 "nbformat_minor": 2
}
