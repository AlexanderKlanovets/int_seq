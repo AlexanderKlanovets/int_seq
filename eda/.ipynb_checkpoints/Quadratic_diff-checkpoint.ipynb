{
 "cells": [
  {
   "cell_type": "code",
   "execution_count": 1,
   "metadata": {},
   "outputs": [],
   "source": [
    "import numpy as np\n",
    "import pandas as pd\n",
    "from tools import seq_to_num, acc_score, prep_submit"
   ]
  },
  {
   "cell_type": "code",
   "execution_count": 2,
   "metadata": {},
   "outputs": [],
   "source": [
    "df_train = pd.read_csv(\"../data/train.csv\", index_col=0)\n",
    "df_test = pd.read_csv('../data/test.csv', index_col=0)"
   ]
  },
  {
   "cell_type": "code",
   "execution_count": 3,
   "metadata": {},
   "outputs": [
    {
     "name": "stderr",
     "output_type": "stream",
     "text": [
      "Using TensorFlow backend.\n"
     ]
    }
   ],
   "source": [
    "X_train, y_train = seq_to_num(df_train.Sequence, pad=False)"
   ]
  },
  {
   "cell_type": "code",
   "execution_count": 24,
   "metadata": {},
   "outputs": [],
   "source": [
    "def good_len(data):\n",
    "    \"\"\"\n",
    "    filter out seqences which have good length increase\n",
    "    \"\"\"\n",
    "    for seq in data:\n",
    "        lengths = [len(f\"{_:.0f}\") for _ in seq]\n",
    "        if lengths.count(1) == len(lengths):\n",
    "            print(\"Sequence of single-digit numbers\")\n",
    "            continue\n",
    "        seq_good = True\n",
    "        for cur, next in zip(lengths, lengths[1:]):\n",
    "            pred_length = cur * 2\n",
    "            if abs(next - pred_length) > 1:\n",
    "                seq_good = False\n",
    "                break\n",
    "        if seq_good:\n",
    "            print(f\"Good seq: {seq[:5]}\")\n",
    "        "
   ]
  },
  {
   "cell_type": "code",
   "execution_count": 25,
   "metadata": {},
   "outputs": [
    {
     "name": "stdout",
     "output_type": "stream",
     "text": [
      "Sequence of single-digit numbers\n",
      "Sequence of single-digit numbers\n",
      "Sequence of single-digit numbers\n",
      "Good seq: [101.]\n",
      "Sequence of single-digit numbers\n",
      "Sequence of single-digit numbers\n",
      "Good seq: [1.000e+00 2.000e+00 6.000e+00 4.000e+01 1.608e+03]\n",
      "Sequence of single-digit numbers\n",
      "Good seq: [ 3.  6. 63.]\n",
      "Good seq: [2.000e+00 2.300e+01 2.357e+03]\n"
     ]
    }
   ],
   "source": [
    "good_len(X_train[:100])"
   ]
  },
  {
   "cell_type": "code",
   "execution_count": 16,
   "metadata": {},
   "outputs": [
    {
     "data": {
      "text/plain": [
       "Id\n",
       "222447    [10.0, 11.0, 12.0, 13.0, 14.0, 15.0, 16.0, 17....\n",
       "Name: Sequence, dtype: object"
      ]
     },
     "execution_count": 16,
     "metadata": {},
     "output_type": "execute_result"
    }
   ],
   "source": [
    "X_train[:1]"
   ]
  },
  {
   "cell_type": "code",
   "execution_count": 50,
   "metadata": {},
   "outputs": [],
   "source": [
    "def quad_good(data):\n",
    "    good_seq = []\n",
    "    for seq in data:\n",
    "        if len(seq) < 2:\n",
    "            continue\n",
    "        divisor = seq[0] - 1\n",
    "        if divisor == 0 and len(seq) > 1:\n",
    "            divisor = seq[1] - 1\n",
    "        if divisor == 0:\n",
    "            continue\n",
    "        diffs = [(next - cur) / divisor for cur, next in zip(seq, seq[1:])]\n",
    "        if np.all([np.isclose(prev, diff) for prev, diff  in zip(seq, diffs)]):\n",
    "            print(f\"Good seq: {seq[:5]}\")\n",
    "            good_seq.append(seq)\n",
    "    return good_seq"
   ]
  },
  {
   "cell_type": "code",
   "execution_count": 51,
   "metadata": {},
   "outputs": [
    {
     "name": "stdout",
     "output_type": "stream",
     "text": [
      "Good seq: [1.00000000e+00 4.86000000e+02 2.36195000e+05 1.14790284e+08\n",
      " 5.57878418e+10]\n",
      "Good seq: [1.000000e+00 4.100000e+01 1.681000e+03 6.892100e+04 2.825761e+06]\n",
      "Good seq: [ 1.  2.  4.  8. 16.]\n",
      "Good seq: [ 1. 25.]\n",
      "Good seq: [ 1.  2.  4.  8. 16.]\n",
      "Good seq: [ 1. 47.]\n",
      "Good seq: [1.00000000e+00 2.99792458e+08 8.98755179e+16 2.69440024e+25\n",
      " 8.07760871e+33]\n",
      "Good seq: [1. 2. 4.]\n",
      "Good seq: [  1. 254.]\n",
      "Good seq: [1. 5.]\n",
      "Good seq: [ 1.  6. 36.]\n",
      "Good seq: [1.000000e+00 4.500000e+01 2.025000e+03 9.112500e+04 4.100625e+06]\n",
      "Good seq: [1.000e+00 2.951e+03]\n",
      "Good seq: [ 1.  9. 81.]\n",
      "Good seq: [1. 6.]\n",
      "Good seq: [1.000000e+00 1.001000e+03 1.002001e+06 1.003003e+09 1.004006e+12]\n",
      "Good seq: [1. 2. 4.]\n",
      "Good seq: [1. 9.]\n",
      "Good seq: [1.000e+00 6.000e+01 3.600e+03 2.160e+05 1.296e+07]\n",
      "Good seq: [8.0000e+00 6.4000e+01 5.1200e+02 4.0960e+03 3.2768e+04]\n",
      "Good seq: [1.00000000e+00 1.01000000e+02 1.02010000e+04 1.03030100e+06\n",
      " 1.04060401e+08]\n",
      "Good seq: [1.00000000e+00 5.31000000e+02 2.81960000e+05 1.49720229e+08\n",
      " 7.95011596e+10]\n",
      "Good seq: [1.e+00 1.e+01 1.e+02 1.e+03 1.e+04]\n",
      "Good seq: [1.e+00 1.e+03 1.e+06 1.e+09 1.e+12]\n",
      "Good seq: [1.00000000e+00 1.67000000e+02 2.78890000e+04 4.65746300e+06\n",
      " 7.77796321e+08]\n",
      "Good seq: [1.00000000e+00 1.00000000e+09 9.99999999e+17 1.00000000e+27\n",
      " 1.00000000e+36]\n",
      "Good seq: [ 1.  2.  4.  8. 16.]\n",
      "Good seq: [1.00000000e+00 4.56249900e+06 2.08163926e+13 9.49747494e+19\n",
      " 4.33322104e+26]\n",
      "Good seq: [0. 0. 0.]\n",
      "Good seq: [1. 4.]\n",
      "Good seq: [ 1.  3.  9. 27. 81.]\n",
      "Good seq: [1.00000e+00 3.10000e+01 9.61000e+02 2.97910e+04 9.23521e+05]\n",
      "Good seq: [1. 0. 0. 0. 0.]\n",
      "Good seq: [  1.   4.  16.  64. 256.]\n",
      "Good seq: [ 9. 81.]\n",
      "Good seq: [  1. 253.]\n",
      "Good seq: [1.000000e+00 1.000001e+06 1.000003e+12 1.000005e+18 1.000007e+24]\n",
      "Good seq: [ 1.  2.  4.  8. 16.]\n",
      "Good seq: [  1. 126.]\n",
      "Good seq: [1. 3.]\n",
      "Good seq: [ 1.  2.  4.  8. 16.]\n",
      "Good seq: [1.00000e+00 2.70000e+01 7.29000e+02 1.96830e+04 5.31441e+05]\n",
      "Good seq: [1.000000e+00 4.800000e+01 2.304000e+03 1.105920e+05 5.308416e+06]\n",
      "Good seq: [1.0000000e+00 6.4000000e+01 4.0960000e+03 2.6214400e+05 1.6777216e+07]\n",
      "Good seq: [1.00000000e+00 7.86000000e+02 6.17795000e+05 4.85586084e+08\n",
      " 3.81670044e+11]\n",
      "Good seq: [1.00000000e+00 4.53060000e+05 2.05263364e+11 9.29966195e+16]\n",
      "Good seq: [1.00e+00 5.00e+01 2.50e+03 1.25e+05 6.25e+06]\n",
      "Good seq: [1.00000000e+00 4.56249700e+06 2.08163834e+13 9.49747078e+19\n",
      " 4.33321914e+26]\n",
      "Good seq: [1.000000e+00 3.500000e+01 1.225000e+03 4.287500e+04 1.500625e+06]\n",
      "Good seq: [1.00000e+00 2.60000e+01 6.76000e+02 1.75760e+04 4.56972e+05]\n",
      "Good seq: [ 1. 17.]\n",
      "Good seq: [  1. 256.]\n",
      "Good seq: [1.000000e+00 3.600000e+01 1.296000e+03 4.665600e+04 1.679616e+06]\n",
      "Good seq: [ 1. 63.]\n",
      "Good seq: [  1. 179.]\n",
      "Good seq: [ 1. 15.]\n",
      "Good seq: [1. 2. 4. 8.]\n",
      "Good seq: [1.000000e+00 4.400000e+01 1.936000e+03 8.518400e+04 3.748096e+06]\n",
      "Good seq: [1. 0. 0. 0. 0.]\n",
      "Good seq: [1.00000000e+00 6.27000000e+02 3.93128000e+05 2.46490629e+08\n",
      " 1.54549231e+11]\n",
      "Good seq: [1.600000e+01 2.560000e+02 4.096000e+03 6.553600e+04 1.048576e+06]\n",
      "Good seq: [1.e+00 1.e+02 1.e+04 1.e+06 1.e+08]\n",
      "Good seq: [1. 2. 4.]\n",
      "Good seq: [1.00000000e+00 8.39000000e+02 7.03921000e+05 5.90589719e+08\n",
      " 4.95504774e+11]\n",
      "Good seq: [1.000e+00 9.000e+00 8.100e+01 7.290e+02 6.561e+03]\n",
      "Good seq: [1. 2. 4.]\n",
      "Good seq: [1. 0. 0.]\n",
      "Good seq: [  1. 390.]\n",
      "Good seq: [ 1. 14.]\n"
     ]
    }
   ],
   "source": [
    "seq = quad_good(X_train)"
   ]
  },
  {
   "cell_type": "code",
   "execution_count": 52,
   "metadata": {},
   "outputs": [
    {
     "data": {
      "text/plain": [
       "69"
      ]
     },
     "execution_count": 52,
     "metadata": {},
     "output_type": "execute_result"
    }
   ],
   "source": [
    "len(seq)"
   ]
  }
 ],
 "metadata": {
  "kernelspec": {
   "display_name": "Python 3",
   "language": "python",
   "name": "python3"
  },
  "language_info": {
   "codemirror_mode": {
    "name": "ipython",
    "version": 3
   },
   "file_extension": ".py",
   "mimetype": "text/x-python",
   "name": "python",
   "nbconvert_exporter": "python",
   "pygments_lexer": "ipython3",
   "version": "3.6.5"
  }
 },
 "nbformat": 4,
 "nbformat_minor": 2
}
