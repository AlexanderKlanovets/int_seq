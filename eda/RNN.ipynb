{
 "cells": [
  {
   "cell_type": "code",
   "execution_count": 1,
   "metadata": {},
   "outputs": [],
   "source": [
    "import numpy as np\n",
    "import pandas as pd\n",
    "from tools import seq_to_num, acc_score"
   ]
  },
  {
   "cell_type": "code",
   "execution_count": 29,
   "metadata": {},
   "outputs": [],
   "source": [
    "df_train = pd.read_csv('../data/kaggle_train.csv', index_col=0)\n",
    "X_train, y_train = seq_to_num(df_train.Sequence, pad=False)"
   ]
  },
  {
   "cell_type": "code",
   "execution_count": 4,
   "metadata": {},
   "outputs": [],
   "source": [
    "value_counts = {}\n",
    "for seq in X_train:\n",
    "    for val, count in zip(*np.unique(seq, return_counts=True)):\n",
    "        if val not in value_counts:\n",
    "            value_counts[val] = count\n",
    "        else:\n",
    "            value_counts[val] += count"
   ]
  },
  {
   "cell_type": "code",
   "execution_count": 5,
   "metadata": {},
   "outputs": [],
   "source": [
    "sorted_counts = sorted(value_counts.items(), key=lambda x: x[1], reverse=True)"
   ]
  },
  {
   "cell_type": "code",
   "execution_count": 27,
   "metadata": {},
   "outputs": [
    {
     "data": {
      "text/plain": [
       "416016"
      ]
     },
     "execution_count": 27,
     "metadata": {},
     "output_type": "execute_result"
    }
   ],
   "source": [
    "len(sorted_counts)"
   ]
  },
  {
   "cell_type": "code",
   "execution_count": 14,
   "metadata": {},
   "outputs": [
    {
     "data": {
      "text/plain": [
       "2422707"
      ]
     },
     "execution_count": 14,
     "metadata": {},
     "output_type": "execute_result"
    }
   ],
   "source": [
    "sum([count for val, count in sorted_counts if val < 1000])"
   ]
  },
  {
   "cell_type": "code",
   "execution_count": 30,
   "metadata": {},
   "outputs": [],
   "source": [
    "X_under = X_train.map(lambda seq: np.all([0 <= x < 1000 for x in seq]))\n",
    "y_under = y_train.map(lambda val: 0 <= val < 1000)"
   ]
  },
  {
   "cell_type": "code",
   "execution_count": 31,
   "metadata": {},
   "outputs": [],
   "source": [
    "X_under1000 = X_train[X_under & y_under]\n",
    "y_under1000 = np.expand_dims(y_train[X_under & y_under], -1)"
   ]
  },
  {
   "cell_type": "code",
   "execution_count": 32,
   "metadata": {},
   "outputs": [
    {
     "data": {
      "text/plain": [
       "((35147,), (35147, 1))"
      ]
     },
     "execution_count": 32,
     "metadata": {},
     "output_type": "execute_result"
    }
   ],
   "source": [
    "X_under1000.shape, y_under1000.shape"
   ]
  },
  {
   "cell_type": "code",
   "execution_count": 33,
   "metadata": {},
   "outputs": [],
   "source": [
    "# pad sequences\n",
    "from keras.preprocessing.sequence import pad_sequences"
   ]
  },
  {
   "cell_type": "code",
   "execution_count": 34,
   "metadata": {},
   "outputs": [],
   "source": [
    "med_length = int(np.median(X_under1000.map(lambda seq: len(seq))))"
   ]
  },
  {
   "cell_type": "code",
   "execution_count": 35,
   "metadata": {},
   "outputs": [],
   "source": [
    "Xp_under1000 = pad_sequences(X_under1000, maxlen=med_length, dtype='int32')\n",
    "Xp_under1000 = np.expand_dims(Xp_under1000, 2)"
   ]
  },
  {
   "cell_type": "code",
   "execution_count": 36,
   "metadata": {},
   "outputs": [
    {
     "data": {
      "text/plain": [
       "(35147, 69, 1)"
      ]
     },
     "execution_count": 36,
     "metadata": {},
     "output_type": "execute_result"
    }
   ],
   "source": [
    "Xp_under1000.shape"
   ]
  },
  {
   "cell_type": "code",
   "execution_count": 37,
   "metadata": {},
   "outputs": [],
   "source": [
    "from keras.models import Sequential\n",
    "from keras.layers import Embedding, GRU, LSTM, Dropout, TimeDistributed, Dense, Flatten\n",
    "def build_graph(seqlen):\n",
    "    model = Sequential()\n",
    "#     model.add(Embedding(seqlen, 300, mask_zero=True))\n",
    "    model.add(GRU(128, input_shape=(seqlen, 1)))\n",
    "    model.add(Dense(1000, activation='softmax'))\n",
    "    return model"
   ]
  },
  {
   "cell_type": "code",
   "execution_count": 38,
   "metadata": {},
   "outputs": [],
   "source": [
    "m = build_graph(med_length)"
   ]
  },
  {
   "cell_type": "code",
   "execution_count": 39,
   "metadata": {},
   "outputs": [],
   "source": [
    "m.compile('adam', 'sparse_categorical_crossentropy', metrics=['accuracy'])"
   ]
  },
  {
   "cell_type": "code",
   "execution_count": 42,
   "metadata": {},
   "outputs": [
    {
     "name": "stdout",
     "output_type": "stream",
     "text": [
      "Epoch 1/2\n",
      "35147/35147 [==============================] - 47s 1ms/step - loss: 3.5608 - acc: 0.1672\n",
      "Epoch 2/2\n",
      "35147/35147 [==============================] - 51s 1ms/step - loss: 3.5138 - acc: 0.1700\n"
     ]
    }
   ],
   "source": [
    "hist = m.fit(Xp_under1000, y_under1000, 32, epochs=14)"
   ]
  },
  {
   "cell_type": "code",
   "execution_count": 44,
   "metadata": {},
   "outputs": [],
   "source": [
    "m.save_weights('../models/rnn_weights.h5')"
   ]
  },
  {
   "cell_type": "code",
   "execution_count": 20,
   "metadata": {},
   "outputs": [],
   "source": [
    "df_test = pd.read_csv('../data/test.csv', index_col=0)\n",
    "test_X, test_y = seq_to_num(df_test.Sequence, pad=False)"
   ]
  },
  {
   "cell_type": "code",
   "execution_count": 196,
   "metadata": {},
   "outputs": [],
   "source": [
    "def rnn_prep_data(X, seqlen, y=None, minval=0, maxval=1000, pad=True):\n",
    "    under_x = X.map(lambda seq: np.all([minval <= x < maxval for x in seq]))\n",
    "    if y is not None:\n",
    "        under_y = y.map(lambda val: minval <= val < maxval)\n",
    "        X = X[under_x & under_y]\n",
    "        X = pad_sequences(X, maxlen=seqlen, dtype='int32')\n",
    "        X = np.expand_dims(X, 2)\n",
    "        y = np.expand_dims(y[under_x & under_y], -1)\n",
    "        return X, y\n",
    "    else:\n",
    "        X = X[under_x]\n",
    "        ind = X.index\n",
    "        if pad:\n",
    "            X = pad_sequences(X, maxlen=seqlen, dtype='int32')\n",
    "            X = np.expand_dims(X, 2)\n",
    "        return X, ind"
   ]
  },
  {
   "cell_type": "code",
   "execution_count": 23,
   "metadata": {},
   "outputs": [],
   "source": [
    "X_test, y_test = rnn_prep_data(test_X, test_y, med_length)"
   ]
  },
  {
   "cell_type": "code",
   "execution_count": 69,
   "metadata": {},
   "outputs": [],
   "source": [
    "pred = m.predict(X_test)\n",
    "pred = np.argmax(pred, axis=1)"
   ]
  },
  {
   "cell_type": "code",
   "execution_count": 70,
   "metadata": {},
   "outputs": [
    {
     "data": {
      "text/plain": [
       "0.14337533409698358"
      ]
     },
     "execution_count": 70,
     "metadata": {},
     "output_type": "execute_result"
    }
   ],
   "source": [
    "acc_score(y_test, pred)"
   ]
  },
  {
   "cell_type": "code",
   "execution_count": 178,
   "metadata": {},
   "outputs": [],
   "source": [
    "def gen_seq(data, seqlen=68, batch_size=32):\n",
    "    while True:\n",
    "        s = data.sample(batch_size)\n",
    "        X = np.zeros((batch_size, seqlen), dtype=np.int32)\n",
    "        y = np.zeros((batch_size), dtype=np.int32)\n",
    "        for ind, (seq, i) in enumerate(zip(s, s.index)):\n",
    "            if len(seq) < seqlen + 1:\n",
    "                s[i] = np.hstack(([0] * (seqlen - (len(seq) - 1)), seq))\n",
    "                X[ind] = s[i][:-1]\n",
    "                y[ind] = s[i][-1]\n",
    "            else:\n",
    "                start = np.random.randint(len(seq) - seqlen)\n",
    "                s[i] = seq[start:start+seqlen + 1]\n",
    "                X[ind] = s[i][:-1]\n",
    "                y[ind] = s[i][-1]\n",
    "        yield np.expand_dims(X, 2), np.expand_dims(y, 1)"
   ]
  },
  {
   "cell_type": "code",
   "execution_count": 258,
   "metadata": {},
   "outputs": [],
   "source": [
    "whole_data = pd.read_csv('../data/kaggle_train.csv', index_col=0)\n",
    "whole_seq = seq_to_num(whole_data.Sequence, pad=False, target_split=False)"
   ]
  },
  {
   "cell_type": "code",
   "execution_count": 259,
   "metadata": {},
   "outputs": [],
   "source": [
    "test_data = pd.read_csv('../data/kaggle_test.csv', index_col=0)\n",
    "test_seq = seq_to_num(test_data.Sequence, pad=False, pad_maxlen=40, pad_adaptive=False, target_split=False)"
   ]
  },
  {
   "cell_type": "code",
   "execution_count": 263,
   "metadata": {},
   "outputs": [],
   "source": [
    "combined = pd.concat((whole_seq, test_seq))"
   ]
  },
  {
   "cell_type": "code",
   "execution_count": 267,
   "metadata": {},
   "outputs": [],
   "source": [
    "whole_X, ind = rnn_prep_data(combined, 68, pad=False)"
   ]
  },
  {
   "cell_type": "code",
   "execution_count": 268,
   "metadata": {},
   "outputs": [
    {
     "data": {
      "text/plain": [
       "(71151,)"
      ]
     },
     "execution_count": 268,
     "metadata": {},
     "output_type": "execute_result"
    }
   ],
   "source": [
    "whole_X.shape"
   ]
  },
  {
   "cell_type": "code",
   "execution_count": 271,
   "metadata": {},
   "outputs": [],
   "source": [
    "test_prep, ind = rnn_prep_data(test_seq, seqlen=40, pad=True)"
   ]
  },
  {
   "cell_type": "code",
   "execution_count": 269,
   "metadata": {},
   "outputs": [],
   "source": [
    "mod2 = build_graph(40)\n",
    "mod2.compile('adam', 'sparse_categorical_crossentropy', metrics=['accuracy'])"
   ]
  },
  {
   "cell_type": "code",
   "execution_count": 270,
   "metadata": {},
   "outputs": [
    {
     "name": "stderr",
     "output_type": "stream",
     "text": [
      "/Users/ptyshevs/envs/loc_env/lib/python3.6/site-packages/keras/utils/data_utils.py:651: DeprecationWarning: `wait_time` is not used anymore.\n",
      "  DeprecationWarning)\n"
     ]
    },
    {
     "name": "stdout",
     "output_type": "stream",
     "text": [
      "Epoch 1/5\n",
      "1000/1000 [==============================] - 100s 100ms/step - loss: 4.5091 - acc: 0.0802\n",
      "Epoch 2/5\n",
      "1000/1000 [==============================] - 97s 97ms/step - loss: 4.0018 - acc: 0.1018\n",
      "Epoch 3/5\n",
      "1000/1000 [==============================] - 96s 96ms/step - loss: 3.8422 - acc: 0.1127\n",
      "Epoch 4/5\n",
      "1000/1000 [==============================] - 96s 96ms/step - loss: 3.7385 - acc: 0.1189\n",
      "Epoch 5/5\n",
      "1000/1000 [==============================] - 96s 96ms/step - loss: 3.6919 - acc: 0.1218\n"
     ]
    }
   ],
   "source": [
    "hist = mod2.fit_generator(gen_seq(whole_X, seqlen=40), steps_per_epoch=1000, epochs=5)"
   ]
  },
  {
   "cell_type": "code",
   "execution_count": 273,
   "metadata": {},
   "outputs": [],
   "source": [
    "predictions = mod2.predict(test_prep)"
   ]
  },
  {
   "cell_type": "code",
   "execution_count": 274,
   "metadata": {},
   "outputs": [],
   "source": [
    "predictions = np.argmax(predictions, axis=1)"
   ]
  },
  {
   "cell_type": "code",
   "execution_count": 276,
   "metadata": {},
   "outputs": [],
   "source": [
    "data_unprocessed = test_seq[~test_seq.index.isin(ind)]"
   ]
  },
  {
   "cell_type": "code",
   "execution_count": 204,
   "metadata": {},
   "outputs": [],
   "source": [
    "import sys\n",
    "sys.path.append('..')"
   ]
  },
  {
   "cell_type": "code",
   "execution_count": 205,
   "metadata": {},
   "outputs": [],
   "source": [
    "from models.rec_rel import LinRecRel\n",
    "from models.diff_table import DiffTable\n",
    "from models.baseline import Baseline\n",
    "from models.pipeline import Pipeline"
   ]
  },
  {
   "cell_type": "code",
   "execution_count": 277,
   "metadata": {},
   "outputs": [],
   "source": [
    "models = [('DT', DiffTable(stoplen=4, maxstep=10)),\n",
    "          ('LRR', LinRecRel(max_order=3, minlen=20))]\n",
    "fallback = Baseline()\n",
    "pipe = Pipeline(models, fallback)\n",
    "pipe_predicted = pipe.predict(data_unprocessed)"
   ]
  },
  {
   "cell_type": "code",
   "execution_count": 278,
   "metadata": {},
   "outputs": [],
   "source": [
    "whole_predict = pd.Series(np.zeros(len(test_data)), index=test_data.index)"
   ]
  },
  {
   "cell_type": "code",
   "execution_count": 279,
   "metadata": {},
   "outputs": [],
   "source": [
    "whole_predict[ind] = predictions"
   ]
  },
  {
   "cell_type": "code",
   "execution_count": 280,
   "metadata": {},
   "outputs": [],
   "source": [
    "whole_predict[pipe_predicted.index] = pipe_predicted"
   ]
  },
  {
   "cell_type": "code",
   "execution_count": 281,
   "metadata": {},
   "outputs": [],
   "source": [
    "from tools import prep_submit"
   ]
  },
  {
   "cell_type": "code",
   "execution_count": 282,
   "metadata": {},
   "outputs": [],
   "source": [
    "prep_submit(whole_predict)"
   ]
  }
 ],
 "metadata": {
  "kernelspec": {
   "display_name": "Python 3",
   "language": "python",
   "name": "python3"
  },
  "language_info": {
   "codemirror_mode": {
    "name": "ipython",
    "version": 3
   },
   "file_extension": ".py",
   "mimetype": "text/x-python",
   "name": "python",
   "nbconvert_exporter": "python",
   "pygments_lexer": "ipython3",
   "version": "3.6.2"
  }
 },
 "nbformat": 4,
 "nbformat_minor": 2
}
